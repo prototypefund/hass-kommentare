{
 "cells": [
  {
   "cell_type": "code",
   "execution_count": 1,
   "metadata": {},
   "outputs": [],
   "source": [
    "%load_ext autoreload"
   ]
  },
  {
   "cell_type": "code",
   "execution_count": 2,
   "metadata": {},
   "outputs": [],
   "source": [
    "import hyperhyper as hy\n",
    "import numpy as np\n",
    "import logging\n",
    "import sys\n",
    "logging.basicConfig(stream=sys.stdout, level=logging.DEBUG)"
   ]
  },
  {
   "cell_type": "code",
   "execution_count": 3,
   "metadata": {},
   "outputs": [],
   "source": [
    "year = '2010'"
   ]
  },
  {
   "cell_type": "code",
   "execution_count": 4,
   "metadata": {},
   "outputs": [
    {
     "name": "stdout",
     "output_type": "stream",
     "text": [
      "INFO:gensim.utils:loading Corpus object from /mnt/data2/ptf/bunches/b2010/corpus.pkl\n",
      "DEBUG:smart_open.smart_open_lib:{'transport_params': {}, 'ignore_ext': False, 'opener': None, 'closefd': True, 'newline': None, 'errors': None, 'encoding': None, 'buffering': -1, 'mode': 'rb', 'uri': '/mnt/data2/ptf/bunches/b2010/corpus.pkl'}\n",
      "INFO:gensim.utils:loading vocab recursively from /mnt/data2/ptf/bunches/b2010/corpus.pkl.vocab.* with mmap=None\n",
      "INFO:gensim.utils:loaded /mnt/data2/ptf/bunches/b2010/corpus.pkl\n"
     ]
    },
    {
     "name": "stderr",
     "output_type": "stream",
     "text": [
      "/home/filter/anaconda3/envs/hyperhyper/lib/python3.6/site-packages/smart_open/smart_open_lib.py:398: UserWarning: This function is deprecated, use smart_open.open instead. See the migration notes for details: https://github.com/RaRe-Technologies/smart_open/blob/master/README.rst#migrating-to-the-new-open-function\n",
      "  'See the migration notes for details: %s' % _MIGRATION_NOTES_URL\n"
     ]
    }
   ],
   "source": [
    "# c = hy.Corpus.from_file(f'/mnt/data2/ptf/groups/zo_{year}.txt')\n",
    "# bunch = hy.Bunch(f'/mnt/data2/ptf/bunches/b{year}', c)\n",
    "bunch = hy.Bunch(f'/mnt/data2/ptf/bunches/b{year}')"
   ]
  },
  {
   "cell_type": "code",
   "execution_count": 18,
   "metadata": {},
   "outputs": [
    {
     "name": "stdout",
     "output_type": "stream",
     "text": [
      "INFO:hyperhyper.bunch:create new svd\n",
      "INFO:hyperhyper.bunch:retrieved already saved pmi\n",
      "INFO:gensim.models.lsimodel:using 11 extra samples and 5 power iterations\n",
      "INFO:gensim.models.lsimodel:1st phase: constructing (50001, 511) action matrix\n",
      "INFO:gensim.models.lsimodel:orthonormalizing (50001, 511) action matrix\n",
      "DEBUG:gensim.matutils:computing QR of (50001, 511) dense matrix\n",
      "DEBUG:gensim.models.lsimodel:running 5 power iterations\n",
      "DEBUG:gensim.matutils:computing QR of (50001, 511) dense matrix\n",
      "DEBUG:gensim.matutils:computing QR of (50001, 511) dense matrix\n",
      "DEBUG:gensim.matutils:computing QR of (50001, 511) dense matrix\n",
      "DEBUG:gensim.matutils:computing QR of (50001, 511) dense matrix\n",
      "DEBUG:gensim.matutils:computing QR of (50001, 511) dense matrix\n",
      "INFO:gensim.models.lsimodel:2nd phase: running dense svd on (511, 50001) matrix\n",
      "INFO:gensim.models.lsimodel:computing the final decomposition\n",
      "INFO:gensim.models.lsimodel:keeping 500 factors (discarding 1.324% of energy spectrum)\n",
      "INFO:hyperhyper.bunch:svd took 87.77773268299643 seconds\n",
      "svd\n",
      "{'micro': 0.16389340717323886, 'macro': 0.2466196340102047, 'results': [{'name': 'bruni_men', 'score': 0.06692537350726428, 'oov': 0.807}, {'name': 'ws353', 'score': 0.2523958439202186, 'oov': 0.5807365439093485}, {'name': 'ws353_relatedness', 'score': 0.2745023754671635, 'oov': 0.5952380952380952}, {'name': 'radinsky_mturk', 'score': 0.5225923462249118, 'oov': 0.7874564459930313}, {'name': 'luong_rare', 'score': 0.05303488714404859, 'oov': 0.9847590953785644}, {'name': 'ws353_similarity', 'score': 0.31026697779762136, 'oov': 0.5517241379310345}]}\n"
     ]
    }
   ],
   "source": [
    "for neg in [16]:\n",
    "    for dim in [500]:\n",
    "        for eig in [0.2]:\n",
    "            _, res = bunch.svd(impl='gensim', impl_args={'extra_dims': 11 }, pair_args={'subsample_deter': True, 'subsample_factor': 1e-5, 'delete_oov': True, 'window': 5, 'weighted_window': True}, neg=neg, eig=eig, dim=dim)\n",
    "            print(res)"
   ]
  },
  {
   "cell_type": "code",
   "execution_count": null,
   "metadata": {},
   "outputs": [],
   "source": [
    "for factor in [1e-5, 5e-4, 1e-4]:\n",
    "    for window in range(2, 4):\n",
    "        for neg in range(1, 20):\n",
    "            for dim in [500, 400, 600]:\n",
    "                for eig in np.arange(0.0, 0.5, 0.05):\n",
    "                    _, res = bunch.svd(impl='gensim', pair_args={'subsample_deter': True, 'subsample_factor': factor, 'delete_oov': True, 'window': window, 'weighted_window': True}, neg=neg, eig=eig, dim=dim)\n",
    "                    print(res)"
   ]
  },
  {
   "cell_type": "code",
   "execution_count": null,
   "metadata": {},
   "outputs": [],
   "source": []
  },
  {
   "cell_type": "code",
   "execution_count": null,
   "metadata": {},
   "outputs": [],
   "source": []
  },
  {
   "cell_type": "code",
   "execution_count": null,
   "metadata": {},
   "outputs": [],
   "source": [
    "m_svd"
   ]
  },
  {
   "cell_type": "code",
   "execution_count": null,
   "metadata": {},
   "outputs": [],
   "source": []
  }
 ],
 "metadata": {
  "kernelspec": {
   "display_name": "Python 3",
   "language": "python",
   "name": "python3"
  },
  "language_info": {
   "codemirror_mode": {
    "name": "ipython",
    "version": 3
   },
   "file_extension": ".py",
   "mimetype": "text/x-python",
   "name": "python",
   "nbconvert_exporter": "python",
   "pygments_lexer": "ipython3",
   "version": "3.6.8"
  }
 },
 "nbformat": 4,
 "nbformat_minor": 2
}
