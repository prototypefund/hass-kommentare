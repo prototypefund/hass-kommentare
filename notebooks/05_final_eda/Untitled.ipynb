{
 "cells": [
  {
   "cell_type": "code",
   "execution_count": 5,
   "metadata": {},
   "outputs": [],
   "source": [
    "from pathlib import Path\n",
    "import hyperhyper as hy\n",
    "import pandas as pd\n",
    "import gensim"
   ]
  },
  {
   "cell_type": "code",
   "execution_count": 6,
   "metadata": {},
   "outputs": [],
   "source": [
    "def setup_pairs(p):\n",
    "    lines = p.split('\\n')\n",
    "\n",
    "    lines = [x.split() for x in lines]\n",
    "\n",
    "    results = []\n",
    "    for l in lines:\n",
    "        if len(l) == 0:\n",
    "            continue\n",
    "        tokens = l[0].split('|')[:0]\n",
    "        if len(l) == 3:\n",
    "            tokens += l[2].split(',')\n",
    "        tokens = [t.lower() for t in tokens]\n",
    "        score = abs(float(l[1]))\n",
    "        if score > 0.5:\n",
    "            results.append([tokens, score])\n",
    "    return results\n",
    "\n",
    "t_neg = setup_pairs(Path('/mnt/data/datasets/de/sentiment/SentiWS_v2.0_Negative.txt').read_text())\n",
    "\n",
    "t_pos = setup_pairs(Path('/mnt/data/datasets/de/sentiment/SentiWS_v2.0_Positive.txt').read_text())"
   ]
  },
  {
   "cell_type": "code",
   "execution_count": 7,
   "metadata": {},
   "outputs": [],
   "source": [
    "t_pos = [x[0] for x in t_pos]\n",
    "\n",
    "t_pos = gensim.utils.flatten(t_pos)"
   ]
  },
  {
   "cell_type": "code",
   "execution_count": 8,
   "metadata": {},
   "outputs": [],
   "source": [
    "t_neg = [x[0] for x in t_neg]\n",
    "\n",
    "t_neg = gensim.utils.flatten(t_neg)\n"
   ]
  },
  {
   "cell_type": "code",
   "execution_count": 9,
   "metadata": {},
   "outputs": [],
   "source": [
    "df = pd.read_pickle('/mnt/data/datasets/zeit-online/zo-comments-df.pkl')"
   ]
  },
  {
   "cell_type": "code",
   "execution_count": 10,
   "metadata": {},
   "outputs": [],
   "source": [
    "df['year'] = df['date'].apply(lambda x: x.year)"
   ]
  },
  {
   "cell_type": "code",
   "execution_count": 11,
   "metadata": {},
   "outputs": [
    {
     "data": {
      "text/html": [
       "<div>\n",
       "<style scoped>\n",
       "    .dataframe tbody tr th:only-of-type {\n",
       "        vertical-align: middle;\n",
       "    }\n",
       "\n",
       "    .dataframe tbody tr th {\n",
       "        vertical-align: top;\n",
       "    }\n",
       "\n",
       "    .dataframe thead th {\n",
       "        text-align: right;\n",
       "    }\n",
       "</style>\n",
       "<table border=\"1\" class=\"dataframe\">\n",
       "  <thead>\n",
       "    <tr style=\"text-align: right;\">\n",
       "      <th></th>\n",
       "      <th>date</th>\n",
       "      <th>text</th>\n",
       "      <th>url</th>\n",
       "      <th>year</th>\n",
       "    </tr>\n",
       "  </thead>\n",
       "  <tbody>\n",
       "    <tr>\n",
       "      <th>0</th>\n",
       "      <td>2019-06-11 08:00:00</td>\n",
       "      <td>Hätten die Italiener noch die Lira, würden Sie...</td>\n",
       "      <td>https://www.zeit.de/politik/ausland/2019-06/it...</td>\n",
       "      <td>2019</td>\n",
       "    </tr>\n",
       "    <tr>\n",
       "      <th>1</th>\n",
       "      <td>2019-06-11 08:00:00</td>\n",
       "      <td>Welche Wirtschaft sollen die Italiener denn an...</td>\n",
       "      <td>https://www.zeit.de/politik/ausland/2019-06/it...</td>\n",
       "      <td>2019</td>\n",
       "    </tr>\n",
       "    <tr>\n",
       "      <th>2</th>\n",
       "      <td>2019-06-11 08:00:00</td>\n",
       "      <td>Italien geht es viel schlechter als vorher und...</td>\n",
       "      <td>https://www.zeit.de/politik/ausland/2019-06/it...</td>\n",
       "      <td>2019</td>\n",
       "    </tr>\n",
       "    <tr>\n",
       "      <th>3</th>\n",
       "      <td>2019-06-11 09:00:00</td>\n",
       "      <td>Solange das die exportorientierte italienische...</td>\n",
       "      <td>https://www.zeit.de/politik/ausland/2019-06/it...</td>\n",
       "      <td>2019</td>\n",
       "    </tr>\n",
       "    <tr>\n",
       "      <th>4</th>\n",
       "      <td>2019-06-11 09:00:00</td>\n",
       "      <td>Wenn es bei uns mal richtig schlecht läuft, sa...</td>\n",
       "      <td>https://www.zeit.de/politik/ausland/2019-06/it...</td>\n",
       "      <td>2019</td>\n",
       "    </tr>\n",
       "    <tr>\n",
       "      <th>5</th>\n",
       "      <td>2019-06-11 10:00:00</td>\n",
       "      <td>\"Wenn es bei uns mal richtig schlecht läuft, s...</td>\n",
       "      <td>https://www.zeit.de/politik/ausland/2019-06/it...</td>\n",
       "      <td>2019</td>\n",
       "    </tr>\n",
       "    <tr>\n",
       "      <th>6</th>\n",
       "      <td>2019-06-11 09:00:00</td>\n",
       "      <td>Ach , Conte  gibts auch noch?\\nHat der noch  u...</td>\n",
       "      <td>https://www.zeit.de/politik/ausland/2019-06/it...</td>\n",
       "      <td>2019</td>\n",
       "    </tr>\n",
       "    <tr>\n",
       "      <th>7</th>\n",
       "      <td>2019-06-11 09:00:00</td>\n",
       "      <td>Fürchte nur, dass  Salvini in wieder schnell i...</td>\n",
       "      <td>https://www.zeit.de/politik/ausland/2019-06/it...</td>\n",
       "      <td>2019</td>\n",
       "    </tr>\n",
       "    <tr>\n",
       "      <th>8</th>\n",
       "      <td>2019-06-06 12:00:00</td>\n",
       "      <td>Entfernt. Bitte verzichten Sie auf überzogene ...</td>\n",
       "      <td>https://www.zeit.de/digital/internet/2019-05/k...</td>\n",
       "      <td>2019</td>\n",
       "    </tr>\n",
       "    <tr>\n",
       "      <th>9</th>\n",
       "      <td>2019-06-07 12:00:00</td>\n",
       "      <td>Der Kommentar, auf den Sie Bezug nehmen, wurde...</td>\n",
       "      <td>https://www.zeit.de/digital/internet/2019-05/k...</td>\n",
       "      <td>2019</td>\n",
       "    </tr>\n",
       "    <tr>\n",
       "      <th>10</th>\n",
       "      <td>2019-06-06 12:00:00</td>\n",
       "      <td>Künstliche Intelligenz mit Funklöchern und feh...</td>\n",
       "      <td>https://www.zeit.de/digital/internet/2019-05/k...</td>\n",
       "      <td>2019</td>\n",
       "    </tr>\n",
       "    <tr>\n",
       "      <th>11</th>\n",
       "      <td>2019-06-06 12:00:00</td>\n",
       "      <td>So ärgerlich der Zustand der deutschen Netzinf...</td>\n",
       "      <td>https://www.zeit.de/digital/internet/2019-05/k...</td>\n",
       "      <td>2019</td>\n",
       "    </tr>\n",
       "    <tr>\n",
       "      <th>12</th>\n",
       "      <td>2019-06-06 12:00:00</td>\n",
       "      <td>\"...Wie kann die Bundesregierung doch noch obe...</td>\n",
       "      <td>https://www.zeit.de/digital/internet/2019-05/k...</td>\n",
       "      <td>2019</td>\n",
       "    </tr>\n",
       "    <tr>\n",
       "      <th>13</th>\n",
       "      <td>2019-06-06 12:00:00</td>\n",
       "      <td>Wohl eher über BTX.</td>\n",
       "      <td>https://www.zeit.de/digital/internet/2019-05/k...</td>\n",
       "      <td>2019</td>\n",
       "    </tr>\n",
       "    <tr>\n",
       "      <th>14</th>\n",
       "      <td>2019-06-06 12:00:00</td>\n",
       "      <td>also ja Geld für Studien über ... dies und das...</td>\n",
       "      <td>https://www.zeit.de/digital/internet/2019-05/k...</td>\n",
       "      <td>2019</td>\n",
       "    </tr>\n",
       "    <tr>\n",
       "      <th>15</th>\n",
       "      <td>2019-06-09 12:00:00</td>\n",
       "      <td>\"Diese Illustration zeigt einen ferngesteuerte...</td>\n",
       "      <td>https://www.zeit.de/wissen/2019-06/raumfahrt-m...</td>\n",
       "      <td>2019</td>\n",
       "    </tr>\n",
       "    <tr>\n",
       "      <th>16</th>\n",
       "      <td>2019-06-10 12:00:00</td>\n",
       "      <td>Sollte der Lander ohne Fernsteuerung autonom l...</td>\n",
       "      <td>https://www.zeit.de/wissen/2019-06/raumfahrt-m...</td>\n",
       "      <td>2019</td>\n",
       "    </tr>\n",
       "    <tr>\n",
       "      <th>17</th>\n",
       "      <td>2019-06-09 12:00:00</td>\n",
       "      <td>Spannende Entwicklung.\\nHoffentlich wird das n...</td>\n",
       "      <td>https://www.zeit.de/wissen/2019-06/raumfahrt-m...</td>\n",
       "      <td>2019</td>\n",
       "    </tr>\n",
       "    <tr>\n",
       "      <th>18</th>\n",
       "      <td>2019-06-10 12:00:00</td>\n",
       "      <td>Marktwirtschaft bzw. Wettbewerb ist ein Irrweg...</td>\n",
       "      <td>https://www.zeit.de/wissen/2019-06/raumfahrt-m...</td>\n",
       "      <td>2019</td>\n",
       "    </tr>\n",
       "    <tr>\n",
       "      <th>19</th>\n",
       "      <td>2019-06-09 12:00:00</td>\n",
       "      <td>\"Erstmals eine Frau ..... zum Mond schicken\"\\n...</td>\n",
       "      <td>https://www.zeit.de/wissen/2019-06/raumfahrt-m...</td>\n",
       "      <td>2019</td>\n",
       "    </tr>\n",
       "    <tr>\n",
       "      <th>20</th>\n",
       "      <td>2019-06-09 12:00:00</td>\n",
       "      <td>Wovon? Das Frauen auf den Mond geschossen werd...</td>\n",
       "      <td>https://www.zeit.de/wissen/2019-06/raumfahrt-m...</td>\n",
       "      <td>2019</td>\n",
       "    </tr>\n",
       "    <tr>\n",
       "      <th>21</th>\n",
       "      <td>2019-06-09 12:00:00</td>\n",
       "      <td>Ob es Leben auf dem Mond gibt?</td>\n",
       "      <td>https://www.zeit.de/wissen/2019-06/raumfahrt-m...</td>\n",
       "      <td>2019</td>\n",
       "    </tr>\n",
       "    <tr>\n",
       "      <th>22</th>\n",
       "      <td>2019-06-09 12:00:00</td>\n",
       "      <td>Sollten die Nasa-Mission vor einem halben Jahr...</td>\n",
       "      <td>https://www.zeit.de/wissen/2019-06/raumfahrt-m...</td>\n",
       "      <td>2019</td>\n",
       "    </tr>\n",
       "    <tr>\n",
       "      <th>23</th>\n",
       "      <td>2019-06-10 12:00:00</td>\n",
       "      <td>Das erklärt auf jeden Fall die heftigen Angrif...</td>\n",
       "      <td>https://www.zeit.de/2019/23/umweltaktivismus-a...</td>\n",
       "      <td>2019</td>\n",
       "    </tr>\n",
       "    <tr>\n",
       "      <th>24</th>\n",
       "      <td>2019-06-10 12:00:00</td>\n",
       "      <td>Der WWF hat mit Kriminellen zusammen gearbeitet.</td>\n",
       "      <td>https://www.zeit.de/2019/23/umweltaktivismus-a...</td>\n",
       "      <td>2019</td>\n",
       "    </tr>\n",
       "    <tr>\n",
       "      <th>25</th>\n",
       "      <td>2019-06-10 12:00:00</td>\n",
       "      <td>Dieser Staudamm dürfte Fluchtursachen bekämpfe...</td>\n",
       "      <td>https://www.zeit.de/2019/23/umweltaktivismus-a...</td>\n",
       "      <td>2019</td>\n",
       "    </tr>\n",
       "    <tr>\n",
       "      <th>26</th>\n",
       "      <td>2019-06-10 12:00:00</td>\n",
       "      <td>Oder neue her vor rufen.</td>\n",
       "      <td>https://www.zeit.de/2019/23/umweltaktivismus-a...</td>\n",
       "      <td>2019</td>\n",
       "    </tr>\n",
       "    <tr>\n",
       "      <th>27</th>\n",
       "      <td>2019-06-10 12:00:00</td>\n",
       "      <td>\"Die AfD wünschte sich ein Gasturbinenkraftwer...</td>\n",
       "      <td>https://www.zeit.de/2019/23/umweltaktivismus-a...</td>\n",
       "      <td>2019</td>\n",
       "    </tr>\n",
       "    <tr>\n",
       "      <th>28</th>\n",
       "      <td>2019-06-10 12:00:00</td>\n",
       "      <td>Fluchtursachen? Seit wann gehört Tansania plöt...</td>\n",
       "      <td>https://www.zeit.de/2019/23/umweltaktivismus-a...</td>\n",
       "      <td>2019</td>\n",
       "    </tr>\n",
       "    <tr>\n",
       "      <th>29</th>\n",
       "      <td>2019-06-10 12:00:00</td>\n",
       "      <td>Entfernt. Bitte verzichten Sie auf überzogene ...</td>\n",
       "      <td>https://www.zeit.de/2019/23/umweltaktivismus-a...</td>\n",
       "      <td>2019</td>\n",
       "    </tr>\n",
       "    <tr>\n",
       "      <th>...</th>\n",
       "      <td>...</td>\n",
       "      <td>...</td>\n",
       "      <td>...</td>\n",
       "      <td>...</td>\n",
       "    </tr>\n",
       "    <tr>\n",
       "      <th>15384637</th>\n",
       "      <td>2018-05-10 17:55:00</td>\n",
       "      <td>Ja, ich habe einige der von Ihnen (unter ander...</td>\n",
       "      <td>https://www.zeit.de/wirtschaft/2018-05/us-sank...</td>\n",
       "      <td>2018</td>\n",
       "    </tr>\n",
       "    <tr>\n",
       "      <th>15384638</th>\n",
       "      <td>2018-05-10 20:09:00</td>\n",
       "      <td>Notwendig, nicht befremdlich. Autokraten, mit ...</td>\n",
       "      <td>https://www.zeit.de/wirtschaft/2018-05/us-sank...</td>\n",
       "      <td>2018</td>\n",
       "    </tr>\n",
       "    <tr>\n",
       "      <th>15384639</th>\n",
       "      <td>2018-07-11 12:00:00</td>\n",
       "      <td>Gibt es z.B. bei Kniespiegelungen. Da wurden l...</td>\n",
       "      <td>https://www.zeit.de/wissen/gesundheit/2018-07/...</td>\n",
       "      <td>2018</td>\n",
       "    </tr>\n",
       "    <tr>\n",
       "      <th>15384640</th>\n",
       "      <td>2018-07-11 12:00:00</td>\n",
       "      <td>Ich auch nicht. Ist vielleicht schon korrigier...</td>\n",
       "      <td>https://www.zeit.de/wissen/gesundheit/2018-07/...</td>\n",
       "      <td>2018</td>\n",
       "    </tr>\n",
       "    <tr>\n",
       "      <th>15384641</th>\n",
       "      <td>2018-07-11 12:00:00</td>\n",
       "      <td>Ja. So wir es sein.</td>\n",
       "      <td>https://www.zeit.de/wissen/gesundheit/2018-07/...</td>\n",
       "      <td>2018</td>\n",
       "    </tr>\n",
       "    <tr>\n",
       "      <th>15384642</th>\n",
       "      <td>2018-07-11 12:00:00</td>\n",
       "      <td>Ist korrigiert worden. Greift aber leider imme...</td>\n",
       "      <td>https://www.zeit.de/wissen/gesundheit/2018-07/...</td>\n",
       "      <td>2018</td>\n",
       "    </tr>\n",
       "    <tr>\n",
       "      <th>15384643</th>\n",
       "      <td>2018-07-11 12:00:00</td>\n",
       "      <td>Sie haben völlig Recht.</td>\n",
       "      <td>https://www.zeit.de/wissen/gesundheit/2018-07/...</td>\n",
       "      <td>2018</td>\n",
       "    </tr>\n",
       "    <tr>\n",
       "      <th>15384644</th>\n",
       "      <td>2018-07-11 12:00:00</td>\n",
       "      <td>Und die falsche Verwendung von \"ansonsten\", wo...</td>\n",
       "      <td>https://www.zeit.de/wissen/gesundheit/2018-07/...</td>\n",
       "      <td>2018</td>\n",
       "    </tr>\n",
       "    <tr>\n",
       "      <th>15384645</th>\n",
       "      <td>2018-07-11 12:00:00</td>\n",
       "      <td>//ich habe dann aus eigener tasche physio, aku...</td>\n",
       "      <td>https://www.zeit.de/wissen/gesundheit/2018-07/...</td>\n",
       "      <td>2018</td>\n",
       "    </tr>\n",
       "    <tr>\n",
       "      <th>15384646</th>\n",
       "      <td>2018-07-11 12:00:00</td>\n",
       "      <td>Für Beschwerden, die tatsächlich von einer knö...</td>\n",
       "      <td>https://www.zeit.de/wissen/gesundheit/2018-07/...</td>\n",
       "      <td>2018</td>\n",
       "    </tr>\n",
       "    <tr>\n",
       "      <th>15384647</th>\n",
       "      <td>2018-07-11 12:00:00</td>\n",
       "      <td>Sehr schön für sie, das freut mich. Akupunktur...</td>\n",
       "      <td>https://www.zeit.de/wissen/gesundheit/2018-07/...</td>\n",
       "      <td>2018</td>\n",
       "    </tr>\n",
       "    <tr>\n",
       "      <th>15384648</th>\n",
       "      <td>2018-07-11 12:00:00</td>\n",
       "      <td>Hab's probiert, stimmt nicht</td>\n",
       "      <td>https://www.zeit.de/wissen/gesundheit/2018-07/...</td>\n",
       "      <td>2018</td>\n",
       "    </tr>\n",
       "    <tr>\n",
       "      <th>15384649</th>\n",
       "      <td>2018-07-11 12:00:00</td>\n",
       "      <td>//Hab's probiert, stimmt nicht//\\nWomit es erw...</td>\n",
       "      <td>https://www.zeit.de/wissen/gesundheit/2018-07/...</td>\n",
       "      <td>2018</td>\n",
       "    </tr>\n",
       "    <tr>\n",
       "      <th>15384650</th>\n",
       "      <td>2018-07-11 12:00:00</td>\n",
       "      <td>Eine Plazebotherapie muss nicht nicht helfen.</td>\n",
       "      <td>https://www.zeit.de/wissen/gesundheit/2018-07/...</td>\n",
       "      <td>2018</td>\n",
       "    </tr>\n",
       "    <tr>\n",
       "      <th>15384651</th>\n",
       "      <td>2018-07-11 12:00:00</td>\n",
       "      <td>\"Hab's probiert, stimmt nicht\"\\nAchso, gut, da...</td>\n",
       "      <td>https://www.zeit.de/wissen/gesundheit/2018-07/...</td>\n",
       "      <td>2018</td>\n",
       "    </tr>\n",
       "    <tr>\n",
       "      <th>15384652</th>\n",
       "      <td>2018-07-11 12:00:00</td>\n",
       "      <td>Ach wie süß ein Medizinstudent: Dann solle er ...</td>\n",
       "      <td>https://www.zeit.de/wissen/gesundheit/2018-07/...</td>\n",
       "      <td>2018</td>\n",
       "    </tr>\n",
       "    <tr>\n",
       "      <th>15384653</th>\n",
       "      <td>2018-07-11 12:00:00</td>\n",
       "      <td>Ob der Herr Journalist weiß worüber er schreib...</td>\n",
       "      <td>https://www.zeit.de/wissen/gesundheit/2018-07/...</td>\n",
       "      <td>2018</td>\n",
       "    </tr>\n",
       "    <tr>\n",
       "      <th>15384654</th>\n",
       "      <td>2018-07-11 12:00:00</td>\n",
       "      <td>Ein Heilpraktiker ( ich würde keinen aufsuchen...</td>\n",
       "      <td>https://www.zeit.de/wissen/gesundheit/2018-07/...</td>\n",
       "      <td>2018</td>\n",
       "    </tr>\n",
       "    <tr>\n",
       "      <th>15384655</th>\n",
       "      <td>2018-07-11 12:00:00</td>\n",
       "      <td>Shit happens, aber mein Beileid zu Ihrem Krank...</td>\n",
       "      <td>https://www.zeit.de/wissen/gesundheit/2018-07/...</td>\n",
       "      <td>2018</td>\n",
       "    </tr>\n",
       "    <tr>\n",
       "      <th>15384656</th>\n",
       "      <td>2018-07-11 12:00:00</td>\n",
       "      <td>Ein Heilpraktiker operiert nicht!</td>\n",
       "      <td>https://www.zeit.de/wissen/gesundheit/2018-07/...</td>\n",
       "      <td>2018</td>\n",
       "    </tr>\n",
       "    <tr>\n",
       "      <th>15384657</th>\n",
       "      <td>2018-07-11 12:00:00</td>\n",
       "      <td>Danke für Ihre netten Worte. Warum es zur Naht...</td>\n",
       "      <td>https://www.zeit.de/wissen/gesundheit/2018-07/...</td>\n",
       "      <td>2018</td>\n",
       "    </tr>\n",
       "    <tr>\n",
       "      <th>15384658</th>\n",
       "      <td>2018-07-11 12:00:00</td>\n",
       "      <td>Ich habe Verständnis für jegliche Fehler die p...</td>\n",
       "      <td>https://www.zeit.de/wissen/gesundheit/2018-07/...</td>\n",
       "      <td>2018</td>\n",
       "    </tr>\n",
       "    <tr>\n",
       "      <th>15384659</th>\n",
       "      <td>2018-07-11 12:00:00</td>\n",
       "      <td>\"Ein Heilpraktiker ( ich würde keinen aufsuche...</td>\n",
       "      <td>https://www.zeit.de/wissen/gesundheit/2018-07/...</td>\n",
       "      <td>2018</td>\n",
       "    </tr>\n",
       "    <tr>\n",
       "      <th>15384660</th>\n",
       "      <td>2018-07-11 12:00:00</td>\n",
       "      <td>Dem stimme ich zu. Die Synergie von Schulmediz...</td>\n",
       "      <td>https://www.zeit.de/wissen/gesundheit/2018-07/...</td>\n",
       "      <td>2018</td>\n",
       "    </tr>\n",
       "    <tr>\n",
       "      <th>15384661</th>\n",
       "      <td>2018-07-11 12:00:00</td>\n",
       "      <td>\"Ein Heilpraktiker ( ich würde keinen aufsuche...</td>\n",
       "      <td>https://www.zeit.de/wissen/gesundheit/2018-07/...</td>\n",
       "      <td>2018</td>\n",
       "    </tr>\n",
       "    <tr>\n",
       "      <th>15384662</th>\n",
       "      <td>2018-07-11 12:00:00</td>\n",
       "      <td>Danke.</td>\n",
       "      <td>https://www.zeit.de/wissen/gesundheit/2018-07/...</td>\n",
       "      <td>2018</td>\n",
       "    </tr>\n",
       "    <tr>\n",
       "      <th>15384663</th>\n",
       "      <td>2018-07-11 12:00:00</td>\n",
       "      <td>Eine Nahtinsuffizienz ist gar nicht so selten....</td>\n",
       "      <td>https://www.zeit.de/wissen/gesundheit/2018-07/...</td>\n",
       "      <td>2018</td>\n",
       "    </tr>\n",
       "    <tr>\n",
       "      <th>15384664</th>\n",
       "      <td>2018-07-11 12:00:00</td>\n",
       "      <td>Entfernt. Bitte belegen Sie Ihre Behauptungen ...</td>\n",
       "      <td>https://www.zeit.de/wissen/gesundheit/2018-07/...</td>\n",
       "      <td>2018</td>\n",
       "    </tr>\n",
       "    <tr>\n",
       "      <th>15384665</th>\n",
       "      <td>2018-07-11 12:00:00</td>\n",
       "      <td>Niemand ist fehlerfrei. Eine Binsenweisheit. D...</td>\n",
       "      <td>https://www.zeit.de/wissen/gesundheit/2018-07/...</td>\n",
       "      <td>2018</td>\n",
       "    </tr>\n",
       "    <tr>\n",
       "      <th>15384666</th>\n",
       "      <td>2018-07-11 12:00:00</td>\n",
       "      <td>Dann lesen Sie mal das Manifest des Münsterane...</td>\n",
       "      <td>https://www.zeit.de/wissen/gesundheit/2018-07/...</td>\n",
       "      <td>2018</td>\n",
       "    </tr>\n",
       "  </tbody>\n",
       "</table>\n",
       "<p>15384667 rows × 4 columns</p>\n",
       "</div>"
      ],
      "text/plain": [
       "                        date  \\\n",
       "0        2019-06-11 08:00:00   \n",
       "1        2019-06-11 08:00:00   \n",
       "2        2019-06-11 08:00:00   \n",
       "3        2019-06-11 09:00:00   \n",
       "4        2019-06-11 09:00:00   \n",
       "5        2019-06-11 10:00:00   \n",
       "6        2019-06-11 09:00:00   \n",
       "7        2019-06-11 09:00:00   \n",
       "8        2019-06-06 12:00:00   \n",
       "9        2019-06-07 12:00:00   \n",
       "10       2019-06-06 12:00:00   \n",
       "11       2019-06-06 12:00:00   \n",
       "12       2019-06-06 12:00:00   \n",
       "13       2019-06-06 12:00:00   \n",
       "14       2019-06-06 12:00:00   \n",
       "15       2019-06-09 12:00:00   \n",
       "16       2019-06-10 12:00:00   \n",
       "17       2019-06-09 12:00:00   \n",
       "18       2019-06-10 12:00:00   \n",
       "19       2019-06-09 12:00:00   \n",
       "20       2019-06-09 12:00:00   \n",
       "21       2019-06-09 12:00:00   \n",
       "22       2019-06-09 12:00:00   \n",
       "23       2019-06-10 12:00:00   \n",
       "24       2019-06-10 12:00:00   \n",
       "25       2019-06-10 12:00:00   \n",
       "26       2019-06-10 12:00:00   \n",
       "27       2019-06-10 12:00:00   \n",
       "28       2019-06-10 12:00:00   \n",
       "29       2019-06-10 12:00:00   \n",
       "...                      ...   \n",
       "15384637 2018-05-10 17:55:00   \n",
       "15384638 2018-05-10 20:09:00   \n",
       "15384639 2018-07-11 12:00:00   \n",
       "15384640 2018-07-11 12:00:00   \n",
       "15384641 2018-07-11 12:00:00   \n",
       "15384642 2018-07-11 12:00:00   \n",
       "15384643 2018-07-11 12:00:00   \n",
       "15384644 2018-07-11 12:00:00   \n",
       "15384645 2018-07-11 12:00:00   \n",
       "15384646 2018-07-11 12:00:00   \n",
       "15384647 2018-07-11 12:00:00   \n",
       "15384648 2018-07-11 12:00:00   \n",
       "15384649 2018-07-11 12:00:00   \n",
       "15384650 2018-07-11 12:00:00   \n",
       "15384651 2018-07-11 12:00:00   \n",
       "15384652 2018-07-11 12:00:00   \n",
       "15384653 2018-07-11 12:00:00   \n",
       "15384654 2018-07-11 12:00:00   \n",
       "15384655 2018-07-11 12:00:00   \n",
       "15384656 2018-07-11 12:00:00   \n",
       "15384657 2018-07-11 12:00:00   \n",
       "15384658 2018-07-11 12:00:00   \n",
       "15384659 2018-07-11 12:00:00   \n",
       "15384660 2018-07-11 12:00:00   \n",
       "15384661 2018-07-11 12:00:00   \n",
       "15384662 2018-07-11 12:00:00   \n",
       "15384663 2018-07-11 12:00:00   \n",
       "15384664 2018-07-11 12:00:00   \n",
       "15384665 2018-07-11 12:00:00   \n",
       "15384666 2018-07-11 12:00:00   \n",
       "\n",
       "                                                       text  \\\n",
       "0         Hätten die Italiener noch die Lira, würden Sie...   \n",
       "1         Welche Wirtschaft sollen die Italiener denn an...   \n",
       "2         Italien geht es viel schlechter als vorher und...   \n",
       "3         Solange das die exportorientierte italienische...   \n",
       "4         Wenn es bei uns mal richtig schlecht läuft, sa...   \n",
       "5         \"Wenn es bei uns mal richtig schlecht läuft, s...   \n",
       "6         Ach , Conte  gibts auch noch?\\nHat der noch  u...   \n",
       "7         Fürchte nur, dass  Salvini in wieder schnell i...   \n",
       "8         Entfernt. Bitte verzichten Sie auf überzogene ...   \n",
       "9         Der Kommentar, auf den Sie Bezug nehmen, wurde...   \n",
       "10        Künstliche Intelligenz mit Funklöchern und feh...   \n",
       "11        So ärgerlich der Zustand der deutschen Netzinf...   \n",
       "12        \"...Wie kann die Bundesregierung doch noch obe...   \n",
       "13                                      Wohl eher über BTX.   \n",
       "14        also ja Geld für Studien über ... dies und das...   \n",
       "15        \"Diese Illustration zeigt einen ferngesteuerte...   \n",
       "16        Sollte der Lander ohne Fernsteuerung autonom l...   \n",
       "17        Spannende Entwicklung.\\nHoffentlich wird das n...   \n",
       "18        Marktwirtschaft bzw. Wettbewerb ist ein Irrweg...   \n",
       "19        \"Erstmals eine Frau ..... zum Mond schicken\"\\n...   \n",
       "20        Wovon? Das Frauen auf den Mond geschossen werd...   \n",
       "21                           Ob es Leben auf dem Mond gibt?   \n",
       "22        Sollten die Nasa-Mission vor einem halben Jahr...   \n",
       "23        Das erklärt auf jeden Fall die heftigen Angrif...   \n",
       "24         Der WWF hat mit Kriminellen zusammen gearbeitet.   \n",
       "25        Dieser Staudamm dürfte Fluchtursachen bekämpfe...   \n",
       "26                                 Oder neue her vor rufen.   \n",
       "27        \"Die AfD wünschte sich ein Gasturbinenkraftwer...   \n",
       "28        Fluchtursachen? Seit wann gehört Tansania plöt...   \n",
       "29        Entfernt. Bitte verzichten Sie auf überzogene ...   \n",
       "...                                                     ...   \n",
       "15384637  Ja, ich habe einige der von Ihnen (unter ander...   \n",
       "15384638  Notwendig, nicht befremdlich. Autokraten, mit ...   \n",
       "15384639  Gibt es z.B. bei Kniespiegelungen. Da wurden l...   \n",
       "15384640  Ich auch nicht. Ist vielleicht schon korrigier...   \n",
       "15384641                                Ja. So wir es sein.   \n",
       "15384642  Ist korrigiert worden. Greift aber leider imme...   \n",
       "15384643                            Sie haben völlig Recht.   \n",
       "15384644  Und die falsche Verwendung von \"ansonsten\", wo...   \n",
       "15384645  //ich habe dann aus eigener tasche physio, aku...   \n",
       "15384646  Für Beschwerden, die tatsächlich von einer knö...   \n",
       "15384647  Sehr schön für sie, das freut mich. Akupunktur...   \n",
       "15384648                       Hab's probiert, stimmt nicht   \n",
       "15384649  //Hab's probiert, stimmt nicht//\\nWomit es erw...   \n",
       "15384650      Eine Plazebotherapie muss nicht nicht helfen.   \n",
       "15384651  \"Hab's probiert, stimmt nicht\"\\nAchso, gut, da...   \n",
       "15384652  Ach wie süß ein Medizinstudent: Dann solle er ...   \n",
       "15384653  Ob der Herr Journalist weiß worüber er schreib...   \n",
       "15384654  Ein Heilpraktiker ( ich würde keinen aufsuchen...   \n",
       "15384655  Shit happens, aber mein Beileid zu Ihrem Krank...   \n",
       "15384656                  Ein Heilpraktiker operiert nicht!   \n",
       "15384657  Danke für Ihre netten Worte. Warum es zur Naht...   \n",
       "15384658  Ich habe Verständnis für jegliche Fehler die p...   \n",
       "15384659  \"Ein Heilpraktiker ( ich würde keinen aufsuche...   \n",
       "15384660  Dem stimme ich zu. Die Synergie von Schulmediz...   \n",
       "15384661  \"Ein Heilpraktiker ( ich würde keinen aufsuche...   \n",
       "15384662                                             Danke.   \n",
       "15384663  Eine Nahtinsuffizienz ist gar nicht so selten....   \n",
       "15384664  Entfernt. Bitte belegen Sie Ihre Behauptungen ...   \n",
       "15384665  Niemand ist fehlerfrei. Eine Binsenweisheit. D...   \n",
       "15384666  Dann lesen Sie mal das Manifest des Münsterane...   \n",
       "\n",
       "                                                        url  year  \n",
       "0         https://www.zeit.de/politik/ausland/2019-06/it...  2019  \n",
       "1         https://www.zeit.de/politik/ausland/2019-06/it...  2019  \n",
       "2         https://www.zeit.de/politik/ausland/2019-06/it...  2019  \n",
       "3         https://www.zeit.de/politik/ausland/2019-06/it...  2019  \n",
       "4         https://www.zeit.de/politik/ausland/2019-06/it...  2019  \n",
       "5         https://www.zeit.de/politik/ausland/2019-06/it...  2019  \n",
       "6         https://www.zeit.de/politik/ausland/2019-06/it...  2019  \n",
       "7         https://www.zeit.de/politik/ausland/2019-06/it...  2019  \n",
       "8         https://www.zeit.de/digital/internet/2019-05/k...  2019  \n",
       "9         https://www.zeit.de/digital/internet/2019-05/k...  2019  \n",
       "10        https://www.zeit.de/digital/internet/2019-05/k...  2019  \n",
       "11        https://www.zeit.de/digital/internet/2019-05/k...  2019  \n",
       "12        https://www.zeit.de/digital/internet/2019-05/k...  2019  \n",
       "13        https://www.zeit.de/digital/internet/2019-05/k...  2019  \n",
       "14        https://www.zeit.de/digital/internet/2019-05/k...  2019  \n",
       "15        https://www.zeit.de/wissen/2019-06/raumfahrt-m...  2019  \n",
       "16        https://www.zeit.de/wissen/2019-06/raumfahrt-m...  2019  \n",
       "17        https://www.zeit.de/wissen/2019-06/raumfahrt-m...  2019  \n",
       "18        https://www.zeit.de/wissen/2019-06/raumfahrt-m...  2019  \n",
       "19        https://www.zeit.de/wissen/2019-06/raumfahrt-m...  2019  \n",
       "20        https://www.zeit.de/wissen/2019-06/raumfahrt-m...  2019  \n",
       "21        https://www.zeit.de/wissen/2019-06/raumfahrt-m...  2019  \n",
       "22        https://www.zeit.de/wissen/2019-06/raumfahrt-m...  2019  \n",
       "23        https://www.zeit.de/2019/23/umweltaktivismus-a...  2019  \n",
       "24        https://www.zeit.de/2019/23/umweltaktivismus-a...  2019  \n",
       "25        https://www.zeit.de/2019/23/umweltaktivismus-a...  2019  \n",
       "26        https://www.zeit.de/2019/23/umweltaktivismus-a...  2019  \n",
       "27        https://www.zeit.de/2019/23/umweltaktivismus-a...  2019  \n",
       "28        https://www.zeit.de/2019/23/umweltaktivismus-a...  2019  \n",
       "29        https://www.zeit.de/2019/23/umweltaktivismus-a...  2019  \n",
       "...                                                     ...   ...  \n",
       "15384637  https://www.zeit.de/wirtschaft/2018-05/us-sank...  2018  \n",
       "15384638  https://www.zeit.de/wirtschaft/2018-05/us-sank...  2018  \n",
       "15384639  https://www.zeit.de/wissen/gesundheit/2018-07/...  2018  \n",
       "15384640  https://www.zeit.de/wissen/gesundheit/2018-07/...  2018  \n",
       "15384641  https://www.zeit.de/wissen/gesundheit/2018-07/...  2018  \n",
       "15384642  https://www.zeit.de/wissen/gesundheit/2018-07/...  2018  \n",
       "15384643  https://www.zeit.de/wissen/gesundheit/2018-07/...  2018  \n",
       "15384644  https://www.zeit.de/wissen/gesundheit/2018-07/...  2018  \n",
       "15384645  https://www.zeit.de/wissen/gesundheit/2018-07/...  2018  \n",
       "15384646  https://www.zeit.de/wissen/gesundheit/2018-07/...  2018  \n",
       "15384647  https://www.zeit.de/wissen/gesundheit/2018-07/...  2018  \n",
       "15384648  https://www.zeit.de/wissen/gesundheit/2018-07/...  2018  \n",
       "15384649  https://www.zeit.de/wissen/gesundheit/2018-07/...  2018  \n",
       "15384650  https://www.zeit.de/wissen/gesundheit/2018-07/...  2018  \n",
       "15384651  https://www.zeit.de/wissen/gesundheit/2018-07/...  2018  \n",
       "15384652  https://www.zeit.de/wissen/gesundheit/2018-07/...  2018  \n",
       "15384653  https://www.zeit.de/wissen/gesundheit/2018-07/...  2018  \n",
       "15384654  https://www.zeit.de/wissen/gesundheit/2018-07/...  2018  \n",
       "15384655  https://www.zeit.de/wissen/gesundheit/2018-07/...  2018  \n",
       "15384656  https://www.zeit.de/wissen/gesundheit/2018-07/...  2018  \n",
       "15384657  https://www.zeit.de/wissen/gesundheit/2018-07/...  2018  \n",
       "15384658  https://www.zeit.de/wissen/gesundheit/2018-07/...  2018  \n",
       "15384659  https://www.zeit.de/wissen/gesundheit/2018-07/...  2018  \n",
       "15384660  https://www.zeit.de/wissen/gesundheit/2018-07/...  2018  \n",
       "15384661  https://www.zeit.de/wissen/gesundheit/2018-07/...  2018  \n",
       "15384662  https://www.zeit.de/wissen/gesundheit/2018-07/...  2018  \n",
       "15384663  https://www.zeit.de/wissen/gesundheit/2018-07/...  2018  \n",
       "15384664  https://www.zeit.de/wissen/gesundheit/2018-07/...  2018  \n",
       "15384665  https://www.zeit.de/wissen/gesundheit/2018-07/...  2018  \n",
       "15384666  https://www.zeit.de/wissen/gesundheit/2018-07/...  2018  \n",
       "\n",
       "[15384667 rows x 4 columns]"
      ]
     },
     "execution_count": 11,
     "metadata": {},
     "output_type": "execute_result"
    }
   ],
   "source": [
    "df"
   ]
  },
  {
   "cell_type": "code",
   "execution_count": 12,
   "metadata": {},
   "outputs": [],
   "source": [
    "df['month'] = df['date'].apply(lambda x: x.month)"
   ]
  },
  {
   "cell_type": "code",
   "execution_count": 13,
   "metadata": {},
   "outputs": [
    {
     "data": {
      "text/html": [
       "<div>\n",
       "<style scoped>\n",
       "    .dataframe tbody tr th:only-of-type {\n",
       "        vertical-align: middle;\n",
       "    }\n",
       "\n",
       "    .dataframe tbody tr th {\n",
       "        vertical-align: top;\n",
       "    }\n",
       "\n",
       "    .dataframe thead th {\n",
       "        text-align: right;\n",
       "    }\n",
       "</style>\n",
       "<table border=\"1\" class=\"dataframe\">\n",
       "  <thead>\n",
       "    <tr style=\"text-align: right;\">\n",
       "      <th></th>\n",
       "      <th>date</th>\n",
       "      <th>text</th>\n",
       "      <th>url</th>\n",
       "      <th>year</th>\n",
       "      <th>month</th>\n",
       "    </tr>\n",
       "  </thead>\n",
       "  <tbody>\n",
       "    <tr>\n",
       "      <th>0</th>\n",
       "      <td>2019-06-11 08:00:00</td>\n",
       "      <td>Hätten die Italiener noch die Lira, würden Sie...</td>\n",
       "      <td>https://www.zeit.de/politik/ausland/2019-06/it...</td>\n",
       "      <td>2019</td>\n",
       "      <td>6</td>\n",
       "    </tr>\n",
       "    <tr>\n",
       "      <th>1</th>\n",
       "      <td>2019-06-11 08:00:00</td>\n",
       "      <td>Welche Wirtschaft sollen die Italiener denn an...</td>\n",
       "      <td>https://www.zeit.de/politik/ausland/2019-06/it...</td>\n",
       "      <td>2019</td>\n",
       "      <td>6</td>\n",
       "    </tr>\n",
       "    <tr>\n",
       "      <th>2</th>\n",
       "      <td>2019-06-11 08:00:00</td>\n",
       "      <td>Italien geht es viel schlechter als vorher und...</td>\n",
       "      <td>https://www.zeit.de/politik/ausland/2019-06/it...</td>\n",
       "      <td>2019</td>\n",
       "      <td>6</td>\n",
       "    </tr>\n",
       "    <tr>\n",
       "      <th>3</th>\n",
       "      <td>2019-06-11 09:00:00</td>\n",
       "      <td>Solange das die exportorientierte italienische...</td>\n",
       "      <td>https://www.zeit.de/politik/ausland/2019-06/it...</td>\n",
       "      <td>2019</td>\n",
       "      <td>6</td>\n",
       "    </tr>\n",
       "    <tr>\n",
       "      <th>4</th>\n",
       "      <td>2019-06-11 09:00:00</td>\n",
       "      <td>Wenn es bei uns mal richtig schlecht läuft, sa...</td>\n",
       "      <td>https://www.zeit.de/politik/ausland/2019-06/it...</td>\n",
       "      <td>2019</td>\n",
       "      <td>6</td>\n",
       "    </tr>\n",
       "    <tr>\n",
       "      <th>5</th>\n",
       "      <td>2019-06-11 10:00:00</td>\n",
       "      <td>\"Wenn es bei uns mal richtig schlecht läuft, s...</td>\n",
       "      <td>https://www.zeit.de/politik/ausland/2019-06/it...</td>\n",
       "      <td>2019</td>\n",
       "      <td>6</td>\n",
       "    </tr>\n",
       "    <tr>\n",
       "      <th>6</th>\n",
       "      <td>2019-06-11 09:00:00</td>\n",
       "      <td>Ach , Conte  gibts auch noch?\\nHat der noch  u...</td>\n",
       "      <td>https://www.zeit.de/politik/ausland/2019-06/it...</td>\n",
       "      <td>2019</td>\n",
       "      <td>6</td>\n",
       "    </tr>\n",
       "    <tr>\n",
       "      <th>7</th>\n",
       "      <td>2019-06-11 09:00:00</td>\n",
       "      <td>Fürchte nur, dass  Salvini in wieder schnell i...</td>\n",
       "      <td>https://www.zeit.de/politik/ausland/2019-06/it...</td>\n",
       "      <td>2019</td>\n",
       "      <td>6</td>\n",
       "    </tr>\n",
       "    <tr>\n",
       "      <th>8</th>\n",
       "      <td>2019-06-06 12:00:00</td>\n",
       "      <td>Entfernt. Bitte verzichten Sie auf überzogene ...</td>\n",
       "      <td>https://www.zeit.de/digital/internet/2019-05/k...</td>\n",
       "      <td>2019</td>\n",
       "      <td>6</td>\n",
       "    </tr>\n",
       "    <tr>\n",
       "      <th>9</th>\n",
       "      <td>2019-06-07 12:00:00</td>\n",
       "      <td>Der Kommentar, auf den Sie Bezug nehmen, wurde...</td>\n",
       "      <td>https://www.zeit.de/digital/internet/2019-05/k...</td>\n",
       "      <td>2019</td>\n",
       "      <td>6</td>\n",
       "    </tr>\n",
       "    <tr>\n",
       "      <th>10</th>\n",
       "      <td>2019-06-06 12:00:00</td>\n",
       "      <td>Künstliche Intelligenz mit Funklöchern und feh...</td>\n",
       "      <td>https://www.zeit.de/digital/internet/2019-05/k...</td>\n",
       "      <td>2019</td>\n",
       "      <td>6</td>\n",
       "    </tr>\n",
       "    <tr>\n",
       "      <th>11</th>\n",
       "      <td>2019-06-06 12:00:00</td>\n",
       "      <td>So ärgerlich der Zustand der deutschen Netzinf...</td>\n",
       "      <td>https://www.zeit.de/digital/internet/2019-05/k...</td>\n",
       "      <td>2019</td>\n",
       "      <td>6</td>\n",
       "    </tr>\n",
       "    <tr>\n",
       "      <th>12</th>\n",
       "      <td>2019-06-06 12:00:00</td>\n",
       "      <td>\"...Wie kann die Bundesregierung doch noch obe...</td>\n",
       "      <td>https://www.zeit.de/digital/internet/2019-05/k...</td>\n",
       "      <td>2019</td>\n",
       "      <td>6</td>\n",
       "    </tr>\n",
       "    <tr>\n",
       "      <th>13</th>\n",
       "      <td>2019-06-06 12:00:00</td>\n",
       "      <td>Wohl eher über BTX.</td>\n",
       "      <td>https://www.zeit.de/digital/internet/2019-05/k...</td>\n",
       "      <td>2019</td>\n",
       "      <td>6</td>\n",
       "    </tr>\n",
       "    <tr>\n",
       "      <th>14</th>\n",
       "      <td>2019-06-06 12:00:00</td>\n",
       "      <td>also ja Geld für Studien über ... dies und das...</td>\n",
       "      <td>https://www.zeit.de/digital/internet/2019-05/k...</td>\n",
       "      <td>2019</td>\n",
       "      <td>6</td>\n",
       "    </tr>\n",
       "    <tr>\n",
       "      <th>15</th>\n",
       "      <td>2019-06-09 12:00:00</td>\n",
       "      <td>\"Diese Illustration zeigt einen ferngesteuerte...</td>\n",
       "      <td>https://www.zeit.de/wissen/2019-06/raumfahrt-m...</td>\n",
       "      <td>2019</td>\n",
       "      <td>6</td>\n",
       "    </tr>\n",
       "    <tr>\n",
       "      <th>16</th>\n",
       "      <td>2019-06-10 12:00:00</td>\n",
       "      <td>Sollte der Lander ohne Fernsteuerung autonom l...</td>\n",
       "      <td>https://www.zeit.de/wissen/2019-06/raumfahrt-m...</td>\n",
       "      <td>2019</td>\n",
       "      <td>6</td>\n",
       "    </tr>\n",
       "    <tr>\n",
       "      <th>17</th>\n",
       "      <td>2019-06-09 12:00:00</td>\n",
       "      <td>Spannende Entwicklung.\\nHoffentlich wird das n...</td>\n",
       "      <td>https://www.zeit.de/wissen/2019-06/raumfahrt-m...</td>\n",
       "      <td>2019</td>\n",
       "      <td>6</td>\n",
       "    </tr>\n",
       "    <tr>\n",
       "      <th>18</th>\n",
       "      <td>2019-06-10 12:00:00</td>\n",
       "      <td>Marktwirtschaft bzw. Wettbewerb ist ein Irrweg...</td>\n",
       "      <td>https://www.zeit.de/wissen/2019-06/raumfahrt-m...</td>\n",
       "      <td>2019</td>\n",
       "      <td>6</td>\n",
       "    </tr>\n",
       "    <tr>\n",
       "      <th>19</th>\n",
       "      <td>2019-06-09 12:00:00</td>\n",
       "      <td>\"Erstmals eine Frau ..... zum Mond schicken\"\\n...</td>\n",
       "      <td>https://www.zeit.de/wissen/2019-06/raumfahrt-m...</td>\n",
       "      <td>2019</td>\n",
       "      <td>6</td>\n",
       "    </tr>\n",
       "    <tr>\n",
       "      <th>20</th>\n",
       "      <td>2019-06-09 12:00:00</td>\n",
       "      <td>Wovon? Das Frauen auf den Mond geschossen werd...</td>\n",
       "      <td>https://www.zeit.de/wissen/2019-06/raumfahrt-m...</td>\n",
       "      <td>2019</td>\n",
       "      <td>6</td>\n",
       "    </tr>\n",
       "    <tr>\n",
       "      <th>21</th>\n",
       "      <td>2019-06-09 12:00:00</td>\n",
       "      <td>Ob es Leben auf dem Mond gibt?</td>\n",
       "      <td>https://www.zeit.de/wissen/2019-06/raumfahrt-m...</td>\n",
       "      <td>2019</td>\n",
       "      <td>6</td>\n",
       "    </tr>\n",
       "    <tr>\n",
       "      <th>22</th>\n",
       "      <td>2019-06-09 12:00:00</td>\n",
       "      <td>Sollten die Nasa-Mission vor einem halben Jahr...</td>\n",
       "      <td>https://www.zeit.de/wissen/2019-06/raumfahrt-m...</td>\n",
       "      <td>2019</td>\n",
       "      <td>6</td>\n",
       "    </tr>\n",
       "    <tr>\n",
       "      <th>23</th>\n",
       "      <td>2019-06-10 12:00:00</td>\n",
       "      <td>Das erklärt auf jeden Fall die heftigen Angrif...</td>\n",
       "      <td>https://www.zeit.de/2019/23/umweltaktivismus-a...</td>\n",
       "      <td>2019</td>\n",
       "      <td>6</td>\n",
       "    </tr>\n",
       "    <tr>\n",
       "      <th>24</th>\n",
       "      <td>2019-06-10 12:00:00</td>\n",
       "      <td>Der WWF hat mit Kriminellen zusammen gearbeitet.</td>\n",
       "      <td>https://www.zeit.de/2019/23/umweltaktivismus-a...</td>\n",
       "      <td>2019</td>\n",
       "      <td>6</td>\n",
       "    </tr>\n",
       "    <tr>\n",
       "      <th>25</th>\n",
       "      <td>2019-06-10 12:00:00</td>\n",
       "      <td>Dieser Staudamm dürfte Fluchtursachen bekämpfe...</td>\n",
       "      <td>https://www.zeit.de/2019/23/umweltaktivismus-a...</td>\n",
       "      <td>2019</td>\n",
       "      <td>6</td>\n",
       "    </tr>\n",
       "    <tr>\n",
       "      <th>26</th>\n",
       "      <td>2019-06-10 12:00:00</td>\n",
       "      <td>Oder neue her vor rufen.</td>\n",
       "      <td>https://www.zeit.de/2019/23/umweltaktivismus-a...</td>\n",
       "      <td>2019</td>\n",
       "      <td>6</td>\n",
       "    </tr>\n",
       "    <tr>\n",
       "      <th>27</th>\n",
       "      <td>2019-06-10 12:00:00</td>\n",
       "      <td>\"Die AfD wünschte sich ein Gasturbinenkraftwer...</td>\n",
       "      <td>https://www.zeit.de/2019/23/umweltaktivismus-a...</td>\n",
       "      <td>2019</td>\n",
       "      <td>6</td>\n",
       "    </tr>\n",
       "    <tr>\n",
       "      <th>28</th>\n",
       "      <td>2019-06-10 12:00:00</td>\n",
       "      <td>Fluchtursachen? Seit wann gehört Tansania plöt...</td>\n",
       "      <td>https://www.zeit.de/2019/23/umweltaktivismus-a...</td>\n",
       "      <td>2019</td>\n",
       "      <td>6</td>\n",
       "    </tr>\n",
       "    <tr>\n",
       "      <th>29</th>\n",
       "      <td>2019-06-10 12:00:00</td>\n",
       "      <td>Entfernt. Bitte verzichten Sie auf überzogene ...</td>\n",
       "      <td>https://www.zeit.de/2019/23/umweltaktivismus-a...</td>\n",
       "      <td>2019</td>\n",
       "      <td>6</td>\n",
       "    </tr>\n",
       "    <tr>\n",
       "      <th>...</th>\n",
       "      <td>...</td>\n",
       "      <td>...</td>\n",
       "      <td>...</td>\n",
       "      <td>...</td>\n",
       "      <td>...</td>\n",
       "    </tr>\n",
       "    <tr>\n",
       "      <th>15384637</th>\n",
       "      <td>2018-05-10 17:55:00</td>\n",
       "      <td>Ja, ich habe einige der von Ihnen (unter ander...</td>\n",
       "      <td>https://www.zeit.de/wirtschaft/2018-05/us-sank...</td>\n",
       "      <td>2018</td>\n",
       "      <td>5</td>\n",
       "    </tr>\n",
       "    <tr>\n",
       "      <th>15384638</th>\n",
       "      <td>2018-05-10 20:09:00</td>\n",
       "      <td>Notwendig, nicht befremdlich. Autokraten, mit ...</td>\n",
       "      <td>https://www.zeit.de/wirtschaft/2018-05/us-sank...</td>\n",
       "      <td>2018</td>\n",
       "      <td>5</td>\n",
       "    </tr>\n",
       "    <tr>\n",
       "      <th>15384639</th>\n",
       "      <td>2018-07-11 12:00:00</td>\n",
       "      <td>Gibt es z.B. bei Kniespiegelungen. Da wurden l...</td>\n",
       "      <td>https://www.zeit.de/wissen/gesundheit/2018-07/...</td>\n",
       "      <td>2018</td>\n",
       "      <td>7</td>\n",
       "    </tr>\n",
       "    <tr>\n",
       "      <th>15384640</th>\n",
       "      <td>2018-07-11 12:00:00</td>\n",
       "      <td>Ich auch nicht. Ist vielleicht schon korrigier...</td>\n",
       "      <td>https://www.zeit.de/wissen/gesundheit/2018-07/...</td>\n",
       "      <td>2018</td>\n",
       "      <td>7</td>\n",
       "    </tr>\n",
       "    <tr>\n",
       "      <th>15384641</th>\n",
       "      <td>2018-07-11 12:00:00</td>\n",
       "      <td>Ja. So wir es sein.</td>\n",
       "      <td>https://www.zeit.de/wissen/gesundheit/2018-07/...</td>\n",
       "      <td>2018</td>\n",
       "      <td>7</td>\n",
       "    </tr>\n",
       "    <tr>\n",
       "      <th>15384642</th>\n",
       "      <td>2018-07-11 12:00:00</td>\n",
       "      <td>Ist korrigiert worden. Greift aber leider imme...</td>\n",
       "      <td>https://www.zeit.de/wissen/gesundheit/2018-07/...</td>\n",
       "      <td>2018</td>\n",
       "      <td>7</td>\n",
       "    </tr>\n",
       "    <tr>\n",
       "      <th>15384643</th>\n",
       "      <td>2018-07-11 12:00:00</td>\n",
       "      <td>Sie haben völlig Recht.</td>\n",
       "      <td>https://www.zeit.de/wissen/gesundheit/2018-07/...</td>\n",
       "      <td>2018</td>\n",
       "      <td>7</td>\n",
       "    </tr>\n",
       "    <tr>\n",
       "      <th>15384644</th>\n",
       "      <td>2018-07-11 12:00:00</td>\n",
       "      <td>Und die falsche Verwendung von \"ansonsten\", wo...</td>\n",
       "      <td>https://www.zeit.de/wissen/gesundheit/2018-07/...</td>\n",
       "      <td>2018</td>\n",
       "      <td>7</td>\n",
       "    </tr>\n",
       "    <tr>\n",
       "      <th>15384645</th>\n",
       "      <td>2018-07-11 12:00:00</td>\n",
       "      <td>//ich habe dann aus eigener tasche physio, aku...</td>\n",
       "      <td>https://www.zeit.de/wissen/gesundheit/2018-07/...</td>\n",
       "      <td>2018</td>\n",
       "      <td>7</td>\n",
       "    </tr>\n",
       "    <tr>\n",
       "      <th>15384646</th>\n",
       "      <td>2018-07-11 12:00:00</td>\n",
       "      <td>Für Beschwerden, die tatsächlich von einer knö...</td>\n",
       "      <td>https://www.zeit.de/wissen/gesundheit/2018-07/...</td>\n",
       "      <td>2018</td>\n",
       "      <td>7</td>\n",
       "    </tr>\n",
       "    <tr>\n",
       "      <th>15384647</th>\n",
       "      <td>2018-07-11 12:00:00</td>\n",
       "      <td>Sehr schön für sie, das freut mich. Akupunktur...</td>\n",
       "      <td>https://www.zeit.de/wissen/gesundheit/2018-07/...</td>\n",
       "      <td>2018</td>\n",
       "      <td>7</td>\n",
       "    </tr>\n",
       "    <tr>\n",
       "      <th>15384648</th>\n",
       "      <td>2018-07-11 12:00:00</td>\n",
       "      <td>Hab's probiert, stimmt nicht</td>\n",
       "      <td>https://www.zeit.de/wissen/gesundheit/2018-07/...</td>\n",
       "      <td>2018</td>\n",
       "      <td>7</td>\n",
       "    </tr>\n",
       "    <tr>\n",
       "      <th>15384649</th>\n",
       "      <td>2018-07-11 12:00:00</td>\n",
       "      <td>//Hab's probiert, stimmt nicht//\\nWomit es erw...</td>\n",
       "      <td>https://www.zeit.de/wissen/gesundheit/2018-07/...</td>\n",
       "      <td>2018</td>\n",
       "      <td>7</td>\n",
       "    </tr>\n",
       "    <tr>\n",
       "      <th>15384650</th>\n",
       "      <td>2018-07-11 12:00:00</td>\n",
       "      <td>Eine Plazebotherapie muss nicht nicht helfen.</td>\n",
       "      <td>https://www.zeit.de/wissen/gesundheit/2018-07/...</td>\n",
       "      <td>2018</td>\n",
       "      <td>7</td>\n",
       "    </tr>\n",
       "    <tr>\n",
       "      <th>15384651</th>\n",
       "      <td>2018-07-11 12:00:00</td>\n",
       "      <td>\"Hab's probiert, stimmt nicht\"\\nAchso, gut, da...</td>\n",
       "      <td>https://www.zeit.de/wissen/gesundheit/2018-07/...</td>\n",
       "      <td>2018</td>\n",
       "      <td>7</td>\n",
       "    </tr>\n",
       "    <tr>\n",
       "      <th>15384652</th>\n",
       "      <td>2018-07-11 12:00:00</td>\n",
       "      <td>Ach wie süß ein Medizinstudent: Dann solle er ...</td>\n",
       "      <td>https://www.zeit.de/wissen/gesundheit/2018-07/...</td>\n",
       "      <td>2018</td>\n",
       "      <td>7</td>\n",
       "    </tr>\n",
       "    <tr>\n",
       "      <th>15384653</th>\n",
       "      <td>2018-07-11 12:00:00</td>\n",
       "      <td>Ob der Herr Journalist weiß worüber er schreib...</td>\n",
       "      <td>https://www.zeit.de/wissen/gesundheit/2018-07/...</td>\n",
       "      <td>2018</td>\n",
       "      <td>7</td>\n",
       "    </tr>\n",
       "    <tr>\n",
       "      <th>15384654</th>\n",
       "      <td>2018-07-11 12:00:00</td>\n",
       "      <td>Ein Heilpraktiker ( ich würde keinen aufsuchen...</td>\n",
       "      <td>https://www.zeit.de/wissen/gesundheit/2018-07/...</td>\n",
       "      <td>2018</td>\n",
       "      <td>7</td>\n",
       "    </tr>\n",
       "    <tr>\n",
       "      <th>15384655</th>\n",
       "      <td>2018-07-11 12:00:00</td>\n",
       "      <td>Shit happens, aber mein Beileid zu Ihrem Krank...</td>\n",
       "      <td>https://www.zeit.de/wissen/gesundheit/2018-07/...</td>\n",
       "      <td>2018</td>\n",
       "      <td>7</td>\n",
       "    </tr>\n",
       "    <tr>\n",
       "      <th>15384656</th>\n",
       "      <td>2018-07-11 12:00:00</td>\n",
       "      <td>Ein Heilpraktiker operiert nicht!</td>\n",
       "      <td>https://www.zeit.de/wissen/gesundheit/2018-07/...</td>\n",
       "      <td>2018</td>\n",
       "      <td>7</td>\n",
       "    </tr>\n",
       "    <tr>\n",
       "      <th>15384657</th>\n",
       "      <td>2018-07-11 12:00:00</td>\n",
       "      <td>Danke für Ihre netten Worte. Warum es zur Naht...</td>\n",
       "      <td>https://www.zeit.de/wissen/gesundheit/2018-07/...</td>\n",
       "      <td>2018</td>\n",
       "      <td>7</td>\n",
       "    </tr>\n",
       "    <tr>\n",
       "      <th>15384658</th>\n",
       "      <td>2018-07-11 12:00:00</td>\n",
       "      <td>Ich habe Verständnis für jegliche Fehler die p...</td>\n",
       "      <td>https://www.zeit.de/wissen/gesundheit/2018-07/...</td>\n",
       "      <td>2018</td>\n",
       "      <td>7</td>\n",
       "    </tr>\n",
       "    <tr>\n",
       "      <th>15384659</th>\n",
       "      <td>2018-07-11 12:00:00</td>\n",
       "      <td>\"Ein Heilpraktiker ( ich würde keinen aufsuche...</td>\n",
       "      <td>https://www.zeit.de/wissen/gesundheit/2018-07/...</td>\n",
       "      <td>2018</td>\n",
       "      <td>7</td>\n",
       "    </tr>\n",
       "    <tr>\n",
       "      <th>15384660</th>\n",
       "      <td>2018-07-11 12:00:00</td>\n",
       "      <td>Dem stimme ich zu. Die Synergie von Schulmediz...</td>\n",
       "      <td>https://www.zeit.de/wissen/gesundheit/2018-07/...</td>\n",
       "      <td>2018</td>\n",
       "      <td>7</td>\n",
       "    </tr>\n",
       "    <tr>\n",
       "      <th>15384661</th>\n",
       "      <td>2018-07-11 12:00:00</td>\n",
       "      <td>\"Ein Heilpraktiker ( ich würde keinen aufsuche...</td>\n",
       "      <td>https://www.zeit.de/wissen/gesundheit/2018-07/...</td>\n",
       "      <td>2018</td>\n",
       "      <td>7</td>\n",
       "    </tr>\n",
       "    <tr>\n",
       "      <th>15384662</th>\n",
       "      <td>2018-07-11 12:00:00</td>\n",
       "      <td>Danke.</td>\n",
       "      <td>https://www.zeit.de/wissen/gesundheit/2018-07/...</td>\n",
       "      <td>2018</td>\n",
       "      <td>7</td>\n",
       "    </tr>\n",
       "    <tr>\n",
       "      <th>15384663</th>\n",
       "      <td>2018-07-11 12:00:00</td>\n",
       "      <td>Eine Nahtinsuffizienz ist gar nicht so selten....</td>\n",
       "      <td>https://www.zeit.de/wissen/gesundheit/2018-07/...</td>\n",
       "      <td>2018</td>\n",
       "      <td>7</td>\n",
       "    </tr>\n",
       "    <tr>\n",
       "      <th>15384664</th>\n",
       "      <td>2018-07-11 12:00:00</td>\n",
       "      <td>Entfernt. Bitte belegen Sie Ihre Behauptungen ...</td>\n",
       "      <td>https://www.zeit.de/wissen/gesundheit/2018-07/...</td>\n",
       "      <td>2018</td>\n",
       "      <td>7</td>\n",
       "    </tr>\n",
       "    <tr>\n",
       "      <th>15384665</th>\n",
       "      <td>2018-07-11 12:00:00</td>\n",
       "      <td>Niemand ist fehlerfrei. Eine Binsenweisheit. D...</td>\n",
       "      <td>https://www.zeit.de/wissen/gesundheit/2018-07/...</td>\n",
       "      <td>2018</td>\n",
       "      <td>7</td>\n",
       "    </tr>\n",
       "    <tr>\n",
       "      <th>15384666</th>\n",
       "      <td>2018-07-11 12:00:00</td>\n",
       "      <td>Dann lesen Sie mal das Manifest des Münsterane...</td>\n",
       "      <td>https://www.zeit.de/wissen/gesundheit/2018-07/...</td>\n",
       "      <td>2018</td>\n",
       "      <td>7</td>\n",
       "    </tr>\n",
       "  </tbody>\n",
       "</table>\n",
       "<p>15384667 rows × 5 columns</p>\n",
       "</div>"
      ],
      "text/plain": [
       "                        date  \\\n",
       "0        2019-06-11 08:00:00   \n",
       "1        2019-06-11 08:00:00   \n",
       "2        2019-06-11 08:00:00   \n",
       "3        2019-06-11 09:00:00   \n",
       "4        2019-06-11 09:00:00   \n",
       "5        2019-06-11 10:00:00   \n",
       "6        2019-06-11 09:00:00   \n",
       "7        2019-06-11 09:00:00   \n",
       "8        2019-06-06 12:00:00   \n",
       "9        2019-06-07 12:00:00   \n",
       "10       2019-06-06 12:00:00   \n",
       "11       2019-06-06 12:00:00   \n",
       "12       2019-06-06 12:00:00   \n",
       "13       2019-06-06 12:00:00   \n",
       "14       2019-06-06 12:00:00   \n",
       "15       2019-06-09 12:00:00   \n",
       "16       2019-06-10 12:00:00   \n",
       "17       2019-06-09 12:00:00   \n",
       "18       2019-06-10 12:00:00   \n",
       "19       2019-06-09 12:00:00   \n",
       "20       2019-06-09 12:00:00   \n",
       "21       2019-06-09 12:00:00   \n",
       "22       2019-06-09 12:00:00   \n",
       "23       2019-06-10 12:00:00   \n",
       "24       2019-06-10 12:00:00   \n",
       "25       2019-06-10 12:00:00   \n",
       "26       2019-06-10 12:00:00   \n",
       "27       2019-06-10 12:00:00   \n",
       "28       2019-06-10 12:00:00   \n",
       "29       2019-06-10 12:00:00   \n",
       "...                      ...   \n",
       "15384637 2018-05-10 17:55:00   \n",
       "15384638 2018-05-10 20:09:00   \n",
       "15384639 2018-07-11 12:00:00   \n",
       "15384640 2018-07-11 12:00:00   \n",
       "15384641 2018-07-11 12:00:00   \n",
       "15384642 2018-07-11 12:00:00   \n",
       "15384643 2018-07-11 12:00:00   \n",
       "15384644 2018-07-11 12:00:00   \n",
       "15384645 2018-07-11 12:00:00   \n",
       "15384646 2018-07-11 12:00:00   \n",
       "15384647 2018-07-11 12:00:00   \n",
       "15384648 2018-07-11 12:00:00   \n",
       "15384649 2018-07-11 12:00:00   \n",
       "15384650 2018-07-11 12:00:00   \n",
       "15384651 2018-07-11 12:00:00   \n",
       "15384652 2018-07-11 12:00:00   \n",
       "15384653 2018-07-11 12:00:00   \n",
       "15384654 2018-07-11 12:00:00   \n",
       "15384655 2018-07-11 12:00:00   \n",
       "15384656 2018-07-11 12:00:00   \n",
       "15384657 2018-07-11 12:00:00   \n",
       "15384658 2018-07-11 12:00:00   \n",
       "15384659 2018-07-11 12:00:00   \n",
       "15384660 2018-07-11 12:00:00   \n",
       "15384661 2018-07-11 12:00:00   \n",
       "15384662 2018-07-11 12:00:00   \n",
       "15384663 2018-07-11 12:00:00   \n",
       "15384664 2018-07-11 12:00:00   \n",
       "15384665 2018-07-11 12:00:00   \n",
       "15384666 2018-07-11 12:00:00   \n",
       "\n",
       "                                                       text  \\\n",
       "0         Hätten die Italiener noch die Lira, würden Sie...   \n",
       "1         Welche Wirtschaft sollen die Italiener denn an...   \n",
       "2         Italien geht es viel schlechter als vorher und...   \n",
       "3         Solange das die exportorientierte italienische...   \n",
       "4         Wenn es bei uns mal richtig schlecht läuft, sa...   \n",
       "5         \"Wenn es bei uns mal richtig schlecht läuft, s...   \n",
       "6         Ach , Conte  gibts auch noch?\\nHat der noch  u...   \n",
       "7         Fürchte nur, dass  Salvini in wieder schnell i...   \n",
       "8         Entfernt. Bitte verzichten Sie auf überzogene ...   \n",
       "9         Der Kommentar, auf den Sie Bezug nehmen, wurde...   \n",
       "10        Künstliche Intelligenz mit Funklöchern und feh...   \n",
       "11        So ärgerlich der Zustand der deutschen Netzinf...   \n",
       "12        \"...Wie kann die Bundesregierung doch noch obe...   \n",
       "13                                      Wohl eher über BTX.   \n",
       "14        also ja Geld für Studien über ... dies und das...   \n",
       "15        \"Diese Illustration zeigt einen ferngesteuerte...   \n",
       "16        Sollte der Lander ohne Fernsteuerung autonom l...   \n",
       "17        Spannende Entwicklung.\\nHoffentlich wird das n...   \n",
       "18        Marktwirtschaft bzw. Wettbewerb ist ein Irrweg...   \n",
       "19        \"Erstmals eine Frau ..... zum Mond schicken\"\\n...   \n",
       "20        Wovon? Das Frauen auf den Mond geschossen werd...   \n",
       "21                           Ob es Leben auf dem Mond gibt?   \n",
       "22        Sollten die Nasa-Mission vor einem halben Jahr...   \n",
       "23        Das erklärt auf jeden Fall die heftigen Angrif...   \n",
       "24         Der WWF hat mit Kriminellen zusammen gearbeitet.   \n",
       "25        Dieser Staudamm dürfte Fluchtursachen bekämpfe...   \n",
       "26                                 Oder neue her vor rufen.   \n",
       "27        \"Die AfD wünschte sich ein Gasturbinenkraftwer...   \n",
       "28        Fluchtursachen? Seit wann gehört Tansania plöt...   \n",
       "29        Entfernt. Bitte verzichten Sie auf überzogene ...   \n",
       "...                                                     ...   \n",
       "15384637  Ja, ich habe einige der von Ihnen (unter ander...   \n",
       "15384638  Notwendig, nicht befremdlich. Autokraten, mit ...   \n",
       "15384639  Gibt es z.B. bei Kniespiegelungen. Da wurden l...   \n",
       "15384640  Ich auch nicht. Ist vielleicht schon korrigier...   \n",
       "15384641                                Ja. So wir es sein.   \n",
       "15384642  Ist korrigiert worden. Greift aber leider imme...   \n",
       "15384643                            Sie haben völlig Recht.   \n",
       "15384644  Und die falsche Verwendung von \"ansonsten\", wo...   \n",
       "15384645  //ich habe dann aus eigener tasche physio, aku...   \n",
       "15384646  Für Beschwerden, die tatsächlich von einer knö...   \n",
       "15384647  Sehr schön für sie, das freut mich. Akupunktur...   \n",
       "15384648                       Hab's probiert, stimmt nicht   \n",
       "15384649  //Hab's probiert, stimmt nicht//\\nWomit es erw...   \n",
       "15384650      Eine Plazebotherapie muss nicht nicht helfen.   \n",
       "15384651  \"Hab's probiert, stimmt nicht\"\\nAchso, gut, da...   \n",
       "15384652  Ach wie süß ein Medizinstudent: Dann solle er ...   \n",
       "15384653  Ob der Herr Journalist weiß worüber er schreib...   \n",
       "15384654  Ein Heilpraktiker ( ich würde keinen aufsuchen...   \n",
       "15384655  Shit happens, aber mein Beileid zu Ihrem Krank...   \n",
       "15384656                  Ein Heilpraktiker operiert nicht!   \n",
       "15384657  Danke für Ihre netten Worte. Warum es zur Naht...   \n",
       "15384658  Ich habe Verständnis für jegliche Fehler die p...   \n",
       "15384659  \"Ein Heilpraktiker ( ich würde keinen aufsuche...   \n",
       "15384660  Dem stimme ich zu. Die Synergie von Schulmediz...   \n",
       "15384661  \"Ein Heilpraktiker ( ich würde keinen aufsuche...   \n",
       "15384662                                             Danke.   \n",
       "15384663  Eine Nahtinsuffizienz ist gar nicht so selten....   \n",
       "15384664  Entfernt. Bitte belegen Sie Ihre Behauptungen ...   \n",
       "15384665  Niemand ist fehlerfrei. Eine Binsenweisheit. D...   \n",
       "15384666  Dann lesen Sie mal das Manifest des Münsterane...   \n",
       "\n",
       "                                                        url  year  month  \n",
       "0         https://www.zeit.de/politik/ausland/2019-06/it...  2019      6  \n",
       "1         https://www.zeit.de/politik/ausland/2019-06/it...  2019      6  \n",
       "2         https://www.zeit.de/politik/ausland/2019-06/it...  2019      6  \n",
       "3         https://www.zeit.de/politik/ausland/2019-06/it...  2019      6  \n",
       "4         https://www.zeit.de/politik/ausland/2019-06/it...  2019      6  \n",
       "5         https://www.zeit.de/politik/ausland/2019-06/it...  2019      6  \n",
       "6         https://www.zeit.de/politik/ausland/2019-06/it...  2019      6  \n",
       "7         https://www.zeit.de/politik/ausland/2019-06/it...  2019      6  \n",
       "8         https://www.zeit.de/digital/internet/2019-05/k...  2019      6  \n",
       "9         https://www.zeit.de/digital/internet/2019-05/k...  2019      6  \n",
       "10        https://www.zeit.de/digital/internet/2019-05/k...  2019      6  \n",
       "11        https://www.zeit.de/digital/internet/2019-05/k...  2019      6  \n",
       "12        https://www.zeit.de/digital/internet/2019-05/k...  2019      6  \n",
       "13        https://www.zeit.de/digital/internet/2019-05/k...  2019      6  \n",
       "14        https://www.zeit.de/digital/internet/2019-05/k...  2019      6  \n",
       "15        https://www.zeit.de/wissen/2019-06/raumfahrt-m...  2019      6  \n",
       "16        https://www.zeit.de/wissen/2019-06/raumfahrt-m...  2019      6  \n",
       "17        https://www.zeit.de/wissen/2019-06/raumfahrt-m...  2019      6  \n",
       "18        https://www.zeit.de/wissen/2019-06/raumfahrt-m...  2019      6  \n",
       "19        https://www.zeit.de/wissen/2019-06/raumfahrt-m...  2019      6  \n",
       "20        https://www.zeit.de/wissen/2019-06/raumfahrt-m...  2019      6  \n",
       "21        https://www.zeit.de/wissen/2019-06/raumfahrt-m...  2019      6  \n",
       "22        https://www.zeit.de/wissen/2019-06/raumfahrt-m...  2019      6  \n",
       "23        https://www.zeit.de/2019/23/umweltaktivismus-a...  2019      6  \n",
       "24        https://www.zeit.de/2019/23/umweltaktivismus-a...  2019      6  \n",
       "25        https://www.zeit.de/2019/23/umweltaktivismus-a...  2019      6  \n",
       "26        https://www.zeit.de/2019/23/umweltaktivismus-a...  2019      6  \n",
       "27        https://www.zeit.de/2019/23/umweltaktivismus-a...  2019      6  \n",
       "28        https://www.zeit.de/2019/23/umweltaktivismus-a...  2019      6  \n",
       "29        https://www.zeit.de/2019/23/umweltaktivismus-a...  2019      6  \n",
       "...                                                     ...   ...    ...  \n",
       "15384637  https://www.zeit.de/wirtschaft/2018-05/us-sank...  2018      5  \n",
       "15384638  https://www.zeit.de/wirtschaft/2018-05/us-sank...  2018      5  \n",
       "15384639  https://www.zeit.de/wissen/gesundheit/2018-07/...  2018      7  \n",
       "15384640  https://www.zeit.de/wissen/gesundheit/2018-07/...  2018      7  \n",
       "15384641  https://www.zeit.de/wissen/gesundheit/2018-07/...  2018      7  \n",
       "15384642  https://www.zeit.de/wissen/gesundheit/2018-07/...  2018      7  \n",
       "15384643  https://www.zeit.de/wissen/gesundheit/2018-07/...  2018      7  \n",
       "15384644  https://www.zeit.de/wissen/gesundheit/2018-07/...  2018      7  \n",
       "15384645  https://www.zeit.de/wissen/gesundheit/2018-07/...  2018      7  \n",
       "15384646  https://www.zeit.de/wissen/gesundheit/2018-07/...  2018      7  \n",
       "15384647  https://www.zeit.de/wissen/gesundheit/2018-07/...  2018      7  \n",
       "15384648  https://www.zeit.de/wissen/gesundheit/2018-07/...  2018      7  \n",
       "15384649  https://www.zeit.de/wissen/gesundheit/2018-07/...  2018      7  \n",
       "15384650  https://www.zeit.de/wissen/gesundheit/2018-07/...  2018      7  \n",
       "15384651  https://www.zeit.de/wissen/gesundheit/2018-07/...  2018      7  \n",
       "15384652  https://www.zeit.de/wissen/gesundheit/2018-07/...  2018      7  \n",
       "15384653  https://www.zeit.de/wissen/gesundheit/2018-07/...  2018      7  \n",
       "15384654  https://www.zeit.de/wissen/gesundheit/2018-07/...  2018      7  \n",
       "15384655  https://www.zeit.de/wissen/gesundheit/2018-07/...  2018      7  \n",
       "15384656  https://www.zeit.de/wissen/gesundheit/2018-07/...  2018      7  \n",
       "15384657  https://www.zeit.de/wissen/gesundheit/2018-07/...  2018      7  \n",
       "15384658  https://www.zeit.de/wissen/gesundheit/2018-07/...  2018      7  \n",
       "15384659  https://www.zeit.de/wissen/gesundheit/2018-07/...  2018      7  \n",
       "15384660  https://www.zeit.de/wissen/gesundheit/2018-07/...  2018      7  \n",
       "15384661  https://www.zeit.de/wissen/gesundheit/2018-07/...  2018      7  \n",
       "15384662  https://www.zeit.de/wissen/gesundheit/2018-07/...  2018      7  \n",
       "15384663  https://www.zeit.de/wissen/gesundheit/2018-07/...  2018      7  \n",
       "15384664  https://www.zeit.de/wissen/gesundheit/2018-07/...  2018      7  \n",
       "15384665  https://www.zeit.de/wissen/gesundheit/2018-07/...  2018      7  \n",
       "15384666  https://www.zeit.de/wissen/gesundheit/2018-07/...  2018      7  \n",
       "\n",
       "[15384667 rows x 5 columns]"
      ]
     },
     "execution_count": 13,
     "metadata": {},
     "output_type": "execute_result"
    }
   ],
   "source": [
    "df"
   ]
  },
  {
   "cell_type": "code",
   "execution_count": 14,
   "metadata": {},
   "outputs": [],
   "source": [
    "data = []"
   ]
  },
  {
   "cell_type": "code",
   "execution_count": 15,
   "metadata": {},
   "outputs": [],
   "source": [
    "t_pos_s = set(t_pos)"
   ]
  },
  {
   "cell_type": "code",
   "execution_count": 16,
   "metadata": {},
   "outputs": [],
   "source": [
    "t_neg_s = set(t_neg)"
   ]
  },
  {
   "cell_type": "code",
   "execution_count": 17,
   "metadata": {},
   "outputs": [],
   "source": [
    "def count_tokens(texts):\n",
    "    tokens = gensim.utils.flatten(hy.preprocessing.tokenize_texts(texts))\n",
    "    t_len = len(tokens)\n",
    "    tokens = [t for t in tokens if t in t_pos_s or t in t_neg_s]\n",
    "    count_pos = 0\n",
    "    for t in t_pos:\n",
    "        count_pos += tokens.count(t)\n",
    "    count_neg = 0\n",
    "    for t in t_neg:\n",
    "        count_neg += tokens.count(t)\n",
    "    return count_pos / t_len, count_neg / t_len"
   ]
  },
  {
   "cell_type": "code",
   "execution_count": 18,
   "metadata": {},
   "outputs": [],
   "source": [
    "from concurrent.futures import ProcessPoolExecutor"
   ]
  },
  {
   "cell_type": "code",
   "execution_count": 19,
   "metadata": {},
   "outputs": [],
   "source": [
    "from tqdm import tqdm"
   ]
  },
  {
   "cell_type": "code",
   "execution_count": 20,
   "metadata": {},
   "outputs": [],
   "source": [
    "def exe(args):\n",
    "    i = args[0]\n",
    "    print(i)\n",
    "    name = args[1][0]\n",
    "    group = args[1][1]\n",
    "    \n",
    "    res_pos, res_neg = count_tokens(group['text'].values)\n",
    "    return {'i': i, 'date': name, 'pos': res_pos, 'neg': res_neg}"
   ]
  },
  {
   "cell_type": "code",
   "execution_count": 22,
   "metadata": {},
   "outputs": [],
   "source": [
    "gr = list(enumerate(df.groupby(['year', 'month'])))"
   ]
  },
  {
   "cell_type": "code",
   "execution_count": 23,
   "metadata": {},
   "outputs": [
    {
     "name": "stderr",
     "output_type": "stream",
     "text": [
      "0it [00:00, ?it/s]"
     ]
    },
    {
     "name": "stdout",
     "output_type": "stream",
     "text": [
      "0\n",
      "1\n",
      "2\n",
      "3\n",
      "5\n",
      "4\n",
      "6\n",
      "7\n",
      "8\n",
      "9\n",
      "10\n"
     ]
    },
    {
     "name": "stderr",
     "output_type": "stream",
     "text": [
      "7it [00:00, 34.77it/s]"
     ]
    },
    {
     "name": "stdout",
     "output_type": "stream",
     "text": [
      "11\n",
      "12\n",
      "13\n",
      "14\n",
      "15\n",
      "16\n"
     ]
    },
    {
     "name": "stderr",
     "output_type": "stream",
     "text": [
      "11it [00:00, 25.93it/s]"
     ]
    },
    {
     "name": "stdout",
     "output_type": "stream",
     "text": [
      "17\n",
      "18\n",
      "19\n",
      "20\n",
      "21\n",
      "22\n",
      "23\n",
      "24\n"
     ]
    },
    {
     "name": "stderr",
     "output_type": "stream",
     "text": [
      "16it [00:00, 28.34it/s]"
     ]
    },
    {
     "name": "stdout",
     "output_type": "stream",
     "text": [
      "25\n",
      "26\n",
      "27\n"
     ]
    },
    {
     "name": "stderr",
     "output_type": "stream",
     "text": [
      "25it [00:00, 34.02it/s]"
     ]
    },
    {
     "name": "stdout",
     "output_type": "stream",
     "text": [
      "28\n",
      "29\n",
      "30\n",
      "31\n",
      "32\n",
      "33\n",
      "34\n",
      "35\n",
      "36\n"
     ]
    },
    {
     "name": "stderr",
     "output_type": "stream",
     "text": [
      "30it [00:01, 19.48it/s]"
     ]
    },
    {
     "name": "stdout",
     "output_type": "stream",
     "text": [
      "37\n",
      "38\n",
      "39\n",
      "40\n"
     ]
    },
    {
     "name": "stderr",
     "output_type": "stream",
     "text": [
      "36it [00:02, 11.34it/s]"
     ]
    },
    {
     "name": "stdout",
     "output_type": "stream",
     "text": [
      "41\n",
      "42\n",
      "43\n"
     ]
    },
    {
     "name": "stderr",
     "output_type": "stream",
     "text": [
      "40it [00:03,  7.32it/s]"
     ]
    },
    {
     "name": "stdout",
     "output_type": "stream",
     "text": [
      "44\n"
     ]
    },
    {
     "name": "stderr",
     "output_type": "stream",
     "text": [
      "42it [00:03,  7.11it/s]"
     ]
    },
    {
     "name": "stdout",
     "output_type": "stream",
     "text": [
      "45\n",
      "46\n",
      "47\n"
     ]
    },
    {
     "name": "stderr",
     "output_type": "stream",
     "text": [
      "44it [00:05,  2.45it/s]"
     ]
    },
    {
     "name": "stdout",
     "output_type": "stream",
     "text": [
      "48\n",
      "49\n"
     ]
    },
    {
     "name": "stderr",
     "output_type": "stream",
     "text": [
      "47it [00:06,  3.11it/s]"
     ]
    },
    {
     "name": "stdout",
     "output_type": "stream",
     "text": [
      "50\n"
     ]
    },
    {
     "name": "stderr",
     "output_type": "stream",
     "text": [
      "48it [00:07,  1.84it/s]"
     ]
    },
    {
     "name": "stdout",
     "output_type": "stream",
     "text": [
      "51\n",
      "52\n"
     ]
    },
    {
     "name": "stderr",
     "output_type": "stream",
     "text": [
      "49it [00:07,  1.67it/s]"
     ]
    },
    {
     "name": "stdout",
     "output_type": "stream",
     "text": [
      "53\n",
      "54\n"
     ]
    },
    {
     "name": "stderr",
     "output_type": "stream",
     "text": [
      "52it [00:09,  1.77it/s]"
     ]
    },
    {
     "name": "stdout",
     "output_type": "stream",
     "text": [
      "55\n",
      "56\n"
     ]
    },
    {
     "name": "stderr",
     "output_type": "stream",
     "text": [
      "53it [00:10,  1.46it/s]"
     ]
    },
    {
     "name": "stdout",
     "output_type": "stream",
     "text": [
      "57\n"
     ]
    },
    {
     "name": "stderr",
     "output_type": "stream",
     "text": [
      "55it [00:10,  1.84it/s]"
     ]
    },
    {
     "name": "stdout",
     "output_type": "stream",
     "text": [
      "58\n"
     ]
    },
    {
     "name": "stderr",
     "output_type": "stream",
     "text": [
      "56it [00:12,  1.06it/s]"
     ]
    },
    {
     "name": "stdout",
     "output_type": "stream",
     "text": [
      "59\n"
     ]
    },
    {
     "name": "stderr",
     "output_type": "stream",
     "text": [
      "57it [00:13,  1.08it/s]"
     ]
    },
    {
     "name": "stdout",
     "output_type": "stream",
     "text": [
      "60\n"
     ]
    },
    {
     "name": "stderr",
     "output_type": "stream",
     "text": [
      "58it [00:14,  1.11it/s]"
     ]
    },
    {
     "name": "stdout",
     "output_type": "stream",
     "text": [
      "61\n"
     ]
    },
    {
     "name": "stderr",
     "output_type": "stream",
     "text": [
      "59it [00:15,  1.08it/s]"
     ]
    },
    {
     "name": "stdout",
     "output_type": "stream",
     "text": [
      "62\n"
     ]
    },
    {
     "name": "stderr",
     "output_type": "stream",
     "text": [
      "60it [00:17,  1.25s/it]"
     ]
    },
    {
     "name": "stdout",
     "output_type": "stream",
     "text": [
      "63\n"
     ]
    },
    {
     "name": "stderr",
     "output_type": "stream",
     "text": [
      "61it [00:17,  1.06s/it]"
     ]
    },
    {
     "name": "stdout",
     "output_type": "stream",
     "text": [
      "64\n"
     ]
    },
    {
     "name": "stderr",
     "output_type": "stream",
     "text": [
      "62it [00:19,  1.09s/it]"
     ]
    },
    {
     "name": "stdout",
     "output_type": "stream",
     "text": [
      "65\n"
     ]
    },
    {
     "name": "stderr",
     "output_type": "stream",
     "text": [
      "63it [00:20,  1.17s/it]"
     ]
    },
    {
     "name": "stdout",
     "output_type": "stream",
     "text": [
      "66\n"
     ]
    },
    {
     "name": "stderr",
     "output_type": "stream",
     "text": [
      "64it [00:21,  1.27s/it]"
     ]
    },
    {
     "name": "stdout",
     "output_type": "stream",
     "text": [
      "67\n"
     ]
    },
    {
     "name": "stderr",
     "output_type": "stream",
     "text": [
      "65it [00:22,  1.05s/it]"
     ]
    },
    {
     "name": "stdout",
     "output_type": "stream",
     "text": [
      "68\n"
     ]
    },
    {
     "name": "stderr",
     "output_type": "stream",
     "text": [
      "66it [00:24,  1.46s/it]"
     ]
    },
    {
     "name": "stdout",
     "output_type": "stream",
     "text": [
      "69\n"
     ]
    },
    {
     "name": "stderr",
     "output_type": "stream",
     "text": [
      "67it [00:25,  1.32s/it]"
     ]
    },
    {
     "name": "stdout",
     "output_type": "stream",
     "text": [
      "70\n",
      "71\n"
     ]
    },
    {
     "name": "stderr",
     "output_type": "stream",
     "text": [
      "68it [00:29,  2.05s/it]"
     ]
    },
    {
     "name": "stdout",
     "output_type": "stream",
     "text": [
      "72\n"
     ]
    },
    {
     "name": "stderr",
     "output_type": "stream",
     "text": [
      "70it [00:32,  1.83s/it]"
     ]
    },
    {
     "name": "stdout",
     "output_type": "stream",
     "text": [
      "73\n"
     ]
    },
    {
     "name": "stderr",
     "output_type": "stream",
     "text": [
      "71it [00:32,  1.51s/it]"
     ]
    },
    {
     "name": "stdout",
     "output_type": "stream",
     "text": [
      "74\n"
     ]
    },
    {
     "name": "stderr",
     "output_type": "stream",
     "text": [
      "72it [00:36,  2.07s/it]"
     ]
    },
    {
     "name": "stdout",
     "output_type": "stream",
     "text": [
      "75\n"
     ]
    },
    {
     "name": "stderr",
     "output_type": "stream",
     "text": [
      "73it [00:37,  1.78s/it]"
     ]
    },
    {
     "name": "stdout",
     "output_type": "stream",
     "text": [
      "76\n",
      "77\n"
     ]
    },
    {
     "name": "stderr",
     "output_type": "stream",
     "text": [
      "74it [00:39,  1.92s/it]"
     ]
    },
    {
     "name": "stdout",
     "output_type": "stream",
     "text": [
      "78\n"
     ]
    },
    {
     "name": "stderr",
     "output_type": "stream",
     "text": [
      "76it [00:43,  1.90s/it]"
     ]
    },
    {
     "name": "stdout",
     "output_type": "stream",
     "text": [
      "79\n"
     ]
    },
    {
     "name": "stderr",
     "output_type": "stream",
     "text": [
      "77it [00:43,  1.40s/it]"
     ]
    },
    {
     "name": "stdout",
     "output_type": "stream",
     "text": [
      "80\n"
     ]
    },
    {
     "name": "stderr",
     "output_type": "stream",
     "text": [
      "78it [00:46,  1.90s/it]"
     ]
    },
    {
     "name": "stdout",
     "output_type": "stream",
     "text": [
      "81\n"
     ]
    },
    {
     "name": "stderr",
     "output_type": "stream",
     "text": [
      "79it [00:47,  1.43s/it]"
     ]
    },
    {
     "name": "stdout",
     "output_type": "stream",
     "text": [
      "82\n"
     ]
    },
    {
     "name": "stderr",
     "output_type": "stream",
     "text": [
      "80it [00:50,  2.04s/it]"
     ]
    },
    {
     "name": "stdout",
     "output_type": "stream",
     "text": [
      "83\n"
     ]
    },
    {
     "name": "stderr",
     "output_type": "stream",
     "text": [
      "81it [00:51,  1.61s/it]"
     ]
    },
    {
     "name": "stdout",
     "output_type": "stream",
     "text": [
      "84\n"
     ]
    },
    {
     "name": "stderr",
     "output_type": "stream",
     "text": [
      "82it [00:54,  2.09s/it]"
     ]
    },
    {
     "name": "stdout",
     "output_type": "stream",
     "text": [
      "85\n"
     ]
    },
    {
     "name": "stderr",
     "output_type": "stream",
     "text": [
      "83it [00:55,  1.68s/it]"
     ]
    },
    {
     "name": "stdout",
     "output_type": "stream",
     "text": [
      "86\n"
     ]
    },
    {
     "name": "stderr",
     "output_type": "stream",
     "text": [
      "84it [00:58,  2.21s/it]"
     ]
    },
    {
     "name": "stdout",
     "output_type": "stream",
     "text": [
      "87\n"
     ]
    },
    {
     "name": "stderr",
     "output_type": "stream",
     "text": [
      "85it [00:59,  1.89s/it]"
     ]
    },
    {
     "name": "stdout",
     "output_type": "stream",
     "text": [
      "88\n"
     ]
    },
    {
     "name": "stderr",
     "output_type": "stream",
     "text": [
      "86it [01:01,  1.92s/it]"
     ]
    },
    {
     "name": "stdout",
     "output_type": "stream",
     "text": [
      "89\n"
     ]
    },
    {
     "name": "stderr",
     "output_type": "stream",
     "text": [
      "87it [01:02,  1.57s/it]"
     ]
    },
    {
     "name": "stdout",
     "output_type": "stream",
     "text": [
      "90\n"
     ]
    },
    {
     "name": "stderr",
     "output_type": "stream",
     "text": [
      "88it [01:05,  2.13s/it]"
     ]
    },
    {
     "name": "stdout",
     "output_type": "stream",
     "text": [
      "91\n"
     ]
    },
    {
     "name": "stderr",
     "output_type": "stream",
     "text": [
      "89it [01:06,  1.56s/it]"
     ]
    },
    {
     "name": "stdout",
     "output_type": "stream",
     "text": [
      "92\n"
     ]
    },
    {
     "name": "stderr",
     "output_type": "stream",
     "text": [
      "90it [01:09,  2.10s/it]"
     ]
    },
    {
     "name": "stdout",
     "output_type": "stream",
     "text": [
      "93\n"
     ]
    },
    {
     "name": "stderr",
     "output_type": "stream",
     "text": [
      "91it [01:09,  1.57s/it]"
     ]
    },
    {
     "name": "stdout",
     "output_type": "stream",
     "text": [
      "94\n",
      "95\n"
     ]
    },
    {
     "name": "stderr",
     "output_type": "stream",
     "text": [
      "92it [01:13,  2.37s/it]"
     ]
    },
    {
     "name": "stdout",
     "output_type": "stream",
     "text": [
      "96\n"
     ]
    },
    {
     "name": "stderr",
     "output_type": "stream",
     "text": [
      "94it [01:16,  2.00s/it]"
     ]
    },
    {
     "name": "stdout",
     "output_type": "stream",
     "text": [
      "97\n"
     ]
    },
    {
     "name": "stderr",
     "output_type": "stream",
     "text": [
      "95it [01:16,  1.46s/it]"
     ]
    },
    {
     "name": "stdout",
     "output_type": "stream",
     "text": [
      "98\n"
     ]
    },
    {
     "name": "stderr",
     "output_type": "stream",
     "text": [
      "96it [01:21,  2.55s/it]"
     ]
    },
    {
     "name": "stdout",
     "output_type": "stream",
     "text": [
      "99\n"
     ]
    },
    {
     "name": "stderr",
     "output_type": "stream",
     "text": [
      "97it [01:22,  2.18s/it]"
     ]
    },
    {
     "name": "stdout",
     "output_type": "stream",
     "text": [
      "100\n",
      "101\n"
     ]
    },
    {
     "name": "stderr",
     "output_type": "stream",
     "text": [
      "98it [01:25,  2.24s/it]"
     ]
    },
    {
     "name": "stdout",
     "output_type": "stream",
     "text": [
      "102\n",
      "103\n"
     ]
    },
    {
     "name": "stderr",
     "output_type": "stream",
     "text": [
      "100it [01:29,  2.26s/it]"
     ]
    },
    {
     "name": "stdout",
     "output_type": "stream",
     "text": [
      "104\n"
     ]
    },
    {
     "name": "stderr",
     "output_type": "stream",
     "text": [
      "102it [01:34,  2.25s/it]"
     ]
    },
    {
     "name": "stdout",
     "output_type": "stream",
     "text": [
      "105\n"
     ]
    },
    {
     "name": "stderr",
     "output_type": "stream",
     "text": [
      "103it [01:35,  1.80s/it]"
     ]
    },
    {
     "name": "stdout",
     "output_type": "stream",
     "text": [
      "106\n",
      "107\n"
     ]
    },
    {
     "name": "stderr",
     "output_type": "stream",
     "text": [
      "104it [01:41,  3.06s/it]"
     ]
    },
    {
     "name": "stdout",
     "output_type": "stream",
     "text": [
      "108\n"
     ]
    },
    {
     "name": "stderr",
     "output_type": "stream",
     "text": [
      "106it [01:44,  2.72s/it]"
     ]
    },
    {
     "name": "stdout",
     "output_type": "stream",
     "text": [
      "109\n"
     ]
    },
    {
     "name": "stderr",
     "output_type": "stream",
     "text": [
      "107it [01:45,  2.00s/it]"
     ]
    },
    {
     "name": "stdout",
     "output_type": "stream",
     "text": [
      "110\n",
      "111\n"
     ]
    },
    {
     "name": "stderr",
     "output_type": "stream",
     "text": [
      "108it [01:53,  3.99s/it]"
     ]
    },
    {
     "name": "stdout",
     "output_type": "stream",
     "text": [
      "112\n",
      "113\n"
     ]
    },
    {
     "name": "stderr",
     "output_type": "stream",
     "text": [
      "110it [01:57,  3.29s/it]"
     ]
    },
    {
     "name": "stdout",
     "output_type": "stream",
     "text": [
      "114\n"
     ]
    },
    {
     "name": "stderr",
     "output_type": "stream",
     "text": [
      "112it [02:04,  3.44s/it]"
     ]
    },
    {
     "name": "stdout",
     "output_type": "stream",
     "text": [
      "115\n"
     ]
    },
    {
     "name": "stderr",
     "output_type": "stream",
     "text": [
      "113it [02:07,  3.15s/it]"
     ]
    },
    {
     "name": "stdout",
     "output_type": "stream",
     "text": [
      "116\n",
      "117\n"
     ]
    },
    {
     "name": "stderr",
     "output_type": "stream",
     "text": [
      "114it [02:13,  4.20s/it]"
     ]
    },
    {
     "name": "stdout",
     "output_type": "stream",
     "text": [
      "118\n"
     ]
    },
    {
     "name": "stderr",
     "output_type": "stream",
     "text": [
      "116it [02:19,  3.79s/it]"
     ]
    },
    {
     "name": "stdout",
     "output_type": "stream",
     "text": [
      "119\n"
     ]
    },
    {
     "name": "stderr",
     "output_type": "stream",
     "text": [
      "117it [02:20,  2.83s/it]"
     ]
    },
    {
     "name": "stdout",
     "output_type": "stream",
     "text": [
      "120\n"
     ]
    },
    {
     "name": "stderr",
     "output_type": "stream",
     "text": [
      "118it [02:24,  3.20s/it]"
     ]
    },
    {
     "name": "stdout",
     "output_type": "stream",
     "text": [
      "121\n"
     ]
    },
    {
     "name": "stderr",
     "output_type": "stream",
     "text": [
      "119it [02:27,  3.30s/it]"
     ]
    },
    {
     "name": "stdout",
     "output_type": "stream",
     "text": [
      "122\n",
      "123\n"
     ]
    },
    {
     "name": "stderr",
     "output_type": "stream",
     "text": [
      "120it [02:34,  4.49s/it]"
     ]
    },
    {
     "name": "stdout",
     "output_type": "stream",
     "text": [
      "124\n"
     ]
    },
    {
     "name": "stderr",
     "output_type": "stream",
     "text": [
      "122it [02:39,  3.87s/it]"
     ]
    },
    {
     "name": "stdout",
     "output_type": "stream",
     "text": [
      "125\n"
     ]
    },
    {
     "name": "stderr",
     "output_type": "stream",
     "text": [
      "123it [02:45,  4.48s/it]"
     ]
    },
    {
     "name": "stdout",
     "output_type": "stream",
     "text": [
      "126\n",
      "127\n"
     ]
    },
    {
     "name": "stderr",
     "output_type": "stream",
     "text": [
      "124it [02:51,  4.82s/it]"
     ]
    },
    {
     "name": "stdout",
     "output_type": "stream",
     "text": [
      "128\n"
     ]
    },
    {
     "name": "stderr",
     "output_type": "stream",
     "text": [
      "126it [02:58,  4.42s/it]"
     ]
    },
    {
     "name": "stdout",
     "output_type": "stream",
     "text": [
      "129\n"
     ]
    },
    {
     "name": "stderr",
     "output_type": "stream",
     "text": [
      "127it [03:05,  5.17s/it]"
     ]
    },
    {
     "name": "stdout",
     "output_type": "stream",
     "text": [
      "130\n"
     ]
    },
    {
     "name": "stderr",
     "output_type": "stream",
     "text": [
      "128it [03:07,  4.44s/it]"
     ]
    },
    {
     "name": "stdout",
     "output_type": "stream",
     "text": [
      "131\n"
     ]
    },
    {
     "name": "stderr",
     "output_type": "stream",
     "text": [
      "129it [03:10,  3.84s/it]"
     ]
    },
    {
     "name": "stdout",
     "output_type": "stream",
     "text": [
      "132\n"
     ]
    },
    {
     "name": "stderr",
     "output_type": "stream",
     "text": [
      "130it [03:17,  4.70s/it]"
     ]
    },
    {
     "name": "stdout",
     "output_type": "stream",
     "text": [
      "133\n"
     ]
    },
    {
     "name": "stderr",
     "output_type": "stream",
     "text": [
      "131it [03:25,  5.90s/it]"
     ]
    },
    {
     "name": "stdout",
     "output_type": "stream",
     "text": [
      "134\n"
     ]
    },
    {
     "name": "stderr",
     "output_type": "stream",
     "text": [
      "132it [03:29,  5.37s/it]"
     ]
    },
    {
     "name": "stdout",
     "output_type": "stream",
     "text": [
      "135\n"
     ]
    },
    {
     "name": "stderr",
     "output_type": "stream",
     "text": [
      "133it [03:32,  4.54s/it]"
     ]
    },
    {
     "name": "stdout",
     "output_type": "stream",
     "text": [
      "136\n"
     ]
    },
    {
     "name": "stderr",
     "output_type": "stream",
     "text": [
      "134it [03:40,  5.65s/it]"
     ]
    },
    {
     "name": "stdout",
     "output_type": "stream",
     "text": [
      "137\n"
     ]
    },
    {
     "name": "stderr",
     "output_type": "stream",
     "text": [
      "135it [03:47,  5.96s/it]"
     ]
    },
    {
     "name": "stdout",
     "output_type": "stream",
     "text": [
      "138\n",
      "139\n"
     ]
    },
    {
     "name": "stderr",
     "output_type": "stream",
     "text": [
      "136it [03:54,  6.30s/it]"
     ]
    },
    {
     "name": "stdout",
     "output_type": "stream",
     "text": [
      "140\n"
     ]
    },
    {
     "name": "stderr",
     "output_type": "stream",
     "text": [
      "138it [04:03,  5.72s/it]"
     ]
    },
    {
     "name": "stdout",
     "output_type": "stream",
     "text": [
      "141\n"
     ]
    },
    {
     "name": "stderr",
     "output_type": "stream",
     "text": [
      "139it [04:08,  5.72s/it]"
     ]
    },
    {
     "name": "stdout",
     "output_type": "stream",
     "text": [
      "142\n"
     ]
    },
    {
     "name": "stderr",
     "output_type": "stream",
     "text": [
      "140it [04:16,  6.10s/it]"
     ]
    },
    {
     "name": "stdout",
     "output_type": "stream",
     "text": [
      "143\n"
     ]
    },
    {
     "name": "stderr",
     "output_type": "stream",
     "text": [
      "141it [04:18,  5.01s/it]"
     ]
    },
    {
     "name": "stdout",
     "output_type": "stream",
     "text": [
      "144\n"
     ]
    },
    {
     "name": "stderr",
     "output_type": "stream",
     "text": [
      "142it [04:31,  7.47s/it]"
     ]
    },
    {
     "name": "stdout",
     "output_type": "stream",
     "text": [
      "145\n"
     ]
    },
    {
     "name": "stderr",
     "output_type": "stream",
     "text": [
      "143it [04:35,  6.44s/it]"
     ]
    },
    {
     "name": "stdout",
     "output_type": "stream",
     "text": [
      "146\n",
      "147\n"
     ]
    },
    {
     "name": "stderr",
     "output_type": "stream",
     "text": [
      "144it [04:46,  7.64s/it]"
     ]
    },
    {
     "name": "stdout",
     "output_type": "stream",
     "text": [
      "148\n"
     ]
    },
    {
     "name": "stderr",
     "output_type": "stream",
     "text": [
      "146it [05:07,  8.60s/it]"
     ]
    },
    {
     "name": "stdout",
     "output_type": "stream",
     "text": [
      "149\n"
     ]
    },
    {
     "name": "stderr",
     "output_type": "stream",
     "text": [
      "147it [05:14,  8.07s/it]"
     ]
    },
    {
     "name": "stdout",
     "output_type": "stream",
     "text": [
      "150\n"
     ]
    },
    {
     "name": "stderr",
     "output_type": "stream",
     "text": [
      "148it [05:22,  8.11s/it]"
     ]
    },
    {
     "name": "stdout",
     "output_type": "stream",
     "text": [
      "151\n"
     ]
    },
    {
     "name": "stderr",
     "output_type": "stream",
     "text": [
      "149it [05:23,  5.85s/it]"
     ]
    },
    {
     "name": "stdout",
     "output_type": "stream",
     "text": [
      "152\n"
     ]
    },
    {
     "name": "stderr",
     "output_type": "stream",
     "text": [
      "150it [05:47, 11.33s/it]"
     ]
    },
    {
     "name": "stdout",
     "output_type": "stream",
     "text": [
      "153\n"
     ]
    },
    {
     "name": "stderr",
     "output_type": "stream",
     "text": [
      "151it [05:53,  9.59s/it]"
     ]
    },
    {
     "name": "stdout",
     "output_type": "stream",
     "text": [
      "154\n",
      "155\n"
     ]
    },
    {
     "name": "stderr",
     "output_type": "stream",
     "text": [
      "152it [06:06, 10.67s/it]"
     ]
    },
    {
     "name": "stdout",
     "output_type": "stream",
     "text": [
      "156\n"
     ]
    },
    {
     "name": "stderr",
     "output_type": "stream",
     "text": [
      "154it [06:24, 10.20s/it]"
     ]
    },
    {
     "name": "stdout",
     "output_type": "stream",
     "text": [
      "157\n"
     ]
    },
    {
     "name": "stderr",
     "output_type": "stream",
     "text": [
      "155it [06:29,  8.68s/it]"
     ]
    },
    {
     "name": "stdout",
     "output_type": "stream",
     "text": [
      "158\n"
     ]
    },
    {
     "name": "stderr",
     "output_type": "stream",
     "text": [
      "156it [06:38,  8.70s/it]"
     ]
    },
    {
     "name": "stdout",
     "output_type": "stream",
     "text": [
      "159\n"
     ]
    },
    {
     "name": "stderr",
     "output_type": "stream",
     "text": [
      "157it [06:43,  7.74s/it]"
     ]
    },
    {
     "name": "stdout",
     "output_type": "stream",
     "text": [
      "160\n"
     ]
    },
    {
     "name": "stderr",
     "output_type": "stream",
     "text": [
      "158it [06:59, 10.17s/it]"
     ]
    },
    {
     "name": "stdout",
     "output_type": "stream",
     "text": [
      "161\n"
     ]
    },
    {
     "name": "stderr",
     "output_type": "stream",
     "text": [
      "159it [07:05,  8.72s/it]"
     ]
    },
    {
     "name": "stdout",
     "output_type": "stream",
     "text": [
      "162\n"
     ]
    },
    {
     "name": "stderr",
     "output_type": "stream",
     "text": [
      "160it [07:13,  8.72s/it]"
     ]
    },
    {
     "name": "stdout",
     "output_type": "stream",
     "text": [
      "163\n"
     ]
    },
    {
     "name": "stderr",
     "output_type": "stream",
     "text": [
      "161it [07:17,  7.28s/it]"
     ]
    },
    {
     "name": "stdout",
     "output_type": "stream",
     "text": [
      "164\n"
     ]
    },
    {
     "name": "stderr",
     "output_type": "stream",
     "text": [
      "162it [07:33,  9.72s/it]"
     ]
    },
    {
     "name": "stdout",
     "output_type": "stream",
     "text": [
      "165\n"
     ]
    },
    {
     "name": "stderr",
     "output_type": "stream",
     "text": [
      "163it [07:39,  8.61s/it]"
     ]
    },
    {
     "name": "stdout",
     "output_type": "stream",
     "text": [
      "166\n"
     ]
    },
    {
     "name": "stderr",
     "output_type": "stream",
     "text": [
      "167it [08:14,  2.96s/it]\n"
     ]
    }
   ],
   "source": [
    "with ProcessPoolExecutor(max_workers=4) as executor:\n",
    "    future = list(tqdm(executor.map(exe, gr)))\n",
    "#     print(future.result())"
   ]
  },
  {
   "cell_type": "code",
   "execution_count": null,
   "metadata": {},
   "outputs": [],
   "source": [
    "df"
   ]
  },
  {
   "cell_type": "code",
   "execution_count": 86,
   "metadata": {},
   "outputs": [],
   "source": [
    "import pickle"
   ]
  },
  {
   "cell_type": "code",
   "execution_count": 87,
   "metadata": {},
   "outputs": [
    {
     "ename": "TypeError",
     "evalue": "file must have a 'write' attribute",
     "output_type": "error",
     "traceback": [
      "\u001b[0;31m---------------------------------------------------------------------------\u001b[0m",
      "\u001b[0;31mTypeError\u001b[0m                                 Traceback (most recent call last)",
      "\u001b[0;32m<ipython-input-87-1504f8e50a78>\u001b[0m in \u001b[0;36m<module>\u001b[0;34m\u001b[0m\n\u001b[0;32m----> 1\u001b[0;31m \u001b[0mpickle\u001b[0m\u001b[0;34m.\u001b[0m\u001b[0mdump\u001b[0m\u001b[0;34m(\u001b[0m\u001b[0mfuture\u001b[0m\u001b[0;34m,\u001b[0m \u001b[0;34m'data.pkl'\u001b[0m\u001b[0;34m)\u001b[0m\u001b[0;34m\u001b[0m\u001b[0;34m\u001b[0m\u001b[0m\n\u001b[0m",
      "\u001b[0;31mTypeError\u001b[0m: file must have a 'write' attribute"
     ]
    }
   ],
   "source": [
    "pickle.dump(future, 'data.pkl') "
   ]
  },
  {
   "cell_type": "code",
   "execution_count": 26,
   "metadata": {},
   "outputs": [
    {
     "data": {
      "text/plain": [
       "284"
      ]
     },
     "execution_count": 26,
     "metadata": {},
     "output_type": "execute_result"
    }
   ],
   "source": [
    "len(t_pos)"
   ]
  },
  {
   "cell_type": "code",
   "execution_count": 28,
   "metadata": {},
   "outputs": [
    {
     "data": {
      "text/plain": [
       "919"
      ]
     },
     "execution_count": 28,
     "metadata": {},
     "output_type": "execute_result"
    }
   ],
   "source": [
    "len(t_neg)"
   ]
  },
  {
   "cell_type": "code",
   "execution_count": 30,
   "metadata": {},
   "outputs": [
    {
     "data": {
      "text/plain": [
       "['freuden',\n",
       " 'loben',\n",
       " 'lobs',\n",
       " 'lobes',\n",
       " 'lobe',\n",
       " 'muts',\n",
       " 'mutes',\n",
       " 'abwechslungsreichster',\n",
       " 'abwechslungsreichere',\n",
       " 'abwechslungsreicheren',\n",
       " 'abwechslungsreicherem',\n",
       " 'abwechslungsreichsten',\n",
       " 'abwechslungsreichstem',\n",
       " 'abwechslungsreichstes',\n",
       " 'abwechslungsreichste',\n",
       " 'abwechslungsreichen',\n",
       " 'abwechslungsreichem',\n",
       " 'abwechslungsreicherer',\n",
       " 'abwechslungsreicher',\n",
       " 'abwechslungsreicheres',\n",
       " 'abwechslungsreiches',\n",
       " 'abwechslungsreiche',\n",
       " 'euphorischerem',\n",
       " 'euphorische',\n",
       " 'euphorisches',\n",
       " 'euphorischstes',\n",
       " 'euphorischster',\n",
       " 'euphorischste',\n",
       " 'euphorischeres',\n",
       " 'euphorischstem',\n",
       " 'euphorischerer',\n",
       " 'euphorischem',\n",
       " 'euphorischen',\n",
       " 'euphorischere',\n",
       " 'euphorischeren',\n",
       " 'euphorischsten',\n",
       " 'euphorischer',\n",
       " 'freundlichsten',\n",
       " 'freundlichstem',\n",
       " 'freundlicheren',\n",
       " 'freundlichen',\n",
       " 'freundlicherem',\n",
       " 'freundlichem',\n",
       " 'freundlicheres',\n",
       " 'freundlicherer',\n",
       " 'freundlichere',\n",
       " 'freundlicher',\n",
       " 'freundliche',\n",
       " 'freundlichster',\n",
       " 'freundlichste',\n",
       " 'freundlichstes',\n",
       " 'freundliches',\n",
       " 'gelungnerem',\n",
       " 'gelungenster',\n",
       " 'gelungneren',\n",
       " 'gelungensten',\n",
       " 'gelungeneren',\n",
       " 'gelungenerem',\n",
       " 'gelungenstem',\n",
       " 'gelungneres',\n",
       " 'gelungene',\n",
       " 'gelungnerer',\n",
       " 'gelungenstes',\n",
       " 'gelungenere',\n",
       " 'gelungenen',\n",
       " 'gelungenste',\n",
       " 'gelungenem',\n",
       " 'gelungener',\n",
       " 'gelungenes',\n",
       " 'gelungenerer',\n",
       " 'gelungnere',\n",
       " 'gelungeneres',\n",
       " 'gelungner',\n",
       " 'gigantischer',\n",
       " 'gigantisches',\n",
       " 'gigantischen',\n",
       " 'gigantischem',\n",
       " 'gigantischere',\n",
       " 'gigantischstem',\n",
       " 'gigantischsten',\n",
       " 'gigantischster',\n",
       " 'gigantischeres',\n",
       " 'gigantischstes',\n",
       " 'gigantischste',\n",
       " 'gigantische',\n",
       " 'gigantischerer',\n",
       " 'gigantischerem',\n",
       " 'gigantischeren',\n",
       " 'hervorragendstes',\n",
       " 'hervorragendster',\n",
       " 'hervorragendere',\n",
       " 'hervorragendstem',\n",
       " 'hervorragendsten',\n",
       " 'hervorragendste',\n",
       " 'hervorragender',\n",
       " 'hervorragendes',\n",
       " 'hervorragenden',\n",
       " 'hervorragendem',\n",
       " 'hervorragenderen',\n",
       " 'hervorragenderer',\n",
       " 'hervorragenderem',\n",
       " 'hervorragende',\n",
       " 'hervorragenderes',\n",
       " 'kreative',\n",
       " 'kreativste',\n",
       " 'kreatives',\n",
       " 'kreativstem',\n",
       " 'kreativer',\n",
       " 'kreativeres',\n",
       " 'kreativerer',\n",
       " 'kreativster',\n",
       " 'kreativen',\n",
       " 'kreativstes',\n",
       " 'kreativem',\n",
       " 'kreativeren',\n",
       " 'kreativere',\n",
       " 'kreativsten',\n",
       " 'kreativerem',\n",
       " 'perfekterer',\n",
       " 'perfekteren',\n",
       " 'perfektes',\n",
       " 'perfekter',\n",
       " 'perfekterem',\n",
       " 'perfektester',\n",
       " 'perfektestes',\n",
       " 'perfektem',\n",
       " 'perfekten',\n",
       " 'perfektesten',\n",
       " 'perfekteres',\n",
       " 'perfekteste',\n",
       " 'perfektestem',\n",
       " 'perfektere',\n",
       " 'perfekte',\n",
       " 'phantastische',\n",
       " 'phantastischem',\n",
       " 'phantastischen',\n",
       " 'phantastischer',\n",
       " 'phantastisches',\n",
       " 'phantastischere',\n",
       " 'phantastischerem',\n",
       " 'phantastischeren',\n",
       " 'phantastischerer',\n",
       " 'phantastischeres',\n",
       " 'phantastischste',\n",
       " 'phantastischstem',\n",
       " 'phantastischsten',\n",
       " 'phantastischster',\n",
       " 'phantastischstes',\n",
       " 'romantischer',\n",
       " 'romantisches',\n",
       " 'romantische',\n",
       " 'romantischem',\n",
       " 'romantischen',\n",
       " 'romantischerer',\n",
       " 'romantischeres',\n",
       " 'romantischere',\n",
       " 'romantischerem',\n",
       " 'romantischeren',\n",
       " 'romantischster',\n",
       " 'romantischstes',\n",
       " 'romantischste',\n",
       " 'romantischstem',\n",
       " 'romantischsten',\n",
       " 'spannendste',\n",
       " 'spannender',\n",
       " 'spannendes',\n",
       " 'spannenderen',\n",
       " 'spannenderem',\n",
       " 'spannenden',\n",
       " 'spannende',\n",
       " 'spannenderer',\n",
       " 'spannendem',\n",
       " 'spannenderes',\n",
       " 'spannendsten',\n",
       " 'spannendstem',\n",
       " 'spannendere',\n",
       " 'spannendstes',\n",
       " 'spannendster',\n",
       " 'stolzere',\n",
       " 'stolzester',\n",
       " 'stolzen',\n",
       " 'stolzeres',\n",
       " 'stolzem',\n",
       " 'stolzerer',\n",
       " 'stolzesten',\n",
       " 'stolzerem',\n",
       " 'stolzestem',\n",
       " 'stolzeren',\n",
       " 'stolze',\n",
       " 'stolzes',\n",
       " 'stolzer',\n",
       " 'stolzeste',\n",
       " 'stolzestes',\n",
       " 'supererem',\n",
       " 'superes',\n",
       " 'superer',\n",
       " 'supereren',\n",
       " 'supere',\n",
       " 'supererer',\n",
       " 'supereres',\n",
       " 'superste',\n",
       " 'superem',\n",
       " 'superen',\n",
       " 'superstes',\n",
       " 'superster',\n",
       " 'superst',\n",
       " 'superstem',\n",
       " 'supersten',\n",
       " 'superere',\n",
       " 'tollere',\n",
       " 'tollste',\n",
       " 'tollerer',\n",
       " 'tolleres',\n",
       " 'tollerem',\n",
       " 'tolles',\n",
       " 'toller',\n",
       " 'tolleren',\n",
       " 'tollstem',\n",
       " 'tollsten',\n",
       " 'tollstes',\n",
       " 'tollen',\n",
       " 'tollster',\n",
       " 'tollem',\n",
       " 'tolle',\n",
       " 'traumhafter',\n",
       " 'traumhafte',\n",
       " 'traumhaftester',\n",
       " 'traumhaftestes',\n",
       " 'traumhaften',\n",
       " 'traumhaftem',\n",
       " 'traumhafterem',\n",
       " 'traumhaftere',\n",
       " 'traumhaftesten',\n",
       " 'traumhafteste',\n",
       " 'traumhaftestem',\n",
       " 'traumhafteres',\n",
       " 'traumhafterer',\n",
       " 'traumhaftes',\n",
       " 'traumhafteren',\n",
       " 'wunderbarerem',\n",
       " 'wunderbarste',\n",
       " 'wunderbarster',\n",
       " 'wunderbarerer',\n",
       " 'wunderbarstes',\n",
       " 'wunderbareres',\n",
       " 'wunderbareren',\n",
       " 'wunderbares',\n",
       " 'wunderbarer',\n",
       " 'wunderbare',\n",
       " 'wunderbaren',\n",
       " 'wunderbarem',\n",
       " 'wunderbarsten',\n",
       " 'wunderbarere',\n",
       " 'wunderbarstem',\n",
       " 'wunderschönen',\n",
       " 'wunderschönsten',\n",
       " 'wunderschönstem',\n",
       " 'wunderschönes',\n",
       " 'wunderschönstes',\n",
       " 'wunderschöner',\n",
       " 'wunderschönster',\n",
       " 'wunderschönste',\n",
       " 'wunderschönere',\n",
       " 'wunderschönem',\n",
       " 'wunderschöneren',\n",
       " 'wunderschönerem',\n",
       " 'wunderschöne',\n",
       " 'wunderschöneres',\n",
       " 'wunderschönerer',\n",
       " 'zuvorkommendste',\n",
       " 'zuvorkommende',\n",
       " 'zuvorkommenderes',\n",
       " 'zuvorkommenderer',\n",
       " 'zuvorkommenderen',\n",
       " 'zuvorkommendes',\n",
       " 'zuvorkommendstes',\n",
       " 'zuvorkommender',\n",
       " 'zuvorkommenderem',\n",
       " 'zuvorkommenden',\n",
       " 'zuvorkommendem',\n",
       " 'zuvorkommendere',\n",
       " 'zuvorkommendsten',\n",
       " 'zuvorkommendstem',\n",
       " 'zuvorkommendster']"
      ]
     },
     "execution_count": 30,
     "metadata": {},
     "output_type": "execute_result"
    }
   ],
   "source": [
    "t_pos"
   ]
  },
  {
   "cell_type": "code",
   "execution_count": 24,
   "metadata": {},
   "outputs": [
    {
     "data": {
      "text/plain": [
       "[{'i': 0,\n",
       "  'date': (2005, 8),\n",
       "  'pos': 0.002197802197802198,\n",
       "  'neg': 0.0003139717425431711},\n",
       " {'i': 1,\n",
       "  'date': (2005, 9),\n",
       "  'pos': 0.0002677376171352075,\n",
       "  'neg': 0.00321285140562249},\n",
       " {'i': 2,\n",
       "  'date': (2005, 10),\n",
       "  'pos': 0.00044365572315882877,\n",
       "  'neg': 0.0013309671694764862},\n",
       " {'i': 3,\n",
       "  'date': (2005, 11),\n",
       "  'pos': 0.0003479955456570156,\n",
       "  'neg': 0.0007655902004454343},\n",
       " {'i': 4,\n",
       "  'date': (2005, 12),\n",
       "  'pos': 0.002144082332761578,\n",
       "  'neg': 0.0023584905660377358},\n",
       " {'i': 5,\n",
       "  'date': (2006, 1),\n",
       "  'pos': 0.00018130174654015834,\n",
       "  'neg': 0.0016921496343748111},\n",
       " {'i': 6,\n",
       "  'date': (2006, 2),\n",
       "  'pos': 0.0005668024853754264,\n",
       "  'neg': 0.0031334552493396217},\n",
       " {'i': 7,\n",
       "  'date': (2006, 3),\n",
       "  'pos': 0.0005633009435290804,\n",
       "  'neg': 0.002432435892511938},\n",
       " {'i': 8,\n",
       "  'date': (2006, 4),\n",
       "  'pos': 0.00033117535200734993,\n",
       "  'neg': 0.002617353588445185},\n",
       " {'i': 9,\n",
       "  'date': (2006, 5),\n",
       "  'pos': 0.0001333527300940743,\n",
       "  'neg': 0.003127727669479197},\n",
       " {'i': 10,\n",
       "  'date': (2006, 6),\n",
       "  'pos': 0.0003059605382059328,\n",
       "  'neg': 0.0030097978525839434},\n",
       " {'i': 11,\n",
       "  'date': (2006, 7),\n",
       "  'pos': 0.00040411750839105105,\n",
       "  'neg': 0.0030421067992770787},\n",
       " {'i': 12,\n",
       "  'date': (2006, 8),\n",
       "  'pos': 0.0003803603642765546,\n",
       "  'neg': 0.002227824990762677},\n",
       " {'i': 13,\n",
       "  'date': (2006, 9),\n",
       "  'pos': 0.0002886107002417115,\n",
       "  'neg': 0.0026425917240881706},\n",
       " {'i': 14,\n",
       "  'date': (2006, 10),\n",
       "  'pos': 0.00028468815697266995,\n",
       "  'neg': 0.0022008584442887178},\n",
       " {'i': 15,\n",
       "  'date': (2006, 11),\n",
       "  'pos': 0.0004720082264290892,\n",
       "  'neg': 0.003379916049965442},\n",
       " {'i': 16,\n",
       "  'date': (2006, 12),\n",
       "  'pos': 0.00030222437137330757,\n",
       "  'neg': 0.003445357833655706},\n",
       " {'i': 17,\n",
       "  'date': (2007, 1),\n",
       "  'pos': 0.0004756383959095098,\n",
       "  'neg': 0.002943012574690092},\n",
       " {'i': 18,\n",
       "  'date': (2007, 2),\n",
       "  'pos': 0.0004369101712687871,\n",
       "  'neg': 0.0029709891646277527},\n",
       " {'i': 19,\n",
       "  'date': (2007, 3),\n",
       "  'pos': 0.00039069282861607917,\n",
       "  'neg': 0.002648029171731203},\n",
       " {'i': 20,\n",
       "  'date': (2007, 4),\n",
       "  'pos': 0.00020711080428028995,\n",
       "  'neg': 0.0022782188470831894},\n",
       " {'i': 21,\n",
       "  'date': (2007, 5),\n",
       "  'pos': 0.00013124220749393005,\n",
       "  'neg': 0.002165496423649846},\n",
       " {'i': 22,\n",
       "  'date': (2007, 6),\n",
       "  'pos': 0.0002997781641585227,\n",
       "  'neg': 0.003027759458001079},\n",
       " {'i': 23,\n",
       "  'date': (2007, 7),\n",
       "  'pos': 0.000550487574709028,\n",
       "  'neg': 0.0023592324630386913},\n",
       " {'i': 24,\n",
       "  'date': (2007, 8),\n",
       "  'pos': 0.0003188071707089781,\n",
       "  'neg': 0.002513671922897712},\n",
       " {'i': 25,\n",
       "  'date': (2007, 9),\n",
       "  'pos': 0.00019425522546556503,\n",
       "  'neg': 0.0020850060866637312},\n",
       " {'i': 26,\n",
       "  'date': (2007, 10),\n",
       "  'pos': 0.00022523444858511815,\n",
       "  'neg': 0.0027437651009459847},\n",
       " {'i': 27,\n",
       "  'date': (2007, 11),\n",
       "  'pos': 0.0001799316259821268,\n",
       "  'neg': 0.002519042763749775},\n",
       " {'i': 28,\n",
       "  'date': (2007, 12),\n",
       "  'pos': 0.0002414875633904854,\n",
       "  'neg': 0.001787007969089592},\n",
       " {'i': 29,\n",
       "  'date': (2008, 1),\n",
       "  'pos': 0.0002949004073994517,\n",
       "  'neg': 0.002621336954661793},\n",
       " {'i': 30,\n",
       "  'date': (2008, 2),\n",
       "  'pos': 0.0005154174236860077,\n",
       "  'neg': 0.002474003633692837},\n",
       " {'i': 31,\n",
       "  'date': (2008, 3),\n",
       "  'pos': 0.00022747256112231462,\n",
       "  'neg': 0.0027734154567605283},\n",
       " {'i': 32,\n",
       "  'date': (2008, 4),\n",
       "  'pos': 0.000339739856338575,\n",
       "  'neg': 0.002608716754028344},\n",
       " {'i': 33,\n",
       "  'date': (2008, 5),\n",
       "  'pos': 0.0004965595516776619,\n",
       "  'neg': 0.00268916016947513},\n",
       " {'i': 34,\n",
       "  'date': (2008, 6),\n",
       "  'pos': 0.00027284199038231984,\n",
       "  'neg': 0.0026488409899616885},\n",
       " {'i': 35,\n",
       "  'date': (2008, 7),\n",
       "  'pos': 0.0003031360961861051,\n",
       "  'neg': 0.0025970929588978106},\n",
       " {'i': 36,\n",
       "  'date': (2008, 8),\n",
       "  'pos': 0.00035114427725445953,\n",
       "  'neg': 0.002491991645031648},\n",
       " {'i': 37,\n",
       "  'date': (2008, 9),\n",
       "  'pos': 0.00028352497978343625,\n",
       "  'neg': 0.003032484566379361},\n",
       " {'i': 38,\n",
       "  'date': (2008, 10),\n",
       "  'pos': 0.00043779939624408843,\n",
       "  'neg': 0.0027964860659312318},\n",
       " {'i': 39,\n",
       "  'date': (2008, 11),\n",
       "  'pos': 0.0002906592296658436,\n",
       "  'neg': 0.0023616062410349793},\n",
       " {'i': 40,\n",
       "  'date': (2008, 12),\n",
       "  'pos': 0.0003636328685667419,\n",
       "  'neg': 0.0028465885790444944},\n",
       " {'i': 41,\n",
       "  'date': (2009, 1),\n",
       "  'pos': 0.0002785670510891972,\n",
       "  'neg': 0.0030285238374825538},\n",
       " {'i': 42,\n",
       "  'date': (2009, 2),\n",
       "  'pos': 0.0003382353573470882,\n",
       "  'neg': 0.0024694047487670893},\n",
       " {'i': 43,\n",
       "  'date': (2009, 3),\n",
       "  'pos': 0.00030324855009286985,\n",
       "  'neg': 0.002978227794662082},\n",
       " {'i': 44,\n",
       "  'date': (2009, 4),\n",
       "  'pos': 0.0003420216500913065,\n",
       "  'neg': 0.0028558203504090362},\n",
       " {'i': 45,\n",
       "  'date': (2009, 5),\n",
       "  'pos': 0.00030113460626196716,\n",
       "  'neg': 0.0029306202193747468},\n",
       " {'i': 46,\n",
       "  'date': (2009, 6),\n",
       "  'pos': 0.00034889889738389554,\n",
       "  'neg': 0.0027465831008668304},\n",
       " {'i': 47,\n",
       "  'date': (2009, 7),\n",
       "  'pos': 0.000363609979926394,\n",
       "  'neg': 0.002578628573239473},\n",
       " {'i': 48,\n",
       "  'date': (2009, 8),\n",
       "  'pos': 0.0003094706521498858,\n",
       "  'neg': 0.002741025776184703},\n",
       " {'i': 49,\n",
       "  'date': (2009, 9),\n",
       "  'pos': 0.0003314192669870386,\n",
       "  'neg': 0.0027243023984668256},\n",
       " {'i': 50,\n",
       "  'date': (2009, 10),\n",
       "  'pos': 0.0003013195754560395,\n",
       "  'neg': 0.002595434038080666},\n",
       " {'i': 51,\n",
       "  'date': (2009, 11),\n",
       "  'pos': 0.00030592568519120355,\n",
       "  'neg': 0.0027221319467013324},\n",
       " {'i': 52,\n",
       "  'date': (2009, 12),\n",
       "  'pos': 0.00029891546345448705,\n",
       "  'neg': 0.0031238989108171},\n",
       " {'i': 53,\n",
       "  'date': (2010, 1),\n",
       "  'pos': 0.0003439958688421532,\n",
       "  'neg': 0.0027896541438271584},\n",
       " {'i': 54,\n",
       "  'date': (2010, 2),\n",
       "  'pos': 0.00028388669886296973,\n",
       "  'neg': 0.0028172889022553146},\n",
       " {'i': 55,\n",
       "  'date': (2010, 3),\n",
       "  'pos': 0.00030882556794952106,\n",
       "  'neg': 0.0027811848022726753},\n",
       " {'i': 56,\n",
       "  'date': (2010, 4),\n",
       "  'pos': 0.0003148157117256744,\n",
       "  'neg': 0.003125756768537802},\n",
       " {'i': 57,\n",
       "  'date': (2010, 5),\n",
       "  'pos': 0.00032464405433911916,\n",
       "  'neg': 0.0030711985285308565},\n",
       " {'i': 58,\n",
       "  'date': (2010, 6),\n",
       "  'pos': 0.0003211245467933774,\n",
       "  'neg': 0.00298299113068861},\n",
       " {'i': 59,\n",
       "  'date': (2010, 7),\n",
       "  'pos': 0.00033497154940330696,\n",
       "  'neg': 0.003021939037576373},\n",
       " {'i': 60,\n",
       "  'date': (2010, 8),\n",
       "  'pos': 0.00029031641509458055,\n",
       "  'neg': 0.0029670167349108894},\n",
       " {'i': 61,\n",
       "  'date': (2010, 9),\n",
       "  'pos': 0.0003079539246817909,\n",
       "  'neg': 0.0027672087159713895},\n",
       " {'i': 62,\n",
       "  'date': (2010, 10),\n",
       "  'pos': 0.0003178367720996569,\n",
       "  'neg': 0.0027287718251281165},\n",
       " {'i': 63,\n",
       "  'date': (2010, 11),\n",
       "  'pos': 0.00032188749625582254,\n",
       "  'neg': 0.0029587638544727123},\n",
       " {'i': 64,\n",
       "  'date': (2010, 12),\n",
       "  'pos': 0.00028894900277457185,\n",
       "  'neg': 0.0029357880081616727},\n",
       " {'i': 65,\n",
       "  'date': (2011, 1),\n",
       "  'pos': 0.0003133591470529816,\n",
       "  'neg': 0.00292136940268441},\n",
       " {'i': 66,\n",
       "  'date': (2011, 2),\n",
       "  'pos': 0.00032806018425703137,\n",
       "  'neg': 0.0027761319365901616},\n",
       " {'i': 67,\n",
       "  'date': (2011, 3),\n",
       "  'pos': 0.00026544773462747147,\n",
       "  'neg': 0.0030399084465073337},\n",
       " {'i': 68,\n",
       "  'date': (2011, 4),\n",
       "  'pos': 0.0002875988047026403,\n",
       "  'neg': 0.0030320792623490514},\n",
       " {'i': 69,\n",
       "  'date': (2011, 5),\n",
       "  'pos': 0.000285406260961021,\n",
       "  'neg': 0.003049326983625171},\n",
       " {'i': 70,\n",
       "  'date': (2011, 6),\n",
       "  'pos': 0.00028325226595188525,\n",
       "  'neg': 0.003018531163446096},\n",
       " {'i': 71,\n",
       "  'date': (2011, 7),\n",
       "  'pos': 0.0002820433106218276,\n",
       "  'neg': 0.0029771521946542964},\n",
       " {'i': 72,\n",
       "  'date': (2011, 8),\n",
       "  'pos': 0.00029278925795752443,\n",
       "  'neg': 0.002982229608392548},\n",
       " {'i': 73,\n",
       "  'date': (2011, 9),\n",
       "  'pos': 0.0002851256465111936,\n",
       "  'neg': 0.0029409352068453364},\n",
       " {'i': 74,\n",
       "  'date': (2011, 10),\n",
       "  'pos': 0.00032239214392510557,\n",
       "  'neg': 0.002994054394927774},\n",
       " {'i': 75,\n",
       "  'date': (2011, 11),\n",
       "  'pos': 0.00029325713567310437,\n",
       "  'neg': 0.0030350610360203394},\n",
       " {'i': 76,\n",
       "  'date': (2011, 12),\n",
       "  'pos': 0.000317643661565117,\n",
       "  'neg': 0.0028845646294623035},\n",
       " {'i': 77,\n",
       "  'date': (2012, 1),\n",
       "  'pos': 0.0002890257020551081,\n",
       "  'neg': 0.0028183323508936572},\n",
       " {'i': 78,\n",
       "  'date': (2012, 2),\n",
       "  'pos': 0.00031431117586985227,\n",
       "  'neg': 0.0027780632655317987},\n",
       " {'i': 79,\n",
       "  'date': (2012, 3),\n",
       "  'pos': 0.00026797811583514843,\n",
       "  'neg': 0.002820201691049102},\n",
       " {'i': 80,\n",
       "  'date': (2012, 4),\n",
       "  'pos': 0.0002875510127787363,\n",
       "  'neg': 0.002772319515009241},\n",
       " {'i': 81,\n",
       "  'date': (2012, 5),\n",
       "  'pos': 0.00029530293305074935,\n",
       "  'neg': 0.003031793448975729},\n",
       " {'i': 82,\n",
       "  'date': (2012, 6),\n",
       "  'pos': 0.0002929683313143131,\n",
       "  'neg': 0.003034246807002467},\n",
       " {'i': 83,\n",
       "  'date': (2012, 7),\n",
       "  'pos': 0.00029274993252174794,\n",
       "  'neg': 0.0030037843698745986},\n",
       " {'i': 84,\n",
       "  'date': (2012, 8),\n",
       "  'pos': 0.00026296630865913965,\n",
       "  'neg': 0.0029884748596018893},\n",
       " {'i': 85,\n",
       "  'date': (2012, 9),\n",
       "  'pos': 0.0003103280648509453,\n",
       "  'neg': 0.00309355826205773},\n",
       " {'i': 86,\n",
       "  'date': (2012, 10),\n",
       "  'pos': 0.0002913786089802577,\n",
       "  'neg': 0.0028115706807908523},\n",
       " {'i': 87,\n",
       "  'date': (2012, 11),\n",
       "  'pos': 0.00028693305270512766,\n",
       "  'neg': 0.0028559349596980962},\n",
       " {'i': 88,\n",
       "  'date': (2012, 12),\n",
       "  'pos': 0.00029498225324600024,\n",
       "  'neg': 0.002978214947919344},\n",
       " {'i': 89,\n",
       "  'date': (2013, 1),\n",
       "  'pos': 0.0002985434873480336,\n",
       "  'neg': 0.002737256913337716},\n",
       " {'i': 90,\n",
       "  'date': (2013, 2),\n",
       "  'pos': 0.0002915778849388808,\n",
       "  'neg': 0.0027587753728832566},\n",
       " {'i': 91,\n",
       "  'date': (2013, 3),\n",
       "  'pos': 0.00027836568831888175,\n",
       "  'neg': 0.002790988519839527},\n",
       " {'i': 92,\n",
       "  'date': (2013, 4),\n",
       "  'pos': 0.00029971927808020214,\n",
       "  'neg': 0.0026949506131756897},\n",
       " {'i': 93,\n",
       "  'date': (2013, 5),\n",
       "  'pos': 0.000341050541462976,\n",
       "  'neg': 0.0027865917302064705},\n",
       " {'i': 94,\n",
       "  'date': (2013, 6),\n",
       "  'pos': 0.00030045044631799126,\n",
       "  'neg': 0.002603712741851142},\n",
       " {'i': 95,\n",
       "  'date': (2013, 7),\n",
       "  'pos': 0.0003112935393172767,\n",
       "  'neg': 0.00270527747452138},\n",
       " {'i': 96,\n",
       "  'date': (2013, 8),\n",
       "  'pos': 0.00025755588677544856,\n",
       "  'neg': 0.002834431053780916},\n",
       " {'i': 97,\n",
       "  'date': (2013, 9),\n",
       "  'pos': 0.000239917541384146,\n",
       "  'neg': 0.0026834255443944155},\n",
       " {'i': 98,\n",
       "  'date': (2013, 10),\n",
       "  'pos': 0.0002779461118612835,\n",
       "  'neg': 0.0026825808632765704},\n",
       " {'i': 99,\n",
       "  'date': (2013, 11),\n",
       "  'pos': 0.00028661273079513524,\n",
       "  'neg': 0.002778226503074541},\n",
       " {'i': 100,\n",
       "  'date': (2013, 12),\n",
       "  'pos': 0.0003102483361751279,\n",
       "  'neg': 0.0027048613020919277},\n",
       " {'i': 101,\n",
       "  'date': (2014, 1),\n",
       "  'pos': 0.0002710106665281501,\n",
       "  'neg': 0.0026515929986447415},\n",
       " {'i': 102,\n",
       "  'date': (2014, 2),\n",
       "  'pos': 0.0002729488686763375,\n",
       "  'neg': 0.0027684260342466563},\n",
       " {'i': 103,\n",
       "  'date': (2014, 3),\n",
       "  'pos': 0.00023939025892872858,\n",
       "  'neg': 0.002607308611427532},\n",
       " {'i': 104,\n",
       "  'date': (2014, 4),\n",
       "  'pos': 0.000284029326892773,\n",
       "  'neg': 0.0026723354666920844},\n",
       " {'i': 105,\n",
       "  'date': (2014, 5),\n",
       "  'pos': 0.00027825621669840315,\n",
       "  'neg': 0.002620523188202823},\n",
       " {'i': 106,\n",
       "  'date': (2014, 6),\n",
       "  'pos': 0.00028807023246716804,\n",
       "  'neg': 0.002887392480343732},\n",
       " {'i': 107,\n",
       "  'date': (2014, 7),\n",
       "  'pos': 0.00025148038545033045,\n",
       "  'neg': 0.0030139414438684026},\n",
       " {'i': 108,\n",
       "  'date': (2014, 8),\n",
       "  'pos': 0.0002265822791031667,\n",
       "  'neg': 0.0030492764849371933},\n",
       " {'i': 109,\n",
       "  'date': (2014, 9),\n",
       "  'pos': 0.00023675787709076523,\n",
       "  'neg': 0.002892227649933091},\n",
       " {'i': 110,\n",
       "  'date': (2014, 10),\n",
       "  'pos': 0.0002614860453098068,\n",
       "  'neg': 0.002902134076840795},\n",
       " {'i': 111,\n",
       "  'date': (2014, 11),\n",
       "  'pos': 0.00024609962830813735,\n",
       "  'neg': 0.002719558755496945},\n",
       " {'i': 112,\n",
       "  'date': (2014, 12),\n",
       "  'pos': 0.000259969475692854,\n",
       "  'neg': 0.002910950727826107},\n",
       " {'i': 113,\n",
       "  'date': (2015, 1),\n",
       "  'pos': 0.0002445430751448087,\n",
       "  'neg': 0.003133997325896567},\n",
       " {'i': 114,\n",
       "  'date': (2015, 2),\n",
       "  'pos': 0.0002359743398604905,\n",
       "  'neg': 0.0030363584191478686},\n",
       " {'i': 115,\n",
       "  'date': (2015, 3),\n",
       "  'pos': 0.0002677381542249335,\n",
       "  'neg': 0.0029485968153603066},\n",
       " {'i': 116,\n",
       "  'date': (2015, 4),\n",
       "  'pos': 0.00025358629662355805,\n",
       "  'neg': 0.0028811983012348367},\n",
       " {'i': 117,\n",
       "  'date': (2015, 5),\n",
       "  'pos': 0.0002623875722717368,\n",
       "  'neg': 0.0028339502868496612},\n",
       " {'i': 118,\n",
       "  'date': (2015, 6),\n",
       "  'pos': 0.0002590754265450835,\n",
       "  'neg': 0.002891166934569317},\n",
       " {'i': 119,\n",
       "  'date': (2015, 7),\n",
       "  'pos': 0.0002662174623465321,\n",
       "  'neg': 0.0030506975997477417},\n",
       " {'i': 120,\n",
       "  'date': (2015, 8),\n",
       "  'pos': 0.00026063584595508994,\n",
       "  'neg': 0.00286471302895496},\n",
       " {'i': 121,\n",
       "  'date': (2015, 9),\n",
       "  'pos': 0.00029251414654607525,\n",
       "  'neg': 0.0025990107703407713},\n",
       " {'i': 122,\n",
       "  'date': (2015, 10),\n",
       "  'pos': 0.00025017134986485165,\n",
       "  'neg': 0.0025481144839252868},\n",
       " {'i': 123,\n",
       "  'date': (2015, 11),\n",
       "  'pos': 0.0002476661565745671,\n",
       "  'neg': 0.0026377191312068533},\n",
       " {'i': 124,\n",
       "  'date': (2015, 12),\n",
       "  'pos': 0.00027228472156188964,\n",
       "  'neg': 0.002741427608058644},\n",
       " {'i': 125,\n",
       "  'date': (2016, 1),\n",
       "  'pos': 0.00022989285921048194,\n",
       "  'neg': 0.002481329873452807},\n",
       " {'i': 126,\n",
       "  'date': (2016, 2),\n",
       "  'pos': 0.00025467318163144737,\n",
       "  'neg': 0.002546019301417823},\n",
       " {'i': 127,\n",
       "  'date': (2016, 3),\n",
       "  'pos': 0.0002402960814387646,\n",
       "  'neg': 0.0026412926226811345},\n",
       " {'i': 128,\n",
       "  'date': (2016, 4),\n",
       "  'pos': 0.00027976733423494684,\n",
       "  'neg': 0.0027781128900314545},\n",
       " {'i': 129,\n",
       "  'date': (2016, 5),\n",
       "  'pos': 0.0002581930491533952,\n",
       "  'neg': 0.0026947301776121062},\n",
       " {'i': 130,\n",
       "  'date': (2016, 6),\n",
       "  'pos': 0.00024551831033200664,\n",
       "  'neg': 0.0026843269896003777},\n",
       " {'i': 131,\n",
       "  'date': (2016, 7),\n",
       "  'pos': 0.00026166759939050754,\n",
       "  'neg': 0.0027669524443845513},\n",
       " {'i': 132,\n",
       "  'date': (2016, 8),\n",
       "  'pos': 0.0002621807210697342,\n",
       "  'neg': 0.0029166799429998667},\n",
       " {'i': 133,\n",
       "  'date': (2016, 9),\n",
       "  'pos': 0.0002422410609467556,\n",
       "  'neg': 0.0026022166700102956},\n",
       " {'i': 134,\n",
       "  'date': (2016, 10),\n",
       "  'pos': 0.0002548647246067838,\n",
       "  'neg': 0.002681624197444028},\n",
       " {'i': 135,\n",
       "  'date': (2016, 11),\n",
       "  'pos': 0.00025968516675509335,\n",
       "  'neg': 0.0026684660895351024},\n",
       " {'i': 136,\n",
       "  'date': (2016, 12),\n",
       "  'pos': 0.0002548101243609333,\n",
       "  'neg': 0.002889031509523782},\n",
       " {'i': 137,\n",
       "  'date': (2017, 1),\n",
       "  'pos': 0.00025090902377840053,\n",
       "  'neg': 0.0026229622850099297},\n",
       " {'i': 138,\n",
       "  'date': (2017, 2),\n",
       "  'pos': 0.000243996066015104,\n",
       "  'neg': 0.002773624804986192},\n",
       " {'i': 139,\n",
       "  'date': (2017, 3),\n",
       "  'pos': 0.0002635524056710931,\n",
       "  'neg': 0.0025893874062865338},\n",
       " {'i': 140,\n",
       "  'date': (2017, 4),\n",
       "  'pos': 0.0002512695636144051,\n",
       "  'neg': 0.002641803800320839},\n",
       " {'i': 141,\n",
       "  'date': (2017, 5),\n",
       "  'pos': 0.0002664209340997342,\n",
       "  'neg': 0.002607047867174981},\n",
       " {'i': 142,\n",
       "  'date': (2017, 6),\n",
       "  'pos': 0.00025807297664901907,\n",
       "  'neg': 0.002618023107504322},\n",
       " {'i': 143,\n",
       "  'date': (2017, 7),\n",
       "  'pos': 0.0002616037051442856,\n",
       "  'neg': 0.00257882117587417},\n",
       " {'i': 144,\n",
       "  'date': (2017, 8),\n",
       "  'pos': 0.00025378800757400096,\n",
       "  'neg': 0.0025916992468699883},\n",
       " {'i': 145,\n",
       "  'date': (2017, 9),\n",
       "  'pos': 0.00025190675286303335,\n",
       "  'neg': 0.002456160985979529},\n",
       " {'i': 146,\n",
       "  'date': (2017, 10),\n",
       "  'pos': 0.00025456918922039034,\n",
       "  'neg': 0.00259580227247403},\n",
       " {'i': 147,\n",
       "  'date': (2017, 11),\n",
       "  'pos': 0.0002580935026802711,\n",
       "  'neg': 0.0024717925905696696},\n",
       " {'i': 148,\n",
       "  'date': (2017, 12),\n",
       "  'pos': 0.0002551026559668982,\n",
       "  'neg': 0.00253055778204139},\n",
       " {'i': 149,\n",
       "  'date': (2018, 1),\n",
       "  'pos': 0.00025806168564154714,\n",
       "  'neg': 0.0025921023604676815},\n",
       " {'i': 150,\n",
       "  'date': (2018, 2),\n",
       "  'pos': 0.0002669705714044303,\n",
       "  'neg': 0.002560014693093372},\n",
       " {'i': 151,\n",
       "  'date': (2018, 3),\n",
       "  'pos': 0.00024077209444691821,\n",
       "  'neg': 0.0025873621295988743},\n",
       " {'i': 152,\n",
       "  'date': (2018, 4),\n",
       "  'pos': 0.00023673525270563944,\n",
       "  'neg': 0.0026830392846945946},\n",
       " {'i': 153,\n",
       "  'date': (2018, 5),\n",
       "  'pos': 0.00025346077990635955,\n",
       "  'neg': 0.0026232141956177533},\n",
       " {'i': 154,\n",
       "  'date': (2018, 6),\n",
       "  'pos': 0.00028509049656928184,\n",
       "  'neg': 0.0025184513738318384},\n",
       " {'i': 155,\n",
       "  'date': (2018, 7),\n",
       "  'pos': 0.0002779076496532693,\n",
       "  'neg': 0.002554904690332305},\n",
       " {'i': 156,\n",
       "  'date': (2018, 8),\n",
       "  'pos': 0.0002629033012768657,\n",
       "  'neg': 0.0026327696528165036},\n",
       " {'i': 157,\n",
       "  'date': (2018, 9),\n",
       "  'pos': 0.00024523454668200066,\n",
       "  'neg': 0.002584191365239884},\n",
       " {'i': 158,\n",
       "  'date': (2018, 10),\n",
       "  'pos': 0.0002608662030753033,\n",
       "  'neg': 0.002650208500840055},\n",
       " {'i': 159,\n",
       "  'date': (2018, 11),\n",
       "  'pos': 0.0002552327586374857,\n",
       "  'neg': 0.002513065549711908},\n",
       " {'i': 160,\n",
       "  'date': (2018, 12),\n",
       "  'pos': 0.00026898704483325933,\n",
       "  'neg': 0.0025500627768026396},\n",
       " {'i': 161,\n",
       "  'date': (2019, 1),\n",
       "  'pos': 0.00025648435986353667,\n",
       "  'neg': 0.00253854229336936},\n",
       " {'i': 162,\n",
       "  'date': (2019, 2),\n",
       "  'pos': 0.00027216102110828123,\n",
       "  'neg': 0.002513751637570012},\n",
       " {'i': 163,\n",
       "  'date': (2019, 3),\n",
       "  'pos': 0.00027149078089582076,\n",
       "  'neg': 0.0026131682603494663},\n",
       " {'i': 164,\n",
       "  'date': (2019, 4),\n",
       "  'pos': 0.00026409238874609066,\n",
       "  'neg': 0.002615332778662958},\n",
       " {'i': 165,\n",
       "  'date': (2019, 5),\n",
       "  'pos': 0.00027117544730493725,\n",
       "  'neg': 0.0025941397761301515},\n",
       " {'i': 166,\n",
       "  'date': (2019, 6),\n",
       "  'pos': 0.0002614506767055893,\n",
       "  'neg': 0.002499571286987284}]"
      ]
     },
     "execution_count": 24,
     "metadata": {},
     "output_type": "execute_result"
    }
   ],
   "source": [
    "future"
   ]
  },
  {
   "cell_type": "code",
   "execution_count": null,
   "metadata": {},
   "outputs": [],
   "source": []
  }
 ],
 "metadata": {
  "kernelspec": {
   "display_name": "Python 3",
   "language": "python",
   "name": "python3"
  },
  "language_info": {
   "codemirror_mode": {
    "name": "ipython",
    "version": 3
   },
   "file_extension": ".py",
   "mimetype": "text/x-python",
   "name": "python",
   "nbconvert_exporter": "python",
   "pygments_lexer": "ipython3",
   "version": "3.6.8"
  }
 },
 "nbformat": 4,
 "nbformat_minor": 4
}
