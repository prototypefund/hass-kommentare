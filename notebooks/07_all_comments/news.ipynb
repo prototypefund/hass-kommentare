{
 "cells": [
  {
   "cell_type": "code",
   "execution_count": 1,
   "metadata": {},
   "outputs": [
    {
     "name": "stdout",
     "output_type": "stream",
     "text": [
      "--2019-08-04 14:44:43--  http://data.statmt.org/news-crawl/en/news.2017.en.shuffled.deduped.gz\n",
      "Resolving data.statmt.org (data.statmt.org)... 129.215.197.184\n",
      "Connecting to data.statmt.org (data.statmt.org)|129.215.197.184|:80... connected.\n",
      "HTTP request sent, awaiting response... 200 OK\n",
      "Length: 1387244470 (1.3G) [application/x-gzip]\n",
      "Saving to: ‘news.2017.en.shuffled.deduped.gz’\n",
      "\n",
      "news.2017.en.shuffl 100%[===================>]   1.29G  86.2MB/s    in 16s     \n",
      "\n",
      "2019-08-04 14:44:59 (83.9 MB/s) - ‘news.2017.en.shuffled.deduped.gz’ saved [1387244470/1387244470]\n",
      "\n",
      "/usr/bin/python3: No module named spacy\n"
     ]
    }
   ],
   "source": [
    "! wget http://data.statmt.org/news-crawl/en/news.2017.en.shuffled.deduped.gz\n",
    "\n",
    "! gzip -d news.2017.en.shuffled.deduped.gz\n",
    "\n",
    "! mv news.2017.en.shuffled.deduped data/\n",
    "\n",
    "! mkdir data/news2017\n",
    "\n",
    "! split -l 100000 --additional-suffix=.txt /root/data/news.2017.en.shuffled.deduped /root/data/news2017/text\n",
    "\n",
    "! python3 -m spacy download en_core_web_sm"
   ]
  },
  {
   "cell_type": "code",
   "execution_count": null,
   "metadata": {},
   "outputs": [],
   "source": []
  },
  {
   "cell_type": "code",
   "execution_count": 1,
   "metadata": {},
   "outputs": [],
   "source": [
    "import hyperhyper as hy\n",
    "import time\n",
    "import numpy as np\n",
    "import logging\n",
    "import sys\n",
    "logging.basicConfig(stream=sys.stdout, level=logging.DEBUG)"
   ]
  },
  {
   "cell_type": "code",
   "execution_count": 2,
   "metadata": {},
   "outputs": [
    {
     "name": "stderr",
     "output_type": "stream",
     "text": [
      "build up vocab:   0%|          | 1/269 [00:02<12:09,  2.72s/it]"
     ]
    },
    {
     "name": "stdout",
     "output_type": "stream",
     "text": [
      "INFO:gensim.corpora.dictionary:adding document #0 to Dictionary(0 unique tokens: [])\n"
     ]
    },
    {
     "name": "stderr",
     "output_type": "stream",
     "text": [
      "build up vocab:   2%|▏         | 5/269 [00:02<08:24,  1.91s/it]"
     ]
    },
    {
     "name": "stdout",
     "output_type": "stream",
     "text": [
      "INFO:gensim.corpora.dictionary:adding document #10000 to Dictionary(22171 unique tokens: ['a', 'an', 'attempted', 'battle', 'british']...)\n"
     ]
    },
    {
     "name": "stderr",
     "output_type": "stream",
     "text": [
      "build up vocab:   3%|▎         | 7/269 [00:03<06:17,  1.44s/it]"
     ]
    },
    {
     "name": "stdout",
     "output_type": "stream",
     "text": [
      "INFO:gensim.corpora.dictionary:adding document #20000 to Dictionary(31842 unique tokens: ['a', 'an', 'attempted', 'battle', 'british']...)\n",
      "INFO:gensim.corpora.dictionary:adding document #30000 to Dictionary(39181 unique tokens: ['a', 'an', 'attempted', 'battle', 'british']...)\n",
      "INFO:gensim.corpora.dictionary:adding document #40000 to Dictionary(45105 unique tokens: ['a', 'an', 'attempted', 'battle', 'british']...)\n",
      "INFO:gensim.corpora.dictionary:adding document #50000 to Dictionary(50118 unique tokens: ['a', 'an', 'attempted', 'battle', 'british']...)\n",
      "INFO:gensim.corpora.dictionary:adding document #60000 to Dictionary(54680 unique tokens: ['a', 'an', 'attempted', 'battle', 'british']...)\n",
      "INFO:gensim.corpora.dictionary:adding document #70000 to Dictionary(58997 unique tokens: ['a', 'an', 'attempted', 'battle', 'british']...)\n"
     ]
    },
    {
     "name": "stderr",
     "output_type": "stream",
     "text": [
      "build up vocab:   4%|▍         | 11/269 [00:05<04:42,  1.10s/it]"
     ]
    },
    {
     "name": "stdout",
     "output_type": "stream",
     "text": [
      "INFO:gensim.corpora.dictionary:adding document #80000 to Dictionary(62842 unique tokens: ['a', 'an', 'attempted', 'battle', 'british']...)\n"
     ]
    },
    {
     "name": "stderr",
     "output_type": "stream",
     "text": [
      "build up vocab:   5%|▍         | 13/269 [00:05<03:33,  1.20it/s]"
     ]
    },
    {
     "name": "stdout",
     "output_type": "stream",
     "text": [
      "INFO:gensim.corpora.dictionary:adding document #90000 to Dictionary(66501 unique tokens: ['a', 'an', 'attempted', 'battle', 'british']...)\n"
     ]
    },
    {
     "name": "stderr",
     "output_type": "stream",
     "text": [
      "build up vocab:   5%|▌         | 14/269 [00:06<02:39,  1.60it/s]"
     ]
    },
    {
     "name": "stdout",
     "output_type": "stream",
     "text": [
      "INFO:gensim.corpora.dictionary:adding document #100000 to Dictionary(69774 unique tokens: ['a', 'an', 'attempted', 'battle', 'british']...)\n",
      "INFO:gensim.corpora.dictionary:built Dictionary(69774 unique tokens: ['a', 'an', 'attempted', 'battle', 'british']...) from 100001 documents (total 2038967 corpus positions)\n",
      "INFO:gensim.corpora.dictionary:discarding 19774 tokens: [('shamansky', 1), ('triples', 1), ('archana', 1), ('digitising', 1), ('siddharth', 1), ('sloshing', 1), ('grocer', 1), ('rimmed', 1), ('disembarks', 1), ('pertly', 1)]...\n",
      "INFO:gensim.corpora.dictionary:keeping 50000 tokens which were in no less than 0 and no more than 100001 (=100.0%) documents\n",
      "DEBUG:gensim.corpora.dictionary:rebuilding dictionary, shrinking gaps\n",
      "INFO:gensim.corpora.dictionary:resulting dictionary: Dictionary(50000 unique tokens: ['a', 'an', 'attempted', 'battle', 'british']...)\n"
     ]
    },
    {
     "name": "stderr",
     "output_type": "stream",
     "text": [
      "build up vocab:   6%|▌         | 16/269 [00:07<03:18,  1.27it/s]"
     ]
    },
    {
     "name": "stdout",
     "output_type": "stream",
     "text": [
      "INFO:gensim.corpora.dictionary:adding document #0 to Dictionary(0 unique tokens: [])\n"
     ]
    },
    {
     "name": "stderr",
     "output_type": "stream",
     "text": [
      "build up vocab:   7%|▋         | 19/269 [00:10<02:53,  1.44it/s]"
     ]
    },
    {
     "name": "stdout",
     "output_type": "stream",
     "text": [
      "INFO:gensim.corpora.dictionary:adding document #10000 to Dictionary(22057 unique tokens: ['and', 'beauty', 'celebrity', 'chance', 'crimes']...)\n",
      "INFO:gensim.corpora.dictionary:adding document #20000 to Dictionary(31970 unique tokens: ['and', 'beauty', 'celebrity', 'chance', 'crimes']...)\n",
      "INFO:gensim.corpora.dictionary:adding document #30000 to Dictionary(39047 unique tokens: ['and', 'beauty', 'celebrity', 'chance', 'crimes']...)\n",
      "INFO:gensim.corpora.dictionary:adding document #40000 to Dictionary(45064 unique tokens: ['and', 'beauty', 'celebrity', 'chance', 'crimes']...)\n",
      "INFO:gensim.corpora.dictionary:adding document #50000 to Dictionary(50255 unique tokens: ['and', 'beauty', 'celebrity', 'chance', 'crimes']...)\n",
      "INFO:gensim.corpora.dictionary:adding document #60000 to Dictionary(54820 unique tokens: ['and', 'beauty', 'celebrity', 'chance', 'crimes']...)\n",
      "INFO:gensim.corpora.dictionary:adding document #70000 to Dictionary(59036 unique tokens: ['and', 'beauty', 'celebrity', 'chance', 'crimes']...)\n"
     ]
    },
    {
     "name": "stderr",
     "output_type": "stream",
     "text": [
      "build up vocab:   9%|▉         | 25/269 [00:12<02:27,  1.65it/s]"
     ]
    },
    {
     "name": "stdout",
     "output_type": "stream",
     "text": [
      "INFO:gensim.corpora.dictionary:adding document #0 to Dictionary(0 unique tokens: [])\n",
      "INFO:gensim.corpora.dictionary:adding document #80000 to Dictionary(62950 unique tokens: ['and', 'beauty', 'celebrity', 'chance', 'crimes']...)\n"
     ]
    },
    {
     "name": "stderr",
     "output_type": "stream",
     "text": [
      "build up vocab:  10%|█         | 28/269 [00:13<01:45,  2.28it/s]"
     ]
    },
    {
     "name": "stdout",
     "output_type": "stream",
     "text": [
      "INFO:gensim.corpora.dictionary:adding document #10000 to Dictionary(22375 unique tokens: ['a', 'he', 'left', 'said', 'saying']...)\n",
      "INFO:gensim.corpora.dictionary:adding document #90000 to Dictionary(66481 unique tokens: ['and', 'beauty', 'celebrity', 'chance', 'crimes']...)\n",
      "INFO:gensim.corpora.dictionary:adding document #20000 to Dictionary(32080 unique tokens: ['a', 'he', 'left', 'said', 'saying']...)\n",
      "INFO:gensim.corpora.dictionary:adding document #100000 to Dictionary(69833 unique tokens: ['and', 'beauty', 'celebrity', 'chance', 'crimes']...)\n",
      "INFO:gensim.corpora.dictionary:built Dictionary(69833 unique tokens: ['and', 'beauty', 'celebrity', 'chance', 'crimes']...) from 100001 documents (total 2045264 corpus positions)\n",
      "INFO:gensim.corpora.dictionary:discarding 19833 tokens: [('havisham', 1), ('magwitch', 1), ('chul', 1), ('attributor', 1), ('exposures', 1), ('lrem', 1), ('danziger', 1), ('drugmaker', 1), ('narcan', 1), ('binham', 1)]...\n",
      "INFO:gensim.corpora.dictionary:keeping 50000 tokens which were in no less than 0 and no more than 100001 (=100.0%) documents\n",
      "DEBUG:gensim.corpora.dictionary:rebuilding dictionary, shrinking gaps\n",
      "INFO:gensim.corpora.dictionary:resulting dictionary: Dictionary(50000 unique tokens: ['and', 'beauty', 'celebrity', 'chance', 'crimes']...)\n",
      "INFO:gensim.corpora.dictionary:adding document #30000 to Dictionary(39325 unique tokens: ['a', 'he', 'left', 'said', 'saying']...)\n"
     ]
    },
    {
     "name": "stderr",
     "output_type": "stream",
     "text": [
      "build up vocab:  12%|█▏        | 31/269 [00:13<01:34,  2.51it/s]"
     ]
    },
    {
     "name": "stdout",
     "output_type": "stream",
     "text": [
      "INFO:gensim.corpora.dictionary:adding document #40000 to Dictionary(45346 unique tokens: ['a', 'he', 'left', 'said', 'saying']...)\n",
      "INFO:gensim.corpora.dictionary:adding document #50000 to Dictionary(50600 unique tokens: ['a', 'he', 'left', 'said', 'saying']...)\n",
      "INFO:gensim.corpora.dictionary:adding document #60000 to Dictionary(54982 unique tokens: ['a', 'he', 'left', 'said', 'saying']...)\n",
      "INFO:gensim.corpora.dictionary:adding document #70000 to Dictionary(59104 unique tokens: ['a', 'he', 'left', 'said', 'saying']...)\n"
     ]
    },
    {
     "name": "stderr",
     "output_type": "stream",
     "text": [
      "build up vocab:  12%|█▏        | 32/269 [00:15<02:49,  1.40it/s]"
     ]
    },
    {
     "name": "stdout",
     "output_type": "stream",
     "text": [
      "INFO:gensim.corpora.dictionary:adding document #0 to Dictionary(0 unique tokens: [])\n",
      "INFO:gensim.corpora.dictionary:adding document #80000 to Dictionary(62944 unique tokens: ['a', 'he', 'left', 'said', 'saying']...)\n",
      "INFO:gensim.corpora.dictionary:adding document #10000 to Dictionary(22366 unique tokens: ['are', 'at', 'centre', 'disappointed', 'euronews']...)\n",
      "INFO:gensim.corpora.dictionary:adding document #90000 to Dictionary(66447 unique tokens: ['a', 'he', 'left', 'said', 'saying']...)\n",
      "INFO:gensim.corpora.dictionary:adding document #20000 to Dictionary(32030 unique tokens: ['are', 'at', 'centre', 'disappointed', 'euronews']...)\n",
      "INFO:gensim.corpora.dictionary:adding document #100000 to Dictionary(69740 unique tokens: ['a', 'he', 'left', 'said', 'saying']...)\n",
      "INFO:gensim.corpora.dictionary:built Dictionary(69740 unique tokens: ['a', 'he', 'left', 'said', 'saying']...) from 100001 documents (total 2040815 corpus positions)\n",
      "INFO:gensim.corpora.dictionary:discarding 19740 tokens: [('librarianship', 1), ('davo', 1), ('artifice', 1), ('unseld', 1), ('vedic', 1), ('boisterously', 1), ('infinitives', 1), ('irk', 1), ('pinchers', 1), ('bhith', 1)]...\n",
      "INFO:gensim.corpora.dictionary:keeping 50000 tokens which were in no less than 0 and no more than 100001 (=100.0%) documents\n",
      "INFO:gensim.corpora.dictionary:adding document #30000 to Dictionary(39335 unique tokens: ['are', 'at', 'centre', 'disappointed', 'euronews']...)\n",
      "DEBUG:gensim.corpora.dictionary:rebuilding dictionary, shrinking gaps\n",
      "INFO:gensim.corpora.dictionary:resulting dictionary: Dictionary(50000 unique tokens: ['a', 'he', 'left', 'said', 'saying']...)\n"
     ]
    },
    {
     "name": "stderr",
     "output_type": "stream",
     "text": [
      "build up vocab:  12%|█▏        | 33/269 [00:16<03:21,  1.17it/s]"
     ]
    },
    {
     "name": "stdout",
     "output_type": "stream",
     "text": [
      "INFO:gensim.corpora.dictionary:adding document #40000 to Dictionary(45202 unique tokens: ['are', 'at', 'centre', 'disappointed', 'euronews']...)\n",
      "INFO:gensim.corpora.dictionary:adding document #50000 to Dictionary(50411 unique tokens: ['are', 'at', 'centre', 'disappointed', 'euronews']...)\n",
      "INFO:gensim.corpora.dictionary:adding document #60000 to Dictionary(55056 unique tokens: ['are', 'at', 'centre', 'disappointed', 'euronews']...)\n",
      "INFO:gensim.corpora.dictionary:adding document #70000 to Dictionary(59348 unique tokens: ['are', 'at', 'centre', 'disappointed', 'euronews']...)\n",
      "INFO:gensim.corpora.dictionary:adding document #80000 to Dictionary(63345 unique tokens: ['are', 'at', 'centre', 'disappointed', 'euronews']...)\n",
      "INFO:gensim.corpora.dictionary:adding document #90000 to Dictionary(66820 unique tokens: ['are', 'at', 'centre', 'disappointed', 'euronews']...)\n",
      "INFO:gensim.corpora.dictionary:adding document #100000 to Dictionary(70309 unique tokens: ['are', 'at', 'centre', 'disappointed', 'euronews']...)\n",
      "INFO:gensim.corpora.dictionary:built Dictionary(70309 unique tokens: ['are', 'at', 'centre', 'disappointed', 'euronews']...) from 100001 documents (total 2039428 corpus positions)\n",
      "INFO:gensim.corpora.dictionary:discarding 20309 tokens: [('dapa', 1), ('jetties', 1), ('penang', 1), ('antisemitic', 1), ('warmup', 1), ('schlenk', 1), ('bbf', 1), ('overestimation', 1), ('ledezma', 1), ('aspirants', 1)]...\n",
      "INFO:gensim.corpora.dictionary:keeping 50000 tokens which were in no less than 0 and no more than 100001 (=100.0%) documents\n",
      "DEBUG:gensim.corpora.dictionary:rebuilding dictionary, shrinking gaps\n",
      "INFO:gensim.corpora.dictionary:resulting dictionary: Dictionary(50000 unique tokens: ['are', 'at', 'centre', 'disappointed', 'euronews']...)\n"
     ]
    },
    {
     "name": "stderr",
     "output_type": "stream",
     "text": [
      "build up vocab:  15%|█▍        | 40/269 [00:21<04:33,  1.19s/it]"
     ]
    },
    {
     "name": "stdout",
     "output_type": "stream",
     "text": [
      "INFO:gensim.corpora.dictionary:adding document #0 to Dictionary(0 unique tokens: [])\n",
      "INFO:gensim.corpora.dictionary:adding document #0 to Dictionary(0 unique tokens: [])\n"
     ]
    },
    {
     "name": "stderr",
     "output_type": "stream",
     "text": [
      "build up vocab:  17%|█▋        | 45/269 [00:24<02:54,  1.29it/s]"
     ]
    },
    {
     "name": "stdout",
     "output_type": "stream",
     "text": [
      "INFO:gensim.corpora.dictionary:adding document #10000 to Dictionary(22386 unique tokens: ['as', 'being', 'cheerleader', 'comfortable', 'fox']...)\n"
     ]
    },
    {
     "name": "stderr",
     "output_type": "stream",
     "text": [
      "build up vocab:  18%|█▊        | 48/269 [00:24<02:03,  1.79it/s]"
     ]
    },
    {
     "name": "stdout",
     "output_type": "stream",
     "text": [
      "INFO:gensim.corpora.dictionary:adding document #10000 to Dictionary(22323 unique tokens: ['00', '000', 'also', 'and', 'by']...)\n",
      "INFO:gensim.corpora.dictionary:adding document #20000 to Dictionary(32002 unique tokens: ['as', 'being', 'cheerleader', 'comfortable', 'fox']...)\n",
      "INFO:gensim.corpora.dictionary:adding document #20000 to Dictionary(31995 unique tokens: ['00', '000', 'also', 'and', 'by']...)\n",
      "INFO:gensim.corpora.dictionary:adding document #30000 to Dictionary(39279 unique tokens: ['as', 'being', 'cheerleader', 'comfortable', 'fox']...)\n",
      "INFO:gensim.corpora.dictionary:adding document #30000 to Dictionary(39159 unique tokens: ['00', '000', 'also', 'and', 'by']...)\n",
      "INFO:gensim.corpora.dictionary:adding document #40000 to Dictionary(45279 unique tokens: ['as', 'being', 'cheerleader', 'comfortable', 'fox']...)\n",
      "INFO:gensim.corpora.dictionary:adding document #40000 to Dictionary(45165 unique tokens: ['00', '000', 'also', 'and', 'by']...)\n",
      "INFO:gensim.corpora.dictionary:adding document #50000 to Dictionary(50434 unique tokens: ['as', 'being', 'cheerleader', 'comfortable', 'fox']...)\n",
      "INFO:gensim.corpora.dictionary:adding document #50000 to Dictionary(50182 unique tokens: ['00', '000', 'also', 'and', 'by']...)\n",
      "INFO:gensim.corpora.dictionary:adding document #60000 to Dictionary(54902 unique tokens: ['as', 'being', 'cheerleader', 'comfortable', 'fox']...)\n",
      "INFO:gensim.corpora.dictionary:adding document #60000 to Dictionary(54671 unique tokens: ['00', '000', 'also', 'and', 'by']...)\n",
      "INFO:gensim.corpora.dictionary:adding document #70000 to Dictionary(59047 unique tokens: ['as', 'being', 'cheerleader', 'comfortable', 'fox']...)\n",
      "INFO:gensim.corpora.dictionary:adding document #70000 to Dictionary(58830 unique tokens: ['00', '000', 'also', 'and', 'by']...)\n",
      "INFO:gensim.corpora.dictionary:adding document #80000 to Dictionary(62847 unique tokens: ['as', 'being', 'cheerleader', 'comfortable', 'fox']...)\n",
      "INFO:gensim.corpora.dictionary:adding document #80000 to Dictionary(62584 unique tokens: ['00', '000', 'also', 'and', 'by']...)\n",
      "INFO:gensim.corpora.dictionary:adding document #90000 to Dictionary(66407 unique tokens: ['as', 'being', 'cheerleader', 'comfortable', 'fox']...)\n",
      "INFO:gensim.corpora.dictionary:adding document #90000 to Dictionary(66204 unique tokens: ['00', '000', 'also', 'and', 'by']...)\n",
      "INFO:gensim.corpora.dictionary:adding document #100000 to Dictionary(69730 unique tokens: ['as', 'being', 'cheerleader', 'comfortable', 'fox']...)\n",
      "INFO:gensim.corpora.dictionary:built Dictionary(69730 unique tokens: ['as', 'being', 'cheerleader', 'comfortable', 'fox']...) from 100001 documents (total 2044493 corpus positions)\n",
      "INFO:gensim.corpora.dictionary:adding document #100000 to Dictionary(69639 unique tokens: ['00', '000', 'also', 'and', 'by']...)\n",
      "INFO:gensim.corpora.dictionary:built Dictionary(69639 unique tokens: ['00', '000', 'also', 'and', 'by']...) from 100001 documents (total 2042328 corpus positions)\n",
      "INFO:gensim.corpora.dictionary:discarding 19730 tokens: [('posth', 1), ('comp', 1), ('bednarek', 1), ('appomattox', 1), ('emblem', 1), ('tricolour', 1), ('revitalized', 1), ('alcácer', 1), ('discriminates', 1), ('flushes', 1)]...\n",
      "INFO:gensim.corpora.dictionary:keeping 50000 tokens which were in no less than 0 and no more than 100001 (=100.0%) documents\n",
      "DEBUG:gensim.corpora.dictionary:rebuilding dictionary, shrinking gaps\n",
      "INFO:gensim.corpora.dictionary:resulting dictionary: Dictionary(50000 unique tokens: ['as', 'being', 'cheerleader', 'comfortable', 'fox']...)\n",
      "INFO:gensim.corpora.dictionary:discarding 19639 tokens: [('prinsessan', 1), ('på', 1), ('riksmarskalken', 1), ('riksmarskalksämbetet', 1), ('sjukhus', 1), ('torsdagen', 1), ('välmående', 1), ('hospodarske', 1), ('noviny', 1), ('vouch', 1)]...\n",
      "INFO:gensim.corpora.dictionary:keeping 50000 tokens which were in no less than 0 and no more than 100001 (=100.0%) documents\n",
      "DEBUG:gensim.corpora.dictionary:rebuilding dictionary, shrinking gaps\n"
     ]
    },
    {
     "name": "stderr",
     "output_type": "stream",
     "text": [
      "build up vocab:  19%|█▊        | 50/269 [00:27<03:14,  1.12it/s]"
     ]
    },
    {
     "name": "stdout",
     "output_type": "stream",
     "text": [
      "INFO:gensim.corpora.dictionary:resulting dictionary: Dictionary(50000 unique tokens: ['00', '000', 'also', 'and', 'by']...)\n"
     ]
    },
    {
     "name": "stderr",
     "output_type": "stream",
     "text": [
      "build up vocab:  19%|█▉        | 51/269 [00:27<02:25,  1.50it/s]"
     ]
    },
    {
     "name": "stdout",
     "output_type": "stream",
     "text": [
      "INFO:gensim.corpora.dictionary:adding document #0 to Dictionary(0 unique tokens: [])\n",
      "INFO:gensim.corpora.dictionary:adding document #10000 to Dictionary(22234 unique tokens: ['adviser', 'affairs', 'an', 'and', 'at']...)\n",
      "INFO:gensim.corpora.dictionary:adding document #20000 to Dictionary(31945 unique tokens: ['adviser', 'affairs', 'an', 'and', 'at']...)\n"
     ]
    },
    {
     "name": "stderr",
     "output_type": "stream",
     "text": [
      "build up vocab:  19%|█▉        | 52/269 [00:30<04:29,  1.24s/it]"
     ]
    },
    {
     "name": "stdout",
     "output_type": "stream",
     "text": [
      "INFO:gensim.corpora.dictionary:adding document #30000 to Dictionary(39105 unique tokens: ['adviser', 'affairs', 'an', 'and', 'at']...)\n"
     ]
    },
    {
     "name": "stderr",
     "output_type": "stream",
     "text": [
      "build up vocab:  20%|██        | 54/269 [00:30<03:10,  1.13it/s]"
     ]
    },
    {
     "name": "stdout",
     "output_type": "stream",
     "text": [
      "INFO:gensim.corpora.dictionary:adding document #40000 to Dictionary(44918 unique tokens: ['adviser', 'affairs', 'an', 'and', 'at']...)\n",
      "INFO:gensim.corpora.dictionary:adding document #50000 to Dictionary(49915 unique tokens: ['adviser', 'affairs', 'an', 'and', 'at']...)\n",
      "INFO:gensim.corpora.dictionary:adding document #60000 to Dictionary(54358 unique tokens: ['adviser', 'affairs', 'an', 'and', 'at']...)\n",
      "INFO:gensim.corpora.dictionary:built Dictionary(54798 unique tokens: ['adviser', 'affairs', 'an', 'and', 'at']...) from 61082 documents (total 1247890 corpus positions)\n",
      "INFO:gensim.corpora.dictionary:discarding 4798 tokens: [('subterranean', 1), ('jeanine', 1), ('krys', 1), ('scape', 1), ('isuzu', 1), ('outselling', 1), ('suzuki', 1), ('crook', 1), ('lakesh', 1), ('buchan', 1)]...\n",
      "INFO:gensim.corpora.dictionary:keeping 50000 tokens which were in no less than 0 and no more than 61082 (=100.0%) documents\n",
      "DEBUG:gensim.corpora.dictionary:rebuilding dictionary, shrinking gaps\n",
      "INFO:gensim.corpora.dictionary:resulting dictionary: Dictionary(50000 unique tokens: ['adviser', 'affairs', 'an', 'and', 'at']...)\n"
     ]
    },
    {
     "name": "stderr",
     "output_type": "stream",
     "text": [
      "build up vocab:  22%|██▏       | 59/269 [00:31<02:25,  1.44it/s]"
     ]
    },
    {
     "name": "stdout",
     "output_type": "stream",
     "text": [
      "INFO:gensim.corpora.dictionary:adding document #0 to Dictionary(0 unique tokens: [])\n"
     ]
    },
    {
     "name": "stderr",
     "output_type": "stream",
     "text": [
      "build up vocab:  23%|██▎       | 63/269 [00:33<02:06,  1.62it/s]"
     ]
    },
    {
     "name": "stdout",
     "output_type": "stream",
     "text": [
      "INFO:gensim.corpora.dictionary:adding document #10000 to Dictionary(21873 unique tokens: ['0000', 'admitted', 'an', 'be', 'beatles']...)\n",
      "INFO:gensim.corpora.dictionary:adding document #20000 to Dictionary(31705 unique tokens: ['0000', 'admitted', 'an', 'be', 'beatles']...)\n",
      "INFO:gensim.corpora.dictionary:adding document #30000 to Dictionary(38995 unique tokens: ['0000', 'admitted', 'an', 'be', 'beatles']...)\n",
      "INFO:gensim.corpora.dictionary:adding document #40000 to Dictionary(44810 unique tokens: ['0000', 'admitted', 'an', 'be', 'beatles']...)\n"
     ]
    },
    {
     "name": "stderr",
     "output_type": "stream",
     "text": [
      "build up vocab:  25%|██▍       | 66/269 [00:34<01:49,  1.85it/s]"
     ]
    },
    {
     "name": "stdout",
     "output_type": "stream",
     "text": [
      "INFO:gensim.corpora.dictionary:adding document #50000 to Dictionary(49947 unique tokens: ['0000', 'admitted', 'an', 'be', 'beatles']...)\n",
      "INFO:gensim.corpora.dictionary:adding document #60000 to Dictionary(54625 unique tokens: ['0000', 'admitted', 'an', 'be', 'beatles']...)\n",
      "INFO:gensim.corpora.dictionary:adding document #70000 to Dictionary(58709 unique tokens: ['0000', 'admitted', 'an', 'be', 'beatles']...)\n",
      "INFO:gensim.corpora.dictionary:adding document #80000 to Dictionary(62596 unique tokens: ['0000', 'admitted', 'an', 'be', 'beatles']...)\n"
     ]
    },
    {
     "name": "stderr",
     "output_type": "stream",
     "text": [
      "build up vocab:  25%|██▍       | 67/269 [00:35<02:36,  1.29it/s]"
     ]
    },
    {
     "name": "stdout",
     "output_type": "stream",
     "text": [
      "INFO:gensim.corpora.dictionary:adding document #90000 to Dictionary(66085 unique tokens: ['0000', 'admitted', 'an', 'be', 'beatles']...)\n",
      "INFO:gensim.corpora.dictionary:adding document #100000 to Dictionary(69410 unique tokens: ['0000', 'admitted', 'an', 'be', 'beatles']...)\n",
      "INFO:gensim.corpora.dictionary:built Dictionary(69410 unique tokens: ['0000', 'admitted', 'an', 'be', 'beatles']...) from 100001 documents (total 2042275 corpus positions)\n",
      "INFO:gensim.corpora.dictionary:discarding 19410 tokens: [('mutter', 1), ('wallsy', 1), ('fission', 1), ('acci', 1), ('revitalized', 1), ('wolman', 1), ('venerate', 1), ('jehangir', 1), ('resubmit', 1), ('adamson', 1)]...\n",
      "INFO:gensim.corpora.dictionary:keeping 50000 tokens which were in no less than 0 and no more than 100001 (=100.0%) documents\n",
      "DEBUG:gensim.corpora.dictionary:rebuilding dictionary, shrinking gaps\n",
      "INFO:gensim.corpora.dictionary:resulting dictionary: Dictionary(50000 unique tokens: ['0000', 'admitted', 'an', 'be', 'beatles']...)\n"
     ]
    },
    {
     "name": "stderr",
     "output_type": "stream",
     "text": [
      "build up vocab:  50%|████▉     | 134/269 [01:04<00:51,  2.60it/s]"
     ]
    },
    {
     "name": "stdout",
     "output_type": "stream",
     "text": [
      "INFO:gensim.corpora.dictionary:adding document #0 to Dictionary(0 unique tokens: [])\n",
      "INFO:gensim.corpora.dictionary:adding document #10000 to Dictionary(22275 unique tokens: ['0', '0000', 'arsenal', 'liverpool', '000']...)\n",
      "INFO:gensim.corpora.dictionary:adding document #20000 to Dictionary(31993 unique tokens: ['0', '0000', 'arsenal', 'liverpool', '000']...)\n",
      "INFO:gensim.corpora.dictionary:adding document #30000 to Dictionary(39169 unique tokens: ['0', '0000', 'arsenal', 'liverpool', '000']...)\n",
      "INFO:gensim.corpora.dictionary:adding document #40000 to Dictionary(45129 unique tokens: ['0', '0000', 'arsenal', 'liverpool', '000']...)\n",
      "INFO:gensim.corpora.dictionary:adding document #50000 to Dictionary(50353 unique tokens: ['0', '0000', 'arsenal', 'liverpool', '000']...)\n",
      "INFO:gensim.corpora.dictionary:adding document #60000 to Dictionary(55059 unique tokens: ['0', '0000', 'arsenal', 'liverpool', '000']...)\n",
      "INFO:gensim.corpora.dictionary:adding document #70000 to Dictionary(59310 unique tokens: ['0', '0000', 'arsenal', 'liverpool', '000']...)\n",
      "INFO:gensim.corpora.dictionary:adding document #80000 to Dictionary(63209 unique tokens: ['0', '0000', 'arsenal', 'liverpool', '000']...)\n",
      "INFO:gensim.corpora.dictionary:adding document #90000 to Dictionary(66843 unique tokens: ['0', '0000', 'arsenal', 'liverpool', '000']...)\n",
      "INFO:gensim.corpora.dictionary:adding document #100000 to Dictionary(70180 unique tokens: ['0', '0000', 'arsenal', 'liverpool', '000']...)\n",
      "INFO:gensim.corpora.dictionary:built Dictionary(70180 unique tokens: ['0', '0000', 'arsenal', 'liverpool', '000']...) from 100001 documents (total 2039178 corpus positions)\n",
      "INFO:gensim.corpora.dictionary:discarding 20180 tokens: [('geithner', 1), ('nahisi', 1), ('lovin', 1), ('columbine', 1), ('littleton', 1), ('sangak', 1), ('lansley', 1), ('caddington', 1), ('vibrates', 1), ('amphitheater', 1)]...\n",
      "INFO:gensim.corpora.dictionary:keeping 50000 tokens which were in no less than 0 and no more than 100001 (=100.0%) documents\n",
      "DEBUG:gensim.corpora.dictionary:rebuilding dictionary, shrinking gaps\n",
      "INFO:gensim.corpora.dictionary:resulting dictionary: Dictionary(50000 unique tokens: ['0', '0000', 'arsenal', 'liverpool', '000']...)\n"
     ]
    },
    {
     "name": "stderr",
     "output_type": "stream",
     "text": [
      "build up vocab:  61%|██████▏   | 165/269 [01:22<01:07,  1.53it/s]"
     ]
    },
    {
     "name": "stdout",
     "output_type": "stream",
     "text": [
      "INFO:gensim.corpora.dictionary:adding document #0 to Dictionary(0 unique tokens: [])\n",
      "INFO:gensim.corpora.dictionary:adding document #0 to Dictionary(0 unique tokens: [])\n"
     ]
    },
    {
     "name": "stderr",
     "output_type": "stream",
     "text": [
      "build up vocab:  62%|██████▏   | 167/269 [01:23<00:49,  2.04it/s]"
     ]
    },
    {
     "name": "stdout",
     "output_type": "stream",
     "text": [
      "INFO:gensim.corpora.dictionary:adding document #10000 to Dictionary(22175 unique tokens: ['a', 'and', 'been', 'bit', 'but']...)\n",
      "INFO:gensim.corpora.dictionary:adding document #10000 to Dictionary(22340 unique tokens: ['agent', 'agreement', 'an', 'belgian', 'by']...)\n",
      "INFO:gensim.corpora.dictionary:adding document #20000 to Dictionary(32297 unique tokens: ['agent', 'agreement', 'an', 'belgian', 'by']...)\n",
      "INFO:gensim.corpora.dictionary:adding document #20000 to Dictionary(31828 unique tokens: ['a', 'and', 'been', 'bit', 'but']...)\n",
      "INFO:gensim.corpora.dictionary:adding document #30000 to Dictionary(39269 unique tokens: ['agent', 'agreement', 'an', 'belgian', 'by']...)\n",
      "INFO:gensim.corpora.dictionary:adding document #30000 to Dictionary(38897 unique tokens: ['a', 'and', 'been', 'bit', 'but']...)\n",
      "INFO:gensim.corpora.dictionary:adding document #40000 to Dictionary(45260 unique tokens: ['agent', 'agreement', 'an', 'belgian', 'by']...)\n",
      "INFO:gensim.corpora.dictionary:adding document #40000 to Dictionary(44753 unique tokens: ['a', 'and', 'been', 'bit', 'but']...)\n",
      "INFO:gensim.corpora.dictionary:adding document #50000 to Dictionary(50347 unique tokens: ['agent', 'agreement', 'an', 'belgian', 'by']...)\n",
      "INFO:gensim.corpora.dictionary:adding document #50000 to Dictionary(49745 unique tokens: ['a', 'and', 'been', 'bit', 'but']...)\n",
      "INFO:gensim.corpora.dictionary:adding document #60000 to Dictionary(54971 unique tokens: ['agent', 'agreement', 'an', 'belgian', 'by']...)\n",
      "INFO:gensim.corpora.dictionary:adding document #0 to Dictionary(0 unique tokens: [])\n",
      "INFO:gensim.corpora.dictionary:adding document #70000 to Dictionary(59075 unique tokens: ['agent', 'agreement', 'an', 'belgian', 'by']...)\n",
      "INFO:gensim.corpora.dictionary:adding document #60000 to Dictionary(54217 unique tokens: ['a', 'and', 'been', 'bit', 'but']...)\n",
      "INFO:gensim.corpora.dictionary:adding document #10000 to Dictionary(22416 unique tokens: ['anything', 'be', 'doesn', 'it', 'more']...)\n",
      "INFO:gensim.corpora.dictionary:adding document #80000 to Dictionary(62901 unique tokens: ['agent', 'agreement', 'an', 'belgian', 'by']...)\n",
      "INFO:gensim.corpora.dictionary:adding document #70000 to Dictionary(58433 unique tokens: ['a', 'and', 'been', 'bit', 'but']...)\n",
      "INFO:gensim.corpora.dictionary:adding document #20000 to Dictionary(31978 unique tokens: ['anything', 'be', 'doesn', 'it', 'more']...)\n",
      "INFO:gensim.corpora.dictionary:adding document #90000 to Dictionary(66452 unique tokens: ['agent', 'agreement', 'an', 'belgian', 'by']...)\n",
      "INFO:gensim.corpora.dictionary:adding document #80000 to Dictionary(62417 unique tokens: ['a', 'and', 'been', 'bit', 'but']...)\n",
      "INFO:gensim.corpora.dictionary:adding document #30000 to Dictionary(39370 unique tokens: ['anything', 'be', 'doesn', 'it', 'more']...)\n",
      "INFO:gensim.corpora.dictionary:adding document #100000 to Dictionary(69897 unique tokens: ['agent', 'agreement', 'an', 'belgian', 'by']...)\n",
      "INFO:gensim.corpora.dictionary:built Dictionary(69897 unique tokens: ['agent', 'agreement', 'an', 'belgian', 'by']...) from 100001 documents (total 2047236 corpus positions)\n",
      "INFO:gensim.corpora.dictionary:adding document #90000 to Dictionary(65991 unique tokens: ['a', 'and', 'been', 'bit', 'but']...)\n",
      "INFO:gensim.corpora.dictionary:discarding 19897 tokens: [('mccrary', 1), ('pobeda', 1), ('begrudgingly', 1), ('starward', 1), ('corneliawebb', 1), ('governess', 1), ('haining', 1), ('sudbury', 1), ('viz', 1), ('broadside', 1)]...\n",
      "INFO:gensim.corpora.dictionary:keeping 50000 tokens which were in no less than 0 and no more than 100001 (=100.0%) documents\n",
      "DEBUG:gensim.corpora.dictionary:rebuilding dictionary, shrinking gaps\n",
      "INFO:gensim.corpora.dictionary:resulting dictionary: Dictionary(50000 unique tokens: ['agent', 'agreement', 'an', 'belgian', 'by']...)\n",
      "INFO:gensim.corpora.dictionary:adding document #40000 to Dictionary(45317 unique tokens: ['anything', 'be', 'doesn', 'it', 'more']...)\n",
      "INFO:gensim.corpora.dictionary:adding document #100000 to Dictionary(69499 unique tokens: ['a', 'and', 'been', 'bit', 'but']...)\n",
      "INFO:gensim.corpora.dictionary:built Dictionary(69499 unique tokens: ['a', 'and', 'been', 'bit', 'but']...) from 100001 documents (total 2035011 corpus positions)\n",
      "INFO:gensim.corpora.dictionary:discarding 19499 tokens: [('anemos', 1), ('windflower', 1), ('shadrach', 1), ('yasiah', 1), ('placentia', 1), ('azzurro', 1), ('golfo', 1), ('daftest', 1), ('skinsticks', 1), ('nevis', 1)]...\n",
      "INFO:gensim.corpora.dictionary:keeping 50000 tokens which were in no less than 0 and no more than 100001 (=100.0%) documents\n",
      "DEBUG:gensim.corpora.dictionary:rebuilding dictionary, shrinking gaps\n",
      "INFO:gensim.corpora.dictionary:resulting dictionary: Dictionary(50000 unique tokens: ['a', 'and', 'been', 'bit', 'but']...)\n",
      "INFO:gensim.corpora.dictionary:adding document #50000 to Dictionary(50393 unique tokens: ['anything', 'be', 'doesn', 'it', 'more']...)\n"
     ]
    },
    {
     "name": "stderr",
     "output_type": "stream",
     "text": [
      "build up vocab:  63%|██████▎   | 169/269 [01:27<01:32,  1.08it/s]"
     ]
    },
    {
     "name": "stdout",
     "output_type": "stream",
     "text": [
      "INFO:gensim.corpora.dictionary:adding document #60000 to Dictionary(54975 unique tokens: ['anything', 'be', 'doesn', 'it', 'more']...)\n",
      "INFO:gensim.corpora.dictionary:adding document #70000 to Dictionary(59010 unique tokens: ['anything', 'be', 'doesn', 'it', 'more']...)\n",
      "INFO:gensim.corpora.dictionary:adding document #80000 to Dictionary(62935 unique tokens: ['anything', 'be', 'doesn', 'it', 'more']...)\n",
      "INFO:gensim.corpora.dictionary:adding document #90000 to Dictionary(66616 unique tokens: ['anything', 'be', 'doesn', 'it', 'more']...)\n",
      "INFO:gensim.corpora.dictionary:adding document #100000 to Dictionary(70018 unique tokens: ['anything', 'be', 'doesn', 'it', 'more']...)\n",
      "INFO:gensim.corpora.dictionary:built Dictionary(70018 unique tokens: ['anything', 'be', 'doesn', 'it', 'more']...) from 100001 documents (total 2049210 corpus positions)\n",
      "INFO:gensim.corpora.dictionary:discarding 20018 tokens: [('railroads', 1), ('hammondville', 1), ('newseum', 1), ('consults', 1), ('bowlo', 1), ('gqa', 1), ('bellway', 1), ('amazingness', 1), ('imitators', 1), ('pls', 1)]...\n",
      "INFO:gensim.corpora.dictionary:keeping 50000 tokens which were in no less than 0 and no more than 100001 (=100.0%) documents\n",
      "DEBUG:gensim.corpora.dictionary:rebuilding dictionary, shrinking gaps\n",
      "INFO:gensim.corpora.dictionary:resulting dictionary: Dictionary(50000 unique tokens: ['anything', 'be', 'doesn', 'it', 'more']...)\n"
     ]
    },
    {
     "name": "stderr",
     "output_type": "stream",
     "text": [
      "build up vocab:  70%|██████▉   | 188/269 [01:39<01:42,  1.27s/it]"
     ]
    },
    {
     "name": "stdout",
     "output_type": "stream",
     "text": [
      "INFO:gensim.corpora.dictionary:adding document #0 to Dictionary(0 unique tokens: [])\n"
     ]
    },
    {
     "name": "stderr",
     "output_type": "stream",
     "text": [
      "build up vocab:  71%|███████   | 191/269 [01:39<00:54,  1.44it/s]"
     ]
    },
    {
     "name": "stdout",
     "output_type": "stream",
     "text": [
      "INFO:gensim.corpora.dictionary:adding document #10000 to Dictionary(22103 unique tokens: ['a', 'ainslie', 'and', 'beside', 'boat']...)\n"
     ]
    },
    {
     "name": "stderr",
     "output_type": "stream",
     "text": [
      "build up vocab:  71%|███████▏  | 192/269 [01:39<00:41,  1.84it/s]"
     ]
    },
    {
     "name": "stdout",
     "output_type": "stream",
     "text": [
      "INFO:gensim.corpora.dictionary:adding document #20000 to Dictionary(31792 unique tokens: ['a', 'ainslie', 'and', 'beside', 'boat']...)\n",
      "INFO:gensim.corpora.dictionary:adding document #0 to Dictionary(0 unique tokens: [])\n"
     ]
    },
    {
     "name": "stderr",
     "output_type": "stream",
     "text": [
      "build up vocab:  72%|███████▏  | 193/269 [01:40<00:40,  1.90it/s]"
     ]
    },
    {
     "name": "stdout",
     "output_type": "stream",
     "text": [
      "INFO:gensim.corpora.dictionary:adding document #30000 to Dictionary(38945 unique tokens: ['a', 'ainslie', 'and', 'beside', 'boat']...)\n",
      "INFO:gensim.corpora.dictionary:adding document #10000 to Dictionary(22013 unique tokens: ['0', '00', 'jamaica', 'kingston', 'mostly']...)\n",
      "INFO:gensim.corpora.dictionary:adding document #40000 to Dictionary(44784 unique tokens: ['a', 'ainslie', 'and', 'beside', 'boat']...)\n",
      "INFO:gensim.corpora.dictionary:adding document #20000 to Dictionary(31650 unique tokens: ['0', '00', 'jamaica', 'kingston', 'mostly']...)\n",
      "INFO:gensim.corpora.dictionary:adding document #50000 to Dictionary(49990 unique tokens: ['a', 'ainslie', 'and', 'beside', 'boat']...)\n",
      "INFO:gensim.corpora.dictionary:adding document #30000 to Dictionary(38955 unique tokens: ['0', '00', 'jamaica', 'kingston', 'mostly']...)\n",
      "INFO:gensim.corpora.dictionary:adding document #60000 to Dictionary(54620 unique tokens: ['a', 'ainslie', 'and', 'beside', 'boat']...)\n",
      "INFO:gensim.corpora.dictionary:adding document #40000 to Dictionary(44799 unique tokens: ['0', '00', 'jamaica', 'kingston', 'mostly']...)\n",
      "INFO:gensim.corpora.dictionary:adding document #70000 to Dictionary(58767 unique tokens: ['a', 'ainslie', 'and', 'beside', 'boat']...)\n"
     ]
    },
    {
     "name": "stderr",
     "output_type": "stream",
     "text": [
      "build up vocab:  72%|███████▏  | 194/269 [01:42<01:04,  1.16it/s]"
     ]
    },
    {
     "name": "stdout",
     "output_type": "stream",
     "text": [
      "INFO:gensim.corpora.dictionary:adding document #50000 to Dictionary(50002 unique tokens: ['0', '00', 'jamaica', 'kingston', 'mostly']...)\n",
      "INFO:gensim.corpora.dictionary:adding document #80000 to Dictionary(62703 unique tokens: ['a', 'ainslie', 'and', 'beside', 'boat']...)\n"
     ]
    },
    {
     "name": "stderr",
     "output_type": "stream",
     "text": [
      "build up vocab:  73%|███████▎  | 196/269 [01:42<00:48,  1.51it/s]"
     ]
    },
    {
     "name": "stdout",
     "output_type": "stream",
     "text": [
      "INFO:gensim.corpora.dictionary:adding document #60000 to Dictionary(54667 unique tokens: ['0', '00', 'jamaica', 'kingston', 'mostly']...)\n",
      "INFO:gensim.corpora.dictionary:adding document #90000 to Dictionary(66343 unique tokens: ['a', 'ainslie', 'and', 'beside', 'boat']...)\n"
     ]
    },
    {
     "name": "stderr",
     "output_type": "stream",
     "text": [
      "build up vocab:  74%|███████▎  | 198/269 [01:42<00:37,  1.89it/s]"
     ]
    },
    {
     "name": "stdout",
     "output_type": "stream",
     "text": [
      "INFO:gensim.corpora.dictionary:adding document #70000 to Dictionary(58810 unique tokens: ['0', '00', 'jamaica', 'kingston', 'mostly']...)\n"
     ]
    },
    {
     "name": "stderr",
     "output_type": "stream",
     "text": [
      "build up vocab:  74%|███████▍  | 199/269 [01:43<00:28,  2.42it/s]"
     ]
    },
    {
     "name": "stdout",
     "output_type": "stream",
     "text": [
      "INFO:gensim.corpora.dictionary:adding document #100000 to Dictionary(69706 unique tokens: ['a', 'ainslie', 'and', 'beside', 'boat']...)\n",
      "INFO:gensim.corpora.dictionary:built Dictionary(69706 unique tokens: ['a', 'ainslie', 'and', 'beside', 'boat']...) from 100001 documents (total 2042540 corpus positions)\n",
      "INFO:gensim.corpora.dictionary:discarding 19706 tokens: [('grasham', 1), ('mistruths', 1), ('brassier', 1), ('ccru', 1), ('chaconne', 1), ('gulyak', 1), ('sofya', 1), ('torquil', 1), ('throughway', 1), ('diab', 1)]...\n",
      "INFO:gensim.corpora.dictionary:keeping 50000 tokens which were in no less than 0 and no more than 100001 (=100.0%) documents\n",
      "INFO:gensim.corpora.dictionary:adding document #80000 to Dictionary(62753 unique tokens: ['0', '00', 'jamaica', 'kingston', 'mostly']...)\n",
      "DEBUG:gensim.corpora.dictionary:rebuilding dictionary, shrinking gaps\n",
      "INFO:gensim.corpora.dictionary:resulting dictionary: Dictionary(50000 unique tokens: ['a', 'ainslie', 'and', 'beside', 'boat']...)\n"
     ]
    },
    {
     "name": "stderr",
     "output_type": "stream",
     "text": [
      "build up vocab:  74%|███████▍  | 200/269 [01:43<00:27,  2.50it/s]"
     ]
    },
    {
     "name": "stdout",
     "output_type": "stream",
     "text": [
      "INFO:gensim.corpora.dictionary:adding document #90000 to Dictionary(66173 unique tokens: ['0', '00', 'jamaica', 'kingston', 'mostly']...)\n",
      "INFO:gensim.corpora.dictionary:adding document #100000 to Dictionary(69596 unique tokens: ['0', '00', 'jamaica', 'kingston', 'mostly']...)\n",
      "INFO:gensim.corpora.dictionary:built Dictionary(69596 unique tokens: ['0', '00', 'jamaica', 'kingston', 'mostly']...) from 100001 documents (total 2044582 corpus positions)\n",
      "INFO:gensim.corpora.dictionary:discarding 19596 tokens: [('mizulina', 1), ('yelena', 1), ('crim', 1), ('khjn', 1), ('bmis', 1), ('accokeek', 1), ('khoury', 1), ('quids', 1), ('marron', 1), ('habitual', 1)]...\n",
      "INFO:gensim.corpora.dictionary:keeping 50000 tokens which were in no less than 0 and no more than 100001 (=100.0%) documents\n",
      "DEBUG:gensim.corpora.dictionary:rebuilding dictionary, shrinking gaps\n",
      "INFO:gensim.corpora.dictionary:resulting dictionary: Dictionary(50000 unique tokens: ['0', '00', 'jamaica', 'kingston', 'mostly']...)\n"
     ]
    },
    {
     "name": "stderr",
     "output_type": "stream",
     "text": [
      "build up vocab:  88%|████████▊ | 238/269 [02:00<00:15,  2.04it/s]"
     ]
    },
    {
     "name": "stdout",
     "output_type": "stream",
     "text": [
      "INFO:gensim.corpora.dictionary:adding document #0 to Dictionary(0 unique tokens: [])\n"
     ]
    },
    {
     "name": "stderr",
     "output_type": "stream",
     "text": [
      "build up vocab:  91%|█████████ | 244/269 [02:03<00:19,  1.26it/s]"
     ]
    },
    {
     "name": "stdout",
     "output_type": "stream",
     "text": [
      "INFO:gensim.corpora.dictionary:adding document #10000 to Dictionary(21984 unique tokens: ['dangerous', 'declined', 'family', 'interview', 'it']...)\n",
      "INFO:gensim.corpora.dictionary:adding document #20000 to Dictionary(31546 unique tokens: ['dangerous', 'declined', 'family', 'interview', 'it']...)\n",
      "INFO:gensim.corpora.dictionary:adding document #30000 to Dictionary(38819 unique tokens: ['dangerous', 'declined', 'family', 'interview', 'it']...)\n",
      "INFO:gensim.corpora.dictionary:adding document #40000 to Dictionary(44998 unique tokens: ['dangerous', 'declined', 'family', 'interview', 'it']...)\n",
      "INFO:gensim.corpora.dictionary:adding document #50000 to Dictionary(50042 unique tokens: ['dangerous', 'declined', 'family', 'interview', 'it']...)\n",
      "INFO:gensim.corpora.dictionary:adding document #60000 to Dictionary(54725 unique tokens: ['dangerous', 'declined', 'family', 'interview', 'it']...)\n",
      "INFO:gensim.corpora.dictionary:adding document #70000 to Dictionary(58940 unique tokens: ['dangerous', 'declined', 'family', 'interview', 'it']...)\n"
     ]
    },
    {
     "name": "stderr",
     "output_type": "stream",
     "text": [
      "build up vocab:  93%|█████████▎| 249/269 [02:05<00:13,  1.53it/s]"
     ]
    },
    {
     "name": "stdout",
     "output_type": "stream",
     "text": [
      "INFO:gensim.corpora.dictionary:adding document #80000 to Dictionary(62706 unique tokens: ['dangerous', 'declined', 'family', 'interview', 'it']...)\n",
      "INFO:gensim.corpora.dictionary:adding document #90000 to Dictionary(66168 unique tokens: ['dangerous', 'declined', 'family', 'interview', 'it']...)\n",
      "INFO:gensim.corpora.dictionary:adding document #100000 to Dictionary(69459 unique tokens: ['dangerous', 'declined', 'family', 'interview', 'it']...)\n",
      "INFO:gensim.corpora.dictionary:built Dictionary(69459 unique tokens: ['dangerous', 'declined', 'family', 'interview', 'it']...) from 100001 documents (total 2035200 corpus positions)\n",
      "INFO:gensim.corpora.dictionary:discarding 19459 tokens: [('insel', 1), ('irland', 1), ('touristische', 1), ('rustlers', 1), ('adroit', 1), ('killawatt', 1), ('sephora', 1), ('leaphart', 1), ('tint', 1), ('garvey', 1)]...\n",
      "INFO:gensim.corpora.dictionary:keeping 50000 tokens which were in no less than 0 and no more than 100001 (=100.0%) documents\n",
      "DEBUG:gensim.corpora.dictionary:rebuilding dictionary, shrinking gaps\n",
      "INFO:gensim.corpora.dictionary:resulting dictionary: Dictionary(50000 unique tokens: ['dangerous', 'declined', 'family', 'interview', 'it']...)\n"
     ]
    },
    {
     "name": "stderr",
     "output_type": "stream",
     "text": [
      "build up vocab: 100%|██████████| 269/269 [02:13<00:00,  2.01it/s]\n"
     ]
    },
    {
     "name": "stdout",
     "output_type": "stream",
     "text": [
      "INFO:gensim.corpora.dictionary:discarding 113326 tokens: [('sharespace', 2), ('waetford', 1), ('fae', 3), ('sleat', 1), ('verri', 2), ('frites', 5), ('preeclampsia', 5), ('barkin', 3), ('kosevich', 1), ('gualazzini', 1)]...\n",
      "INFO:gensim.corpora.dictionary:keeping 50000 tokens which were in no less than 0 and no more than 1461096 (=100.0%) documents\n",
      "DEBUG:gensim.corpora.dictionary:rebuilding dictionary, shrinking gaps\n",
      "INFO:gensim.corpora.dictionary:resulting dictionary: Dictionary(50000 unique tokens: ['a', 'an', 'attempted', 'battle', 'british']...)\n"
     ]
    },
    {
     "name": "stderr",
     "output_type": "stream",
     "text": [
      "texts to ids: 100%|██████████| 269/269 [01:42<00:00,  2.47it/s]\n"
     ]
    },
    {
     "name": "stdout",
     "output_type": "stream",
     "text": [
      "INFO:gensim.utils:saving Corpus object under /root/data/bunches/news2017/corpus.pkl, separately None\n",
      "DEBUG:smart_open.smart_open_lib:{'transport_params': None, 'ignore_ext': False, 'opener': None, 'closefd': True, 'newline': None, 'errors': None, 'encoding': None, 'buffering': -1, 'mode': 'wb', 'uri': '/root/data/bunches/news2017/corpus.pkl'}\n",
      "INFO:gensim.utils:saved /root/data/bunches/news2017/corpus.pkl\n"
     ]
    }
   ],
   "source": [
    "c = hy.Corpus.from_text_files('/root/data/news2017', preproc_func=hy.preprocessing.tokenize_texts, view_fraction=0.05)\n",
    "bunch = hy.Bunch('/root/data/bunches/news2017', c)"
   ]
  },
  {
   "cell_type": "code",
   "execution_count": 4,
   "metadata": {},
   "outputs": [
    {
     "name": "stdout",
     "output_type": "stream",
     "text": [
      "DEBUG:hyperhyper.bunch:looking up the file: /root/data/bunches/news2017/svd/cds_0.75_dim_500_impl_scipy_neg_1_subsample_factor_7e-05.npz\n"
     ]
    },
    {
     "name": "stderr",
     "output_type": "stream",
     "text": [
      "generating pairs:   0%|          | 0/269 [00:00<?, ?it/s]"
     ]
    },
    {
     "name": "stdout",
     "output_type": "stream",
     "text": [
      "creating new svd\n",
      "create new pmi\n",
      "create new pair counts\n"
     ]
    },
    {
     "name": "stderr",
     "output_type": "stream",
     "text": [
      "generating pairs: 100%|██████████| 269/269 [10:05<00:00,  1.18s/it]"
     ]
    },
    {
     "name": "stdout",
     "output_type": "stream",
     "text": [
      "INFO:hyperhyper.pair_counts:creating subsampler matrix\n"
     ]
    },
    {
     "name": "stderr",
     "output_type": "stream",
     "text": [
      "\n"
     ]
    },
    {
     "name": "stdout",
     "output_type": "stream",
     "text": [
      "subsampling applied to 0.30208 of the tokens\n",
      "INFO:hyperhyper.pair_counts:multiply elementwise: start\n",
      "INFO:hyperhyper.pair_counts:multiply elementwise: done\n"
     ]
    },
    {
     "name": "stderr",
     "output_type": "stream",
     "text": [
      "/root/code/hyperhyper/hyperhyper/pmi.py:18: RuntimeWarning: divide by zero encountered in reciprocal\n",
      "  sum_w = np.reciprocal(sum_w)\n",
      "/root/code/hyperhyper/hyperhyper/pmi.py:19: RuntimeWarning: divide by zero encountered in reciprocal\n",
      "  sum_c = np.reciprocal(sum_c)\n"
     ]
    },
    {
     "name": "stdout",
     "output_type": "stream",
     "text": [
      "INFO:hyperhyper.bunch:pmi took 7.41 seconds\n",
      "INFO:hyperhyper.bunch:matrix saved\n",
      "INFO:hyperhyper.bunch:svd took 8.98 minutes\n",
      "INFO:hyperhyper.bunch:svd arrays saved\n",
      "svd\n",
      "INFO:alembic.runtime.migration:Context impl SQLiteImpl.\n",
      "INFO:alembic.runtime.migration:Will assume non-transactional DDL.\n",
      "INFO:alembic.runtime.migration:Context impl SQLiteImpl.\n",
      "INFO:alembic.runtime.migration:Will assume non-transactional DDL.\n",
      "INFO:alembic.runtime.migration:Context impl SQLiteImpl.\n",
      "INFO:alembic.runtime.migration:Will assume non-transactional DDL.\n",
      "INFO:alembic.runtime.migration:Context impl SQLiteImpl.\n",
      "INFO:alembic.runtime.migration:Will assume non-transactional DDL.\n",
      "INFO:alembic.runtime.migration:Context impl SQLiteImpl.\n",
      "INFO:alembic.runtime.migration:Will assume non-transactional DDL.\n",
      "INFO:alembic.runtime.migration:Context impl SQLiteImpl.\n",
      "INFO:alembic.runtime.migration:Will assume non-transactional DDL.\n"
     ]
    },
    {
     "data": {
      "text/plain": [
       "(<hyperhyper.svd.SVDEmbedding at 0x7f60f0e18048>,\n",
       " {'micro': 0.41713882674982483,\n",
       "  'macro': 0.567840990209923,\n",
       "  'results': [{'name': 'bruni_men',\n",
       "    'score': 0.31484726092134,\n",
       "    'oov': 0.009,\n",
       "    'fullscore': 0.31201363557304795},\n",
       "   {'name': 'ws353_relatedness',\n",
       "    'score': 0.6053266553322091,\n",
       "    'oov': 0.003968253968253968,\n",
       "    'fullscore': 0.6029245654300972},\n",
       "   {'name': 'luong_rare',\n",
       "    'score': 0.5146045862741475,\n",
       "    'oov': 0.6833824975417896,\n",
       "    'fullscore': 0.16293281885966124},\n",
       "   {'name': 'radinsky_mturk',\n",
       "    'score': 0.5983921051518442,\n",
       "    'oov': 0.013937282229965157,\n",
       "    'fullscore': 0.5900521454981599},\n",
       "   {'name': 'ws353_similarity',\n",
       "    'score': 0.7152954822894834,\n",
       "    'oov': 0.024630541871921183,\n",
       "    'fullscore': 0.6976773669621562},\n",
       "   {'name': 'ws353',\n",
       "    'score': 0.6585798512905141,\n",
       "    'oov': 0.0169971671388102,\n",
       "    'fullscore': 0.6473858594838765}]})"
      ]
     },
     "execution_count": 4,
     "metadata": {},
     "output_type": "execute_result"
    }
   ],
   "source": [
    "bunch.svd(pair_args={'subsample_factor': 7e-5})"
   ]
  },
  {
   "cell_type": "code",
   "execution_count": null,
   "metadata": {},
   "outputs": [],
   "source": []
  }
 ],
 "metadata": {
  "kernelspec": {
   "display_name": "Python 3",
   "language": "python",
   "name": "python3"
  },
  "language_info": {
   "codemirror_mode": {
    "name": "ipython",
    "version": 3
   },
   "file_extension": ".py",
   "mimetype": "text/x-python",
   "name": "python",
   "nbconvert_exporter": "python",
   "pygments_lexer": "ipython3",
   "version": "3.6.7"
  }
 },
 "nbformat": 4,
 "nbformat_minor": 4
}
